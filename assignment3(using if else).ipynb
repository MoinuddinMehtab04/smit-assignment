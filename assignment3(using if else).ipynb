{
 "cells": [
  {
   "cell_type": "markdown",
   "id": "691487f4-3d26-470f-9fcb-430f25363dda",
   "metadata": {},
   "source": [
    "# A) DISCOUNT AND PRICING"
   ]
  },
  {
   "cell_type": "markdown",
   "id": "fce7e6d7-2e9c-4448-9426-9ca895108425",
   "metadata": {},
   "source": [
    "## 1) CHECK DICOUNT ELIGIBILITY\n",
    "- Write a program to check if a customer is eligible for a discount. If the total purchase is more than $100, apply a 10% discount and display the final price. Otherwise, display the total price as it is.\n",
    "\n"
   ]
  },
  {
   "cell_type": "code",
   "execution_count": 7,
   "id": "002648e8-98a2-4b2a-88fc-f060885f933b",
   "metadata": {},
   "outputs": [
    {
     "name": "stdin",
     "output_type": "stream",
     "text": [
      "ENTER THE TOTAL AMOUNT OF BILL: 3000\n"
     ]
    },
    {
     "name": "stdout",
     "output_type": "stream",
     "text": [
      " TOTAL AMOUNT WITHOUT DISCOUNT:3000\n",
      "AMOUNT TO PAY AFTER DISCOUNT:2700.0\n"
     ]
    }
   ],
   "source": [
    "amount = int(input('ENTER THE TOTAL AMOUNT OF BILL:'))\n",
    "if amount > 2000:\n",
    "    discount = amount*0.10\n",
    "    net_amount = amount - discount\n",
    "    print (f\" TOTAL AMOUNT WITHOUT DISCOUNT:{amount}\")\n",
    "    print(f\"AMOUNT TO PAY AFTER DISCOUNT:{net_amount}\")\n",
    "else:\n",
    "    print(f\"AMOUNT TO PAY:{amount}\")\n",
    "\n",
    "                            "
   ]
  },
  {
   "cell_type": "markdown",
   "id": "57059881-b700-41ed-93c8-38b8bb16848c",
   "metadata": {},
   "source": [
    "## 2.\tCalculate Bulk Discount\n",
    " - If a customer buys more than 5 items, apply a 15% discount on the total price. Otherwise, no discount is applied. Display the total price.\n",
    "\n"
   ]
  },
  {
   "cell_type": "code",
   "execution_count": 12,
   "id": "733335f2-1e77-4332-a461-87bcf3c4bc36",
   "metadata": {},
   "outputs": [
    {
     "name": "stdin",
     "output_type": "stream",
     "text": [
      "ENTER THE NUMBERS OF ITEMS:- 7\n",
      "ENTER THE TOTAL AMOUNT OF ITEMS:- 6000\n"
     ]
    },
    {
     "name": "stdout",
     "output_type": "stream",
     "text": [
      "TOTAL AMOUNT WITHOUT DISCOUNT:- 6000\n",
      "AMOUNT TO PAY AFTER DISCOUNT:- 5100.0\n"
     ]
    }
   ],
   "source": [
    "items = int (input(\"ENTER THE NUMBERS OF ITEMS:-\"))\n",
    "amount = int (input(\"ENTER THE TOTAL AMOUNT OF ITEMS:-\"))\n",
    "if items > 5:\n",
    "    discount = amount*0.15\n",
    "    net_amount = amount-discount\n",
    "    print(\"TOTAL AMOUNT WITHOUT DISCOUNT:-\",amount)\n",
    "    print(\"AMOUNT TO PAY AFTER DISCOUNT:-\",net_amount)\n",
    "else:\n",
    "    print(f\"AMOUNT TO PAY:-{amount}\")"
   ]
  },
  {
   "cell_type": "markdown",
   "id": "4d993720-8989-4793-b111-7e8df8fad56b",
   "metadata": {},
   "source": [
    "## 3.\tMembership Discount\n",
    " - Check if the customer is a member (is_member = True). Members get a 20% discount; non-members get a 5% discount. Calculate and print the discounted price.\n",
    "\n"
   ]
  },
  {
   "cell_type": "code",
   "execution_count": 7,
   "id": "e048158b-0579-46d5-a3cf-7ac41a865d24",
   "metadata": {},
   "outputs": [
    {
     "name": "stdin",
     "output_type": "stream",
     "text": [
      "ENTER THE TOTAL AMOUNT 6000\n",
      "are you a member yes or no yes\n"
     ]
    },
    {
     "name": "stdout",
     "output_type": "stream",
     "text": [
      "you are our membership customer so you get 20% discount\n",
      "AMOUNT TO PAY :- 4800.0\n"
     ]
    }
   ],
   "source": [
    "amt= int(input(\"ENTER THE TOTAL AMOUNT\"))\n",
    "member_check =input('are you a member yes or no')\n",
    "if member_check == 'yes' :\n",
    "    discount = amt *0.20\n",
    "    net_amt = amt - discount\n",
    "    print(\"you are our membership customer so you get 20% discount\")\n",
    "    print(\"AMOUNT TO PAY :-\",net_amt)\n",
    "else :\n",
    "    member_check == 'no'\n",
    "    discount = amt *0.05\n",
    "    net_amt = amt - discount\n",
    "    print(\"AMOUNT TO PAY AFTER DISCOUNT\",net_amt)\n",
    "    \n",
    "    "
   ]
  },
  {
   "cell_type": "markdown",
   "id": "0bef6085-fa5b-435c-9e0c-3a30c5edd63c",
   "metadata": {},
   "source": [
    "## 4.\tSeasonal Sale\n",
    "- If today is a holiday (is_holiday = True), apply a 25% discount; otherwise, apply a 10% discount. Calculate the price after discount.\n"
   ]
  },
  {
   "cell_type": "code",
   "execution_count": 16,
   "id": "976a205f-a37c-4dc3-8f2b-4b2944e921ae",
   "metadata": {},
   "outputs": [
    {
     "name": "stdin",
     "output_type": "stream",
     "text": [
      "ENTER THE TOTAL AMOUNT OF BILL 10000\n",
      "ENETR TODAY IS HOLIDAY OR NOT:-YES OR NO yes\n"
     ]
    },
    {
     "name": "stdout",
     "output_type": "stream",
     "text": [
      "YUP! , TODAY IS HOLIDAY SO  YOU GET 25% DISCOUNT\n",
      "AMOUNT TO PAY  7500.0\n"
     ]
    }
   ],
   "source": [
    "amt = int (input(\"ENTER THE TOTAL AMOUNT OF BILL\"))\n",
    "holiday = input (\"ENETR TODAY IS HOLIDAY OR NOT:-YES OR NO\")\n",
    "if holiday == \"yes\":\n",
    "    discount = amt*0.25\n",
    "    net_amt = amt - discount\n",
    "    print ('YUP! , TODAY IS HOLIDAY SO  YOU GET 25% DISCOUNT')\n",
    "    print (\"AMOUNT TO PAY \",net_amt)\n",
    "else:\n",
    "    holiday == \"no\"\n",
    "    iscount = amt*0.10\n",
    "    net_amt = amt - discount\n",
    "    print (\"AMOUNT TO PAY \",net_amt)"
   ]
  },
  {
   "cell_type": "markdown",
   "id": "068dff90-0d07-4af0-92e4-259c56e2d372",
   "metadata": {},
   "source": [
    "## 5.\tBuy-One-Get-One-Free\n",
    "- If a customer buys an even number of items, they get half of them for free. Otherwise, they pay for all. Calculate the number of items the customer has to pay for.\n"
   ]
  },
  {
   "cell_type": "code",
   "execution_count": 9,
   "id": "21e0aea7-ed4b-4ee3-853e-f1920d747925",
   "metadata": {},
   "outputs": [
    {
     "name": "stdin",
     "output_type": "stream",
     "text": [
      "ENTER THE NUMBERS OF ITEMS 33\n",
      "ENTER THE TOTAL AMOUNT OF ITEMS 5000\n"
     ]
    },
    {
     "name": "stdout",
     "output_type": "stream",
     "text": [
      "AMOUNT TO PAY:-5000\n"
     ]
    }
   ],
   "source": [
    "items = int (input(\"ENTER THE NUMBERS OF ITEMS\"))\n",
    "amt = int(input(\"ENTER THE TOTAL AMOUNT OF ITEMS\"))\n",
    "if items %2==0:\n",
    "    discount = amt*0.50\n",
    "    net_amount = amt-discount\n",
    "    print(\"TOTAL AMOUNT WITHOUT DISCOUNT:-\",amt)\n",
    "    print(\"AMOUNT TO PAY AFTER DISCOUNT:-\",net_amount)\n",
    "else:\n",
    "    print(f\"AMOUNT TO PAY:-{amt}\")"
   ]
  },
  {
   "cell_type": "markdown",
   "id": "97fad816-9e08-4340-9060-69b592608618",
   "metadata": {},
   "source": [
    "# B-\tTax Calculations"
   ]
  },
  {
   "cell_type": "markdown",
   "id": "619ed895-2d11-40c9-bc76-b68962918097",
   "metadata": {},
   "source": [
    "## 1.\tSales Tax\n",
    " - If the price of an item is greater than $500, apply a luxury tax of 15%. Otherwise, apply a standard tax of 8%. Display the total price after tax.\n"
   ]
  },
  {
   "cell_type": "code",
   "execution_count": 24,
   "id": "68f7ed29-7611-4474-8948-e53920ea7089",
   "metadata": {},
   "outputs": [
    {
     "name": "stdin",
     "output_type": "stream",
     "text": [
      "ENTER THE TOTAL AMOUNT OF ITEMS 25000\n"
     ]
    },
    {
     "name": "stdout",
     "output_type": "stream",
     "text": [
      "YOUR BILL WITH TAX:- 28750.0\n"
     ]
    }
   ],
   "source": [
    "amt = int(input(\"ENTER THE TOTAL AMOUNT OF ITEMS\"))\n",
    "if amt >15000:\n",
    "    tax = amt*0.15\n",
    "    net_amount = amt+tax\n",
    "    print(\"YOUR BILL WITH TAX:-\",net_amount)\n",
    "else:\n",
    "    tax  = amt*0.08\n",
    "    net_amount = amt+tax\n",
    "    print(f\"AMOUNT TO PAY WITH TAX:-{net_amount}\")"
   ]
  },
  {
   "cell_type": "markdown",
   "id": "35f3c495-a782-496b-903c-4177ea173f06",
   "metadata": {},
   "source": [
    "## 2.\tIncome Tax\n",
    " - If a person's annual income is above $50,000, they pay 20% tax. Otherwise, they pay 10%. Calculate and display the tax amount.\n"
   ]
  },
  {
   "cell_type": "code",
   "execution_count": 37,
   "id": "a283bb57-849b-4211-a8bb-9d7581d032c0",
   "metadata": {},
   "outputs": [
    {
     "name": "stdin",
     "output_type": "stream",
     "text": [
      "ENTER YOUR ANNUAL INCOME:- 100000\n"
     ]
    },
    {
     "name": "stdout",
     "output_type": "stream",
     "text": [
      "TAX TO BE PAID :- 20000.0\n"
     ]
    }
   ],
   "source": [
    "annual_income = int (input(\"ENTER YOUR ANNUAL INCOME:-\"))\n",
    "if annual_income >50000 :\n",
    "    tax = annual_income*0.20\n",
    "    print(\"TAX TO BE PAID :-\",tax)\n",
    "else :\n",
    "    tax = annual_income*0.10\n",
    "    print (\"TAX TO BE PAID :-\",tax)\n"
   ]
  },
  {
   "cell_type": "markdown",
   "id": "197719b2-a3ff-4066-8f1a-6a5115fab3e0",
   "metadata": {},
   "source": [
    "## 3.\tTax Bracket\n",
    "- Write a program to categorize a person into tax brackets:\n",
    "\t-  Income < $30,000: \"Low Tax\"\n",
    "\t-  $30,000 ≤ Income < $100,000: \"Medium Tax\"\n",
    "\t-  Income ≥ $100,000: \"High Tax\"\n",
    "\n"
   ]
  },
  {
   "cell_type": "code",
   "execution_count": 45,
   "id": "3dca2808-be84-424c-873b-d56373a79d52",
   "metadata": {},
   "outputs": [
    {
     "name": "stdin",
     "output_type": "stream",
     "text": [
      "ENTER YOUR  INCOME 120000\n"
     ]
    },
    {
     "name": "stdout",
     "output_type": "stream",
     "text": [
      "YOUR IN COME IS 120000\n",
      "TAX CATOGERIES:- HIGH  TAX!!\n"
     ]
    }
   ],
   "source": [
    "income = int (input (\"ENTER YOUR  INCOME\"))\n",
    "if income <= 30000:\n",
    "    print('YOUR IN COME IS',income)\n",
    "    print (\"TAX CATOGERIES:-\",'LOW TAX!!' )\n",
    "elif income < 100000:\n",
    "    print('YOUR IN COME IS',income)\n",
    "    print (\"TAX CATOGERIES:-\",'MEDIUM TAX!!' )\n",
    "else:\n",
    "    income >= 100000\n",
    "    print('YOUR IN COME IS',income)\n",
    "    print (\"TAX CATOGERIES:-\",'HIGH  TAX!!' )\n",
    "    "
   ]
  },
  {
   "cell_type": "markdown",
   "id": "58d80330-9723-4523-ad20-de72a2b258fc",
   "metadata": {},
   "source": [
    "## 4.\tVAT Calculation\n",
    "- If the item is marked as essential (is_essential = True), apply a VAT of 5%. Otherwise, apply a VAT of 12%. Display the final price.\n"
   ]
  },
  {
   "cell_type": "code",
   "execution_count": 60,
   "id": "0a54fed6-a03b-4f93-a160-7d5e9d578f42",
   "metadata": {},
   "outputs": [
    {
     "name": "stdin",
     "output_type": "stream",
     "text": [
      "ENTER THE TOTAL AMOUNT OF ITEMS : 5000\n",
      "ENTER THE ITEM IS ESSENTIAL OR NOT  YES/NO:- yes\n"
     ]
    },
    {
     "name": "stdout",
     "output_type": "stream",
     "text": [
      "AMOUNT TO PAY WITH TAX :- 5250.0\n"
     ]
    }
   ],
   "source": [
    "item = int(input(\"ENTER THE TOTAL AMOUNT OF ITEMS :\"))\n",
    "essential = input('ENTER THE ITEM IS ESSENTIAL OR NOT  YES/NO:-')\n",
    "if essential == 'yes':\n",
    "    vat = item*0.05\n",
    "    amt = item + vat\n",
    "    print (\"AMOUNT TO PAY WITH TAX :-\",amt)\n",
    "else:\n",
    "    essential == 'no'\n",
    "    vat = item *0.12\n",
    "    amt = item + vat\n",
    "    print (\"AMOUNT TO PAY WITH TAX:-\",amt)"
   ]
  },
  {
   "cell_type": "markdown",
   "id": "9d7558e7-c9d7-40a0-b251-1e2a579d7b87",
   "metadata": {},
   "source": [
    "## 5.\tTax-Free Day\n",
    " - If today is a tax-free day (tax_free = True), display the original price. Otherwise, add a 7% tax.\n"
   ]
  },
  {
   "cell_type": "code",
   "execution_count": 68,
   "id": "b256c844-9b5b-4b43-9b00-5971182de7db",
   "metadata": {},
   "outputs": [
    {
     "name": "stdin",
     "output_type": "stream",
     "text": [
      "ENTER THE TOTAL AMOUNT OF ITEMS 6000\n",
      "ENTER TODAY IS TAX FREE DAY OR NOT YES/NO :- yes\n"
     ]
    },
    {
     "name": "stdout",
     "output_type": "stream",
     "text": [
      "YUP! TODAY IS TAX FREE DAY\n",
      "AMOUNT TO PAY WITHOUT TAX 6000\n"
     ]
    }
   ],
   "source": [
    "amt = int (input(\"ENTER THE TOTAL AMOUNT OF ITEMS\"))\n",
    "tax_free = input (\"ENTER TODAY IS TAX FREE DAY OR NOT YES/NO :-\")\n",
    "if tax_free == 'yes':\n",
    "    print (\"YUP! TODAY IS TAX FREE DAY\")\n",
    "    print (\"AMOUNT TO PAY WITHOUT TAX\",amt)\n",
    "else:\n",
    "    tax_free = 'no'\n",
    "    tax =  amt*0.07\n",
    "    total = amt + tax\n",
    "    print(\"AMOUNT TO PAY WITH TAX\",total)"
   ]
  },
  {
   "cell_type": "markdown",
   "id": "ce743140-16e9-4ce9-8e91-ed4ed67430e5",
   "metadata": {},
   "source": [
    "# C-\tShopping and Billing"
   ]
  },
  {
   "cell_type": "markdown",
   "id": "d2df06fe-020b-4fbf-b6f1-34573b04175d",
   "metadata": {},
   "source": [
    "## 1.\tFree Shipping\n",
    "- If the total purchase amount is more than $50, offer free shipping; otherwise, charge $5 for shipping. Display the total amount including shipping.\n"
   ]
  },
  {
   "cell_type": "code",
   "execution_count": 74,
   "id": "eed14ee6-b761-45d1-b550-074f681cf564",
   "metadata": {},
   "outputs": [
    {
     "name": "stdin",
     "output_type": "stream",
     "text": [
      "ENTER THE TOTAL AMOUNT OF ITEMS 300\n"
     ]
    },
    {
     "name": "stdout",
     "output_type": "stream",
     "text": [
      "AMOUNT TO PAY WITH SHIPPING CHARGES:- 500\n"
     ]
    }
   ],
   "source": [
    "amt = int (input(\"ENTER THE TOTAL AMOUNT OF ITEMS\"))\n",
    "if amt >=1000:\n",
    "    print (\"YOUR SHIPPING IS FREE\")\n",
    "    print (\"AMOUNT YO PAY:-\",amt)\n",
    "else:\n",
    "    shipping_charges = 200\n",
    "    total = amt + shipping_charges\n",
    "    print(\"AMOUNT TO PAY WITH SHIPPING CHARGES:-\",total)"
   ]
  },
  {
   "cell_type": "markdown",
   "id": "7690becb-f73c-4711-9f13-8774f8d968f3",
   "metadata": {},
   "source": [
    "## 2.\tDiscount Code\n",
    "- If a customer enters the correct discount code (DISCOUNT10), apply a 10% discount. Otherwise, charge the full amount.\n"
   ]
  },
  {
   "cell_type": "code",
   "execution_count": 85,
   "id": "4a9edd2c-6fad-426a-b72e-e06742eeaf20",
   "metadata": {},
   "outputs": [
    {
     "name": "stdin",
     "output_type": "stream",
     "text": [
      "ENTER THE TOTAL AMOUNT OF ITEMS: 10000\n",
      "ENTER THE DISCOUNT CODE 10\n"
     ]
    },
    {
     "name": "stdout",
     "output_type": "stream",
     "text": [
      "CONGRATULATION! YOU ENTER THE RIGHT CODE AND YOU GET 10% DISCOUNT\n",
      "AMOUNT TO PAY WITH DISCOUNT: 9000.0\n"
     ]
    }
   ],
   "source": [
    "discount_code = 10\n",
    "amt = int (input (\"ENTER THE TOTAL AMOUNT OF ITEMS:\"))\n",
    "code = int (input('ENTER THE DISCOUNT CODE'))\n",
    "if code is discount_code:\n",
    "    discount = amt*0.10\n",
    "    total = amt - discount\n",
    "    print(\"CONGRATULATION! YOU ENTER THE RIGHT CODE AND YOU GET 10% DISCOUNT\")\n",
    "    print(\"AMOUNT TO PAY WITH DISCOUNT:\",total)\n",
    "else :\n",
    "    code is not discount_code\n",
    "    print(\"SORRY! YOU ENTER THE WRONG CODE\")\n",
    "    print(\"AMOUNT TO PAY WITH DISCOUNT:\",amt)\n",
    "    "
   ]
  },
  {
   "cell_type": "markdown",
   "id": "9329d54f-08c8-444f-a1c8-229a821afe07",
   "metadata": {},
   "source": [
    "## 3.\tTiered Discounts\n",
    "- Apply discounts based on the total price:\n",
    "       - $0–$50: No discount.\n",
    "\t   - $50–$100: 10% discount.\n",
    "\t   - Over $100: 20% discount.\n",
    "\n"
   ]
  },
  {
   "cell_type": "code",
   "execution_count": 95,
   "id": "a732ce9c-d8b0-49ab-a3ae-c4c79ed42966",
   "metadata": {},
   "outputs": [
    {
     "name": "stdin",
     "output_type": "stream",
     "text": [
      "ENTER THE TOTAL AMOUNT OF BILL 2500\n"
     ]
    },
    {
     "name": "stdout",
     "output_type": "stream",
     "text": [
      "AMOUNT TO PAY WITH DISCOUNT 2000.0\n"
     ]
    }
   ],
   "source": [
    "price = int (input(\"ENTER THE TOTAL AMOUNT OF BILL\"))\n",
    "if price < 500:\n",
    "    print (\"AMOUNT TO PAY:-\",price)\n",
    "elif price <=1000:\n",
    "    dis = price*0.10\n",
    "    total = price - dis\n",
    "    print(\"AMOUNT TO PAY WITH DISCOUNT\",total)\n",
    "else:\n",
    "    price > 1000\n",
    "    dis = price*0.20\n",
    "    total = price - dis\n",
    "    print(\"AMOUNT TO PAY WITH DISCOUNT\",total)\n",
    "    "
   ]
  },
  {
   "cell_type": "markdown",
   "id": "a7a90dee-3103-4ab9-870b-5da641c28d1a",
   "metadata": {},
   "source": [
    "## 4.\tMinimum Purchase Requirement\n",
    "- If the total amount is less than $20, display a message: \"Minimum purchase of $20 is required.\" Otherwise, display the total amount.\n"
   ]
  },
  {
   "cell_type": "code",
   "execution_count": 102,
   "id": "e7bbc946-ac12-4c0e-8d18-471e76c0c2f3",
   "metadata": {},
   "outputs": [
    {
     "name": "stdin",
     "output_type": "stream",
     "text": [
      "ENTER THE TOTAL AMOUNT:- 900\n"
     ]
    },
    {
     "name": "stdout",
     "output_type": "stream",
     "text": [
      "MINIMUM PURCHASE OF 1000 IS REQUIRED\n"
     ]
    }
   ],
   "source": [
    "amount = int (input(\"ENTER THE TOTAL AMOUNT:-\"))\n",
    "if amount < 1000:\n",
    "    print (\"MINIMUM PURCHASE OF 1000 IS REQUIRED\")\n",
    "else :\n",
    "    print  (\"AMOUNT TO PAY:\",amount)"
   ]
  },
  {
   "cell_type": "markdown",
   "id": "3edf77bc-ad46-47dc-958a-e98bd206efaa",
   "metadata": {},
   "source": [
    "## 5.\tLoyalty Points\n",
    "- If a customer is a loyal member (is_loyal = True), they earn double loyalty points for their purchase. Otherwise, they earn standard points.\n",
    "\n"
   ]
  },
  {
   "cell_type": "code",
   "execution_count": 111,
   "id": "7e7e62ee-57f1-4a4c-912b-c036368ba4b0",
   "metadata": {},
   "outputs": [
    {
     "name": "stdin",
     "output_type": "stream",
     "text": [
      "ENTER YOU ARE A LOYAL MEMBER YES/NO: yes\n"
     ]
    },
    {
     "name": "stdout",
     "output_type": "stream",
     "text": [
      "CONGRATULATION! YOU WIN 1000 loyality points\n"
     ]
    }
   ],
   "source": [
    "loyality_points = 500\n",
    "standard_points = 100\n",
    "loyality = input (\"ENTER YOU ARE A LOYAL MEMBER YES/NO:\")\n",
    "if loyality == 'yes':\n",
    "    total_points = loyality_points*2\n",
    "    print(f\"CONGRATULATION! YOU WIN {total_points} loyality points\")\n",
    "else:\n",
    "    loyality == 'no'\n",
    "    print(\"YOUR TOTAL POINTS is :-\",standard_points  )\n",
    "    \n"
   ]
  },
  {
   "cell_type": "markdown",
   "id": "4a772d22-515f-49a3-9995-f0dbd9641076",
   "metadata": {},
   "source": [
    "# D-\tTravel and Tickets"
   ]
  },
  {
   "cell_type": "markdown",
   "id": "711d9815-ef7f-4caf-8f4a-1710d4bc2e72",
   "metadata": {},
   "source": [
    "## 1.\tTravel Discount\n",
    "- If a person is traveling more than 500 miles, offer a 20% discount on ticket price. Otherwise, charge the full amount.\n",
    "\n"
   ]
  },
  {
   "cell_type": "code",
   "execution_count": 119,
   "id": "2e1c7363-9392-4213-88b2-d9f380a65e63",
   "metadata": {},
   "outputs": [
    {
     "name": "stdin",
     "output_type": "stream",
     "text": [
      "ENTER THE DISTANCE OF TRAVEL IN MILES: 900\n"
     ]
    },
    {
     "name": "stdout",
     "output_type": "stream",
     "text": [
      "CONGRATULATIONS! YOU GET A 20% DISCOUNT\n",
      "AMOUNT TO PAY WITH DISCOUNT: 1600.0\n"
     ]
    }
   ],
   "source": [
    "ticket_amount = 2000\n",
    "miles = int (input(\"ENTER THE DISTANCE OF TRAVEL IN MILES:\"))\n",
    "if miles > 500:\n",
    "    amt=ticket_amount*0.20\n",
    "    total = ticket_amount - amt\n",
    "    print (\"CONGRATULATIONS! YOU GET A 20% DISCOUNT\")\n",
    "    print (\"AMOUNT TO PAY WITH DISCOUNT:\",total)\n",
    "else : \n",
    "     print (\"AMOUNT TO PAY :\",ticket_amount)\n",
    "    \n",
    "    \n",
    "       "
   ]
  },
  {
   "cell_type": "markdown",
   "id": "b0b7c32f-3966-4e4c-8738-e3b300d0f3b6",
   "metadata": {},
   "source": [
    "## 2.\tChild or Senior Discount\n",
    "- If a passenger is under 12 or over 60 years old, apply a 15% discount on the ticket price. Otherwise, charge the full price.\n",
    "\n"
   ]
  },
  {
   "cell_type": "code",
   "execution_count": 126,
   "id": "ace488b7-0834-4ccf-818a-b1366a5df00c",
   "metadata": {},
   "outputs": [
    {
     "name": "stdin",
     "output_type": "stream",
     "text": [
      "ENTER THE AGE OF PASSENGERS  77\n"
     ]
    },
    {
     "name": "stdout",
     "output_type": "stream",
     "text": [
      "AMOUNT TO PAY WITH DISCOUNT: 1700.0\n"
     ]
    }
   ],
   "source": [
    "ticket_amount = 2000\n",
    "age = int(input(\"ENTER THE AGE OF PASSENGERS \"))\n",
    "if age <=12 or age > 60:\n",
    "    amt = ticket_amount*0.15\n",
    "    total = ticket_amount - amt\n",
    "    print (\"AMOUNT TO PAY WITH DISCOUNT:\",total)\n",
    "else:\n",
    "    print (\"AMOUNT TO PAY:\",ticket_amount)"
   ]
  },
  {
   "cell_type": "markdown",
   "id": "d87b2b6f-8338-428b-90c1-b082b843b068",
   "metadata": {},
   "source": [
    "## 3.\tTicket Type Pricing\n",
    "- If the ticket is for a weekend (is_weekend = True), add a 10% surcharge. Otherwise, charge the standard price.\n"
   ]
  },
  {
   "cell_type": "code",
   "execution_count": 131,
   "id": "03d7976d-c040-48f1-bc2e-329ea7a41aed",
   "metadata": {},
   "outputs": [
    {
     "name": "stdin",
     "output_type": "stream",
     "text": [
      "ENTER TODAY IS WEEKEND OR NOT YES/NO: yes\n"
     ]
    },
    {
     "name": "stdout",
     "output_type": "stream",
     "text": [
      "TODAY IS WEEKEND SO 10% SURCHAGE WILL BE APPLIED ON TICKET\n",
      "AMOUNT TO PAY WITH SURCHARGE: 2200.0\n"
     ]
    }
   ],
   "source": [
    "ticket_amount = 2000\n",
    "weekend = input (\"ENTER TODAY IS WEEKEND OR NOT YES/NO:\")\n",
    "if weekend =='yes':\n",
    "    amt = ticket_amount*0.10\n",
    "    total = ticket_amount + amt\n",
    "    print (\"TODAY IS WEEKEND SO 10% SURCHAGE WILL BE APPLIED ON TICKET\")\n",
    "    print (\"AMOUNT TO PAY WITH SURCHARGE:\",total)\n",
    "else:\n",
    "    weekend == 'no'\n",
    "    print(\"AMOUNT TO PAY:\",ticket_amount)"
   ]
  },
  {
   "cell_type": "markdown",
   "id": "3c1a9b74-93c8-4c16-987d-bf801286713f",
   "metadata": {},
   "source": [
    "## 4.\tBaggage Fee\n",
    "- If the total baggage weight is over 20kg, charge $10 per extra kilogram. Otherwise, no extra fee.\n"
   ]
  },
  {
   "cell_type": "code",
   "execution_count": 148,
   "id": "bec525f2-86fe-43cb-8f9a-36647ca186e1",
   "metadata": {},
   "outputs": [
    {
     "name": "stdin",
     "output_type": "stream",
     "text": [
      "ENTER THE WEIGHT OF BAGGEGE IN KG : 35\n"
     ]
    },
    {
     "name": "stdout",
     "output_type": "stream",
     "text": [
      "EXCESS BAGGAGE WEIGHT: 15.0 kg\n",
      "BAGGAGE WEIGHT : 35.0 kg\n",
      "BAGGAGE FEE: RS. 750.0\n"
     ]
    }
   ],
   "source": [
    "baggage_weight = float(input(\"ENTER THE WEIGHT OF BAGGEGE IN KG :\"))\n",
    "free_baggage_limit = 20\n",
    "excess_baggage_fee_per_kg = 50\n",
    "if baggage_weight<=free_baggage_limit:\n",
    "    baggage_fee = 0\n",
    "    print(\"NO BAGGAGE FEE!\")\n",
    "else:\n",
    "    excess_baggage_weight = baggage_weight-free_baggage_limit\n",
    "    baggage_fee = excess_baggage_weight*excess_baggage_fee_per_kg\n",
    "    print(\"EXCESS BAGGAGE WEIGHT:\",excess_baggage_weight,\"kg\")\n",
    "    print(\"BAGGAGE WEIGHT :\",baggage_weight,\"kg\")\n",
    "    print(\"BAGGAGE FEE: RS.\",baggage_fee)\n",
    "    "
   ]
  },
  {
   "cell_type": "markdown",
   "id": "bfcad1bf-1a05-40f8-9b97-9dedea92d489",
   "metadata": {},
   "source": [
    "## 5.\tEarly Bird Discount\n",
    "- If a ticket is booked more than 30 days in advance, apply a 10% discount. Otherwise, charge the full price.\n",
    "\n"
   ]
  },
  {
   "cell_type": "code",
   "execution_count": 159,
   "id": "b4b29cb5-b0ad-498e-b6cb-947c527ca744",
   "metadata": {},
   "outputs": [
    {
     "name": "stdin",
     "output_type": "stream",
     "text": [
      "HOW MANY DAYS DID YOU BOOK YOUR TICKET 32\n"
     ]
    },
    {
     "name": "stdout",
     "output_type": "stream",
     "text": [
      "CONGERATULATION! MORE THAN 30 DAYS OF YOUR TICKET BOOKING SO YOU GET 10% DISCOUNT\n",
      "PRICE OF TICKET 2500\n",
      "AMOUNT TO PAY AFTER DISCOUNT 2250.0\n"
     ]
    }
   ],
   "source": [
    "ticket_price = 2500\n",
    "days =int (input('HOW MANY DAYS DID YOU BOOK YOUR TICKET'))\n",
    "if days > 30:\n",
    "    amt = ticket_price*0.10\n",
    "    total = ticket_price - amt\n",
    "    print(\"CONGERATULATION! MORE THAN 30 DAYS OF YOUR TICKET BOOKING SO YOU GET 10% DISCOUNT\")\n",
    "    print(\"PRICE OF TICKET\",ticket_price)\n",
    "    print(\"AMOUNT TO PAY AFTER DISCOUNT\",total)\n",
    "else:\n",
    "    days < 30\n",
    "    print(\"AMOUNT TO PAY\",ticket_price)"
   ]
  },
  {
   "cell_type": "markdown",
   "id": "4674d36c-d303-4a00-a37b-71b76638aee7",
   "metadata": {},
   "source": [
    "# E-\tGrades and Performance\n",
    "\n"
   ]
  },
  {
   "cell_type": "markdown",
   "id": "bc28dc1b-e932-4adc-b951-7ec555b6cd83",
   "metadata": {},
   "source": [
    "## 1.\tPass or Fail\n",
    "- If a student scores 40 or more, print \"Pass\". Otherwise, print \"Fail\".\n",
    "\n"
   ]
  },
  {
   "cell_type": "code",
   "execution_count": 7,
   "id": "60785953-1032-4cfe-a689-6d1de2a05b2a",
   "metadata": {},
   "outputs": [
    {
     "name": "stdin",
     "output_type": "stream",
     "text": [
      "ENTER YOUR MARKS: 77\n"
     ]
    },
    {
     "name": "stdout",
     "output_type": "stream",
     "text": [
      "CONGRATULATION! YOU ARE PASS\n"
     ]
    }
   ],
   "source": [
    "marks =float(int(input(\"ENTER YOUR MARKS:\")))\n",
    "if marks >= 40:\n",
    "    print(\"CONGRATULATION! YOU ARE PASS\")\n",
    "else:\n",
    "    print(\"SORRY! YOU ARE FAIL\")\n",
    "    "
   ]
  },
  {
   "cell_type": "markdown",
   "id": "48fe5bc0-4bcb-43c1-9a3d-1a0b25e35660",
   "metadata": {},
   "source": [
    "## 2.\tGrade Assignment\n",
    "Based on a student's score, assign grades:\n",
    " - \t90 and above: \"A\"\n",
    " - \t75–89: \"B\"\n",
    " - \t50–74: \"C\"\n",
    " - \tBelow 50: \"F\"\n"
   ]
  },
  {
   "cell_type": "code",
   "execution_count": 20,
   "id": "4e900f2a-5cca-4e4b-8b02-51fd3aa84a5e",
   "metadata": {},
   "outputs": [
    {
     "name": "stdin",
     "output_type": "stream",
     "text": [
      "ENTER YOUR MARKS 97\n"
     ]
    },
    {
     "name": "stdout",
     "output_type": "stream",
     "text": [
      "A GRADE\n"
     ]
    }
   ],
   "source": [
    "marks =float(int(input(\"ENTER YOUR MARKS\")))\n",
    "if marks >=90:\n",
    "    print(\"A GRADE\")\n",
    "elif marks >=75:\n",
    "    print(\"B GRADE\")\n",
    "elif marks >=50:\n",
    "    print(\"C GRADE\")\n",
    "else:\n",
    "    marks<50\n",
    "    print(\"FAIL\")\n",
    "    "
   ]
  },
  {
   "cell_type": "markdown",
   "id": "16628cc4-0eea-436f-9f0f-6b3e466e7224",
   "metadata": {},
   "source": [
    "## 3.\tBonus Marks\n",
    " - If a student completes all assignments, add 5 bonus marks to their score. Otherwise, no bonus marks.\n"
   ]
  },
  {
   "cell_type": "code",
   "execution_count": 31,
   "id": "13849870-23ca-4101-a1b0-52aa8b63e8e4",
   "metadata": {},
   "outputs": [
    {
     "name": "stdin",
     "output_type": "stream",
     "text": [
      "ENTER YOUR MARKS 75\n",
      "ARE YOU COMPLETE YOUR ALL ASSIGNMENT YES OR NO yes\n"
     ]
    },
    {
     "name": "stdout",
     "output_type": "stream",
     "text": [
      "CONGRATULATION! YOU GET 5 BONUS MARKS\n",
      "YOUR TOTAL MRKS IS = 80\n"
     ]
    }
   ],
   "source": [
    "bonus_marks = 5\n",
    "marks = int(float(input(\"ENTER YOUR MARKS\")))\n",
    "assignment = input(\"ARE YOU COMPLETE YOUR ALL ASSIGNMENT YES OR NO\")\n",
    "if assignment == 'yes':\n",
    "    total = marks + bonus_marks\n",
    "    print(\"CONGRATULATION! YOU GET 5 BONUS MARKS\")\n",
    "    print(\"YOUR TOTAL MRKS IS =\",total)\n",
    "else:\n",
    "    assignment == 'no'\n",
    "    print(\"YOUR TOTAL MARKS IS = \",marks)"
   ]
  },
  {
   "cell_type": "markdown",
   "id": "c8c9d10b-3437-433d-85df-0e4613c167db",
   "metadata": {},
   "source": [
    "## 4.\tAttendance Eligibility\n",
    " - If a student's attendance is 75% or more, they are eligible to take the exam. Otherwise, they are not.\n"
   ]
  },
  {
   "cell_type": "code",
   "execution_count": 38,
   "id": "3312f25a-7dd3-488c-b005-32410c7b633f",
   "metadata": {},
   "outputs": [
    {
     "name": "stdin",
     "output_type": "stream",
     "text": [
      "ENTER THE TOTAL PERCENT OF ATTENDANCE 75\n"
     ]
    },
    {
     "name": "stdout",
     "output_type": "stream",
     "text": [
      " YOU ARE ELIGIBLE TO TAKE THE EXAM\n"
     ]
    }
   ],
   "source": [
    "attendance_required_in_percent = 75\n",
    "attendance = int(input(\"ENTER THE TOTAL PERCENT OF ATTENDANCE\"))\n",
    "if attendance >= attendance_required_in_percent:\n",
    "    print (\" YOU ARE ELIGIBLE TO TAKE THE EXAM\")\n",
    "else:\n",
    "    print(\"YOUR ATTENDANCE IS LESS THAN 75\")\n",
    "    print(\"YOU ARE NOT ELIGIBLE TO TAKE THE EXAM\")"
   ]
  },
  {
   "cell_type": "markdown",
   "id": "d3e00d91-c967-4daf-bdfe-3eb14021719a",
   "metadata": {},
   "source": [
    "## 5.\tScholarship Eligibility\n",
    " - If a student's grade is \"A\" and their annual family income is below $30,000, they are eligible for a scholarship. Otherwise, they are not.\n"
   ]
  },
  {
   "cell_type": "code",
   "execution_count": 51,
   "id": "f2f36de8-fe92-43d6-bdf2-38cbeb9d7dd7",
   "metadata": {},
   "outputs": [
    {
     "name": "stdin",
     "output_type": "stream",
     "text": [
      "ENTER YOUR ANNUAL FAMILIY INCOME 24000\n",
      "ENTER YOUR GRADE a\n"
     ]
    },
    {
     "name": "stdout",
     "output_type": "stream",
     "text": [
      "CONGRATULATION! YOU ARE ELIGIBLE FOR A SCOLARSHIP\n"
     ]
    }
   ],
   "source": [
    "annual_income = int(input(\"ENTER YOUR ANNUAL FAMILIY INCOME\"))\n",
    "grade = input(\"ENTER YOUR GRADE\")\n",
    "if annual_income <=30000 or grade == 'a':\n",
    "    print(\"CONGRATULATION! YOU ARE ELIGIBLE FOR A SCOLARSHIP\")\n",
    "else:\n",
    "    print(\"SORRY! YOU ARE NOT ELIGIBLE FOR SCOLARSHIP\")"
   ]
  },
  {
   "cell_type": "code",
   "execution_count": null,
   "id": "2c57a22a-de8f-4e46-8f6a-eaa786713fd6",
   "metadata": {},
   "outputs": [],
   "source": []
  }
 ],
 "metadata": {
  "kernelspec": {
   "display_name": "Python 3 (ipykernel)",
   "language": "python",
   "name": "python3"
  },
  "language_info": {
   "codemirror_mode": {
    "name": "ipython",
    "version": 3
   },
   "file_extension": ".py",
   "mimetype": "text/x-python",
   "name": "python",
   "nbconvert_exporter": "python",
   "pygments_lexer": "ipython3",
   "version": "3.12.7"
  }
 },
 "nbformat": 4,
 "nbformat_minor": 5
}
