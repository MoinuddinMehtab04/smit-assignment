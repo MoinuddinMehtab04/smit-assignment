{
 "cells": [
  {
   "cell_type": "markdown",
   "id": "60a17cc4-293b-49b7-b1ed-c389c3484e3f",
   "metadata": {},
   "source": [
    "# Looping Structure"
   ]
  },
  {
   "cell_type": "markdown",
   "id": "825190f8-d62f-453f-b477-fcfdfe08bea4",
   "metadata": {},
   "source": [
    "1. Write a Python program to print the numbers from 1 to 10 using a for loop. \n"
   ]
  },
  {
   "cell_type": "code",
   "execution_count": 4,
   "id": "11a80080-369f-4b8e-bd30-9d0fbbdb29c3",
   "metadata": {},
   "outputs": [
    {
     "name": "stdout",
     "output_type": "stream",
     "text": [
      "1\n",
      "2\n",
      "3\n",
      "4\n",
      "5\n",
      "6\n",
      "7\n",
      "8\n",
      "9\n",
      "10\n"
     ]
    }
   ],
   "source": [
    "for a in range(1,11):\n",
    "    print(a)"
   ]
  },
  {
   "cell_type": "markdown",
   "id": "04bce5e2-81e9-479f-a112-948dd81ba6ef",
   "metadata": {},
   "source": [
    "2. Write a Python program to print the numbers from 20 to 1 using a while loop"
   ]
  },
  {
   "cell_type": "code",
   "execution_count": 120,
   "id": "955fb917-974f-4a31-9ce4-5e52f2fbf443",
   "metadata": {},
   "outputs": [
    {
     "name": "stdout",
     "output_type": "stream",
     "text": [
      "20\n",
      "19\n",
      "18\n",
      "17\n",
      "16\n",
      "15\n",
      "14\n",
      "13\n",
      "12\n",
      "11\n",
      "10\n",
      "9\n",
      "8\n",
      "7\n",
      "6\n",
      "5\n",
      "4\n",
      "3\n",
      "2\n",
      "1\n"
     ]
    }
   ],
   "source": [
    "a = 20\n",
    "while a>=1:\n",
    "    print(a)\n",
    "    a-=1"
   ]
  },
  {
   "cell_type": "markdown",
   "id": "d96ff027-d0fa-40bb-a2c8-723b60eea4bf",
   "metadata": {},
   "source": [
    "3. Write a program to print even numbers from 1 to 10. "
   ]
  },
  {
   "cell_type": "code",
   "execution_count": 20,
   "id": "ce7758e9-abca-4886-b56b-216e3046730d",
   "metadata": {},
   "outputs": [
    {
     "name": "stdout",
     "output_type": "stream",
     "text": [
      "2\n",
      "4\n",
      "6\n",
      "8\n",
      "10\n"
     ]
    }
   ],
   "source": [
    "for a in range (1,11):\n",
    "    if a%2==0:\n",
    "        print(a)"
   ]
  },
  {
   "cell_type": "markdown",
   "id": "172cb68c-b3e2-49a7-8d2b-a42069f8d3d0",
   "metadata": {},
   "source": [
    "3. Write a program that prompts the user to enter a number n and prints all the \n",
    "numbers from 1 to n. "
   ]
  },
  {
   "cell_type": "code",
   "execution_count": 31,
   "id": "28864249-9668-45a6-ba82-0373fae6847e",
   "metadata": {},
   "outputs": [
    {
     "name": "stdin",
     "output_type": "stream",
     "text": [
      "enter the numbers 20\n"
     ]
    },
    {
     "name": "stdout",
     "output_type": "stream",
     "text": [
      "1\n",
      "2\n",
      "3\n",
      "4\n",
      "5\n",
      "6\n",
      "7\n",
      "8\n",
      "9\n",
      "10\n",
      "11\n",
      "12\n",
      "13\n",
      "14\n",
      "15\n",
      "16\n",
      "17\n",
      "18\n",
      "19\n",
      "20\n"
     ]
    }
   ],
   "source": [
    "a = int(input('enter the numbers'))\n",
    "for i in range(1,a+1):\n",
    "    print(i)"
   ]
  },
  {
   "cell_type": "markdown",
   "id": "4e20d536-c637-4533-87b6-6fac0331198e",
   "metadata": {},
   "source": [
    "5. Write a program that prompts the user to enter a number n, and then prints all the \n",
    "odd numbers between 1 and n. "
   ]
  },
  {
   "cell_type": "code",
   "execution_count": 40,
   "id": "52622b49-02f9-4f67-9ddf-c72890520225",
   "metadata": {},
   "outputs": [
    {
     "name": "stdin",
     "output_type": "stream",
     "text": [
      "enter the number  20\n"
     ]
    },
    {
     "name": "stdout",
     "output_type": "stream",
     "text": [
      "3\n",
      "6\n",
      "9\n",
      "12\n",
      "15\n",
      "18\n"
     ]
    }
   ],
   "source": [
    "n = int(input('enter the number '))\n",
    "for m in range (1,n):\n",
    "    if m%3==0:\n",
    "        print(m)"
   ]
  },
  {
   "cell_type": "markdown",
   "id": "1c45ff55-ed7b-49c8-9754-058760f25257",
   "metadata": {},
   "source": [
    "6. Write a program that prints 'Happy Birthday!' five times on screen. "
   ]
  },
  {
   "cell_type": "code",
   "execution_count": 1,
   "id": "d2e390ff-78d5-46fc-aa7c-257814c44e9c",
   "metadata": {},
   "outputs": [
    {
     "name": "stdout",
     "output_type": "stream",
     "text": [
      "HAPPY BIRTHDAY!\n",
      "HAPPY BIRTHDAY!\n",
      "HAPPY BIRTHDAY!\n",
      "HAPPY BIRTHDAY!\n",
      "HAPPY BIRTHDAY!\n"
     ]
    }
   ],
   "source": [
    "for a in range(1,6):\n",
    "    print( 'HAPPY BIRTHDAY!')"
   ]
  },
  {
   "cell_type": "markdown",
   "id": "f76cb1e6-3a33-4e7a-a55d-0a175fabf43b",
   "metadata": {},
   "source": [
    "7. Write a program that takes a number n as input from the user and generates the first \n",
    "n terms of the series formed by squaring the natural numbers. \n",
    "Sample output \n",
    "Enter a number: 6 \n",
    "The first 6 terms of the series are: \n",
    "1 4 9 16 25 36 "
   ]
  },
  {
   "cell_type": "markdown",
   "id": "9abdcb9c-bae8-495d-baf6-7160b53dda36",
   "metadata": {},
   "source": [
    "8. Write a program that prompts the user to input a number and prints its multiplication table"
   ]
  },
  {
   "cell_type": "code",
   "execution_count": 55,
   "id": "d90cf985-ec0b-440b-acaa-6b20ee0a6765",
   "metadata": {},
   "outputs": [
    {
     "name": "stdin",
     "output_type": "stream",
     "text": [
      "enter the number of  multiplication 5\n"
     ]
    },
    {
     "name": "stdout",
     "output_type": "stream",
     "text": [
      "5 * 1  =  5\n",
      "5 * 2  =  10\n",
      "5 * 3  =  15\n",
      "5 * 4  =  20\n",
      "5 * 5  =  25\n",
      "5 * 6  =  30\n",
      "5 * 7  =  35\n",
      "5 * 8  =  40\n",
      "5 * 9  =  45\n",
      "5 * 10  =  50\n"
     ]
    }
   ],
   "source": [
    " a = int(input('enter the number of  multiplication'))\n",
    "for i in range (1,11):\n",
    "    print(a,'*', i ,' = ',a*i)\n",
    "    "
   ]
  },
  {
   "cell_type": "markdown",
   "id": "db90f0f5-8c70-45a5-94ba-1af853a8ca7a",
   "metadata": {},
   "source": [
    "9. Write a Python program to print the first 8 terms of an arithmetic progression starting \n",
    "with 3 and having a common difference of 4. \n",
    "The program should output the following sequence: \n",
    "3 7 11 15 19 23 27 31 "
   ]
  },
  {
   "cell_type": "code",
   "execution_count": 58,
   "id": "9996f073-b310-4160-ba21-52c0367d43d6",
   "metadata": {},
   "outputs": [
    {
     "name": "stdout",
     "output_type": "stream",
     "text": [
      "0\n",
      "4\n",
      "8\n"
     ]
    }
   ],
   "source": [
    "for i  in range (0,9,4):\n",
    "    print(i)\n",
    "    "
   ]
  },
  {
   "cell_type": "markdown",
   "id": "363aa872-a0ac-4d30-a449-ff48f24d19ba",
   "metadata": {},
   "source": [
    "10. Write a Python program to print the first 6 terms of a geometric sequence starting \n",
    "with 2 and having a common ratio of 3. \n",
    "The program should output the following sequence: \n",
    "2 6 18 54 162 486 "
   ]
  },
  {
   "cell_type": "code",
   "execution_count": 63,
   "id": "e191d2fa-0af7-465d-8e73-8ca5357d0ad6",
   "metadata": {},
   "outputs": [
    {
     "name": "stdout",
     "output_type": "stream",
     "text": [
      "6\n",
      "9\n",
      "12\n",
      "15\n",
      "18\n"
     ]
    }
   ],
   "source": [
    "for i in range (2,7):\n",
    "    print(i*3)"
   ]
  },
  {
   "cell_type": "markdown",
   "id": "880bfe63-fcaf-4829-bbed-8122f38305ed",
   "metadata": {},
   "source": [
    "11. Write a program that asks the user for a positive integer value. The program should \n",
    "calculate the sum of all the integers from 1 up to the number entered. For example, if \n",
    "the user enters 20, the loop will find the sum of 1, 2, 3, 4, ... 20.\n",
    "formula of sum of number n(n+1)/2"
   ]
  },
  {
   "cell_type": "code",
   "execution_count": 72,
   "id": "6bd9eea8-c723-44df-bde0-ede9cb29847c",
   "metadata": {},
   "outputs": [
    {
     "name": "stdin",
     "output_type": "stream",
     "text": [
      "enter the  positive interger numbers 20\n"
     ]
    },
    {
     "name": "stdout",
     "output_type": "stream",
     "text": [
      "THE SUM OF INTERGER BETWEEN 1 TO N IS 210\n"
     ]
    }
   ],
   "source": [
    "a = int(input('enter the  positive interger numbers'))\n",
    "if a <=0:\n",
    "    print('INVALID! PLEASE ENTER THE POSITIVE INTERGER NUMBER')\n",
    "else:\n",
    "    sum = 0\n",
    "    for i in range (1,a+1):\n",
    "        sum +=i\n",
    "print(f\"THE SUM OF INTERGER BETWEEN 1 TO N IS {sum}\")\n"
   ]
  },
  {
   "cell_type": "markdown",
   "id": "92ee8320-7d5b-47f6-8570-9da3120dce71",
   "metadata": {},
   "source": [
    "12.write a program that takes a positive integer N as input and calculates the sum of \n",
    "the reciprocals of all numbers from 1 up to N. The program should display the final sum."
   ]
  },
  {
   "cell_type": "code",
   "execution_count": 85,
   "id": "0d12ece2-8a4d-4a9f-b663-fdd92b71942d",
   "metadata": {},
   "outputs": [
    {
     "name": "stdin",
     "output_type": "stream",
     "text": [
      "enter the  positive interger numbers 5\n"
     ]
    },
    {
     "name": "stdout",
     "output_type": "stream",
     "text": [
      "THE SUM OF POSITTIVE INTERGER BETWEEN 1 TO N IS 15 \n",
      "THE RECIPROCAL OF SUM OF POSITIVE NUMBER BETWEEN 1 TO 10 IS 0.06666666666666667\n"
     ]
    }
   ],
   "source": [
    "n= int(input('enter the  positive interger numbers'))\n",
    "if n <=0:\n",
    "    print('INVALID! PLEASE ENTER THE POSITIVE INTERGER NUMBER')\n",
    "else:\n",
    "    sum = 0\n",
    "    for i in range (1,n+1):\n",
    "        sum +=i\n",
    "        reciprocal_sum = 1/sum\n",
    "print(f\"THE SUM OF POSITTIVE INTERGER BETWEEN 1 TO N IS {sum} \")\n",
    "print(f\"THE RECIPROCAL OF SUM OF POSITIVE NUMBER BETWEEN 1 TO 10 IS {reciprocal_sum}\")\n",
    "\n"
   ]
  },
  {
   "cell_type": "markdown",
   "id": "1e9cffe5-fb1c-403d-86da-d486a186eeeb",
   "metadata": {},
   "source": [
    "13. Write a program that prompts the user to enter a number and repeats this process 5 \n",
    "times. The program should accumulate the numbers entered and then display the final \n",
    "running total. \n",
    "Sample Output: \n",
    "Enter a number: 10 \n",
    "Enter a number: 15 \n",
    "Enter a number: 35 \n",
    "Enter a number: 40 \n",
    "Enter a number: 50 \n",
    "The final running total is: 150 "
   ]
  },
  {
   "cell_type": "code",
   "execution_count": 94,
   "id": "a7843061-efda-4fe7-9b7b-ba09cb34af39",
   "metadata": {},
   "outputs": [
    {
     "name": "stdin",
     "output_type": "stream",
     "text": [
      "enter the number 20\n",
      "enter the number 30\n",
      "enter the number 40\n",
      "enter the number 50\n",
      "enter the number 60\n"
     ]
    },
    {
     "name": "stdout",
     "output_type": "stream",
     "text": [
      "THE RUNNING TOTAL NUMBER IS 200\n"
     ]
    }
   ],
   "source": [
    "running_total = 0\n",
    "for i in range(1,6):\n",
    "    n = int(input('enter the number'))\n",
    "    running_total += n\n",
    "print(f\"THE RUNNING TOTAL NUMBER IS {running_total}\")\n"
   ]
  },
  {
   "cell_type": "markdown",
   "id": "e0fa04bd-5672-4800-9738-82cce05b8521",
   "metadata": {},
   "source": [
    "14. Write a program that prompts the user to enter a positive integer and calculates its \n",
    "factorial. The factorial of a positive integer 'n' is denoted as 'n!' and is calculated by \n",
    "multiplying all the integers from 1 to 'n' together. For example, the factorial of 5 \n",
    "(denoted as 5!) is calculated as 1 x 2 x 3 x 4 x 5. "
   ]
  },
  {
   "cell_type": "code",
   "execution_count": 105,
   "id": "ecebce80-4749-413c-b2b5-021a95a4b414",
   "metadata": {},
   "outputs": [
    {
     "name": "stdin",
     "output_type": "stream",
     "text": [
      "enter the positive interger 5\n"
     ]
    },
    {
     "name": "stdout",
     "output_type": "stream",
     "text": [
      " THE POSITIVE INTERGER NUMBER IS 5\n",
      " THE FACTORIAL OF POSITIVE INTERGER NUMBER 120 \n"
     ]
    }
   ],
   "source": [
    "n = int(input('enter the positive interger'))\n",
    "if n<0:\n",
    "    print('INVALID! PLEASE ENTER THE POSITIVE INTERGER')\n",
    "elif n == 0:\n",
    "    print('THE FACTORIAL OF 0 IS 1')\n",
    "else:\n",
    "    factorial = 1\n",
    "    for i in range (1,n +1):\n",
    "        factorial*=i\n",
    "print(f\" THE POSITIVE INTERGER NUMBER IS {n}\")\n",
    "print(f\" THE FACTORIAL OF POSITIVE INTERGER NUMBER {factorial} \")"
   ]
  },
  {
   "cell_type": "markdown",
   "id": "51e42a6a-0ff2-4b4c-ae8b-afe5b1810c31",
   "metadata": {},
   "source": [
    "15. Write a Python program that prompts the user to enter a base number and an \n",
    "exponent, and then calculates the power of the base to the exponent. The program \n",
    "should not use the exponentiation operator (**) or the math.pow() function. The \n",
    "program should handle both positive and negative exponents."
   ]
  },
  {
   "cell_type": "code",
   "execution_count": 5,
   "id": "48725a41-f0b7-4ef6-9b7b-feb98cecdf2b",
   "metadata": {},
   "outputs": [
    {
     "name": "stdin",
     "output_type": "stream",
     "text": [
      "Enter a base number:  4\n",
      "Enter an exponent:  2\n"
     ]
    },
    {
     "name": "stdout",
     "output_type": "stream",
     "text": [
      "16\n"
     ]
    }
   ],
   "source": [
    "base = int(input(\"Enter a base number: \"))\n",
    "exponent = int(input(\"Enter an exponent: \"))\n",
    "power = 1\n",
    "for i in range(exponent):\n",
    "    power *= base\n",
    "print(power)"
   ]
  },
  {
   "cell_type": "code",
   "execution_count": null,
   "id": "cc76736c-3b9d-4ff3-9ad7-b683e5f8061b",
   "metadata": {},
   "outputs": [],
   "source": []
  }
 ],
 "metadata": {
  "kernelspec": {
   "display_name": "Python 3 (ipykernel)",
   "language": "python",
   "name": "python3"
  },
  "language_info": {
   "codemirror_mode": {
    "name": "ipython",
    "version": 3
   },
   "file_extension": ".py",
   "mimetype": "text/x-python",
   "name": "python",
   "nbconvert_exporter": "python",
   "pygments_lexer": "ipython3",
   "version": "3.12.7"
  }
 },
 "nbformat": 4,
 "nbformat_minor": 5
}
