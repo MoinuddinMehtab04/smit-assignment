{
 "cells": [
  {
   "cell_type": "markdown",
   "metadata": {
    "id": "CUdxU51J52Jc"
   },
   "source": [
    "# Topic: print()"
   ]
  },
  {
   "cell_type": "markdown",
   "metadata": {
    "id": "O4XtVMeN52Ji"
   },
   "source": [
    "1) Using the python print function print any string value, integer value, boolean value, float value in single print command"
   ]
  },
  {
   "cell_type": "code",
   "execution_count": null,
   "metadata": {},
   "outputs": [],
   "source": [
    "print(\"hello\",12,True,12.3)"
   ]
  },
  {
   "cell_type": "markdown",
   "metadata": {
    "id": "iNinlTd052Jr"
   },
   "source": [
    "2) Using the python print function print hyphon(-) separated any string value, integer value, boolean value, float value in single print command"
   ]
  },
  {
   "cell_type": "code",
   "execution_count": null,
   "metadata": {},
   "outputs": [],
   "source": [
    "print(\"hello\",12,True,12.3,sep=\"-\")"
   ]
  },
  {
   "cell_type": "markdown",
   "metadata": {
    "id": "4fNVS99O52Jt"
   },
   "source": [
    "3) Using the python print function print any string value, integer value, boolean value, float value in separate print command.\n",
    "But every value must be space separated and in single line"
   ]
  },
  {
   "cell_type": "code",
   "execution_count": null,
   "metadata": {},
   "outputs": [],
   "source": [
    "print(\"hello\",end=\" \")\n",
    "print(12,end=\" \")\n",
    "print(False,end=\" \")\n",
    "print(56.78)"
   ]
  },
  {
   "cell_type": "markdown",
   "metadata": {
    "id": "akEUFstT52Jv"
   },
   "source": [
    "4) Can a python print function take no value to print???\n"
   ]
  },
  {
   "cell_type": "code",
   "execution_count": null,
   "metadata": {},
   "outputs": [],
   "source": [
    "print()"
   ]
  },
  {
   "cell_type": "markdown",
   "metadata": {
    "id": "vFPOFKW_52Jx"
   },
   "source": [
    "# TOPIC :Variables in Python Operators"
   ]
  },
  {
   "cell_type": "markdown",
   "metadata": {
    "id": "AzBzVODl52Jy"
   },
   "source": [
    "5) One of my friends name is Mr. Ahmed. He is 30 years old.  He is a lawer by profession. He has done his bachelors in law in the year 2005. He is working with a reputable law firm 'The Himalya Associates' in Karachi since 2015.\n",
    "He is a handsome lawer with height of 5.10 feets and weight 70600g. His monthly income is Rs. 200k PKR.\n",
    "\n",
    "Note: Create variables from above text and also assign values from the text.  "
   ]
  },
  {
   "cell_type": "code",
   "execution_count": 7,
   "metadata": {},
   "outputs": [],
   "source": [
    "name = \"ahmed\"\n",
    "age = 30\n",
    "profession = \"lawer\"\n",
    "education = \"bachelors in law\"\n",
    "graduation_year = 2005\n",
    "compamy_name = \"himalya associates\"\n",
    "company_located = \"karachi\"\n",
    "joining_year = 2015\n",
    "height_ft = 5.10\n",
    "weight_g = 70600\n",
    "monthly_income_pkr = 200000\n"
   ]
  },
  {
   "cell_type": "markdown",
   "metadata": {
    "id": "Uaf--v5S52J0"
   },
   "source": [
    "6)How many years has been to Mr. Ahmed after his bachelors degree? Create a variable that hold current year value and then subtract it from his passout year"
   ]
  },
  {
   "cell_type": "code",
   "execution_count": 9,
   "metadata": {},
   "outputs": [
    {
     "name": "stdout",
     "output_type": "stream",
     "text": [
      "19\n"
     ]
    }
   ],
   "source": [
    "current_year = 2024\n",
    "year_after_bachelor = current_year - graduation_year\n",
    "print(year_after_bachelor)"
   ]
  },
  {
   "cell_type": "markdown",
   "metadata": {
    "id": "SAQtVyvD52J1"
   },
   "source": [
    "7) How many years has Mr. Ahmed been working with law firm 'The Himalya Associates'. Create necesary variables and print the correct number of years in working in the firm"
   ]
  },
  {
   "cell_type": "code",
   "execution_count": 17,
   "metadata": {},
   "outputs": [
    {
     "name": "stdout",
     "output_type": "stream",
     "text": [
      "9\n"
     ]
    }
   ],
   "source": [
    "working_years = current_year - joining_year\n",
    "print(working_years)"
   ]
  },
  {
   "cell_type": "markdown",
   "metadata": {
    "id": "Gnk1kIUj52J3"
   },
   "source": [
    "8)Convert the monthly income of Mr. Ahmed in dollars.  Create necesary variables and print the income in dollars."
   ]
  },
  {
   "cell_type": "code",
   "execution_count": 35,
   "metadata": {},
   "outputs": [
    {
     "name": "stdout",
     "output_type": "stream",
     "text": [
      "719.6\n"
     ]
    }
   ],
   "source": [
    "monthly_income_dollars=(monthly_income_pkr) * 0.003598\n",
    "print(monthly_income_dollars)"
   ]
  },
  {
   "cell_type": "raw",
   "metadata": {
    "id": "Adx4oblF52J4"
   },
   "source": [
    "9) Check if the income in dollars is a float or integer value. if it is float, re-write the code so that income gets converted in integer. print the income in integer type value"
   ]
  },
  {
   "cell_type": "code",
   "execution_count": 39,
   "metadata": {},
   "outputs": [
    {
     "name": "stdout",
     "output_type": "stream",
     "text": [
      "719\n"
     ]
    }
   ],
   "source": [
    "print(int(monthly_income_dollars))"
   ]
  },
  {
   "cell_type": "raw",
   "metadata": {
    "id": "NcYepWgZ52J5"
   },
   "source": [
    "10) Print the type of Mr. Ahmed's weight. Convert the weight of Mr. Ahmed in kg so that weight must be a integer value."
   ]
  },
  {
   "cell_type": "code",
   "execution_count": 23,
   "metadata": {},
   "outputs": [
    {
     "name": "stdout",
     "output_type": "stream",
     "text": [
      "<class 'int'> 70\n"
     ]
    }
   ],
   "source": [
    "weight_kg=int(weight_g /1000)\n",
    "print(type(weight_kg),weight_kg)"
   ]
  },
  {
   "cell_type": "code",
   "execution_count": null,
   "metadata": {
    "id": "05FU1XHw52J7"
   },
   "outputs": [],
   "source": [
    "#11) print the year of birth of Mr. Ahmed."
   ]
  },
  {
   "cell_type": "code",
   "execution_count": null,
   "metadata": {},
   "outputs": [],
   "source": []
  },
  {
   "cell_type": "code",
   "execution_count": 41,
   "metadata": {
    "id": "paq_3Kg152J8"
   },
   "outputs": [
    {
     "data": {
      "text/plain": [
       "1994"
      ]
     },
     "execution_count": 41,
     "metadata": {},
     "output_type": "execute_result"
    }
   ],
   "source": [
    "#type your code here\n",
    "year_of_birth= current_year - age\n",
    "year_of_birth"
   ]
  },
  {
   "cell_type": "markdown",
   "metadata": {
    "id": "eWySSgh552J8"
   },
   "source": [
    "12) Can Rs. 100 be divided equally among 6 students?\n",
    "HINT: % operator (modulo)"
   ]
  },
  {
   "cell_type": "code",
   "execution_count": 47,
   "metadata": {
    "id": "RYc0Ks7g52J-",
    "outputId": "0e2425ca-fbed-4c24-b659-e52ef2d0674e"
   },
   "outputs": [
    {
     "name": "stdout",
     "output_type": "stream",
     "text": [
      "Each student will get rs 16 with  remainder of rs 4\n"
     ]
    }
   ],
   "source": [
    "print(f\"Each student will get rs {100//6} with  remainder of rs {100%6}\")\n",
    "# 10 is completely divisible by2\n",
    "# 10 is multiple of \n",
    "# 2 is a factor of 10\n",
    "# 10 comes in table of 2"
   ]
  },
  {
   "cell_type": "raw",
   "metadata": {
    "id": "S2nqgbLV52J_"
   },
   "source": [
    "                       Saylani Mass IT \n",
    "             Name   : Nasir Hussain\n",
    "             Course : AI and DS\n",
    "             Days   : Tuesday and Thursday\n",
    "             ID     : AI - 332909\n",
    "             \n",
    "             "
   ]
  },
  {
   "cell_type": "code",
   "execution_count": 1,
   "metadata": {
    "id": "X3ncSwJt52KA"
   },
   "outputs": [
    {
     "name": "stdin",
     "output_type": "stream",
     "text": [
      "enter your name:- MOIN MEHTAB\n",
      "enter your course name:- AI AND DS\n",
      "enter name of days:- TUESDAY AND THURSDAY\n",
      "enter your id:- AI - 334281\n"
     ]
    }
   ],
   "source": [
    "x=(\"SAYLANI MASS IT\")\n",
    "name=input(\"enter your name:-\")\n",
    "course=input(\"enter your course name:-\")\n",
    "days=input(\"enter name of days:-\")\n",
    "id=input(\"enter your id:-\")"
   ]
  },
  {
   "cell_type": "code",
   "execution_count": 3,
   "metadata": {},
   "outputs": [
    {
     "name": "stdout",
     "output_type": "stream",
     "text": [
      "                                          SAYLANI MASS IT                                           \n",
      "NAME    : MOIN MEHTAB\n",
      "COURSE  : AI AND DS\n",
      "DAYS    : TUESDAY AND THURSDAY\n",
      "ID      : AI - 334281\n"
     ]
    }
   ],
   "source": [
    "print(x.center(100))\n",
    "print(\"NAME    :\",name)\n",
    "print(\"COURSE  :\",course)\n",
    "print(\"DAYS    :\",days)\n",
    "print(\"ID      :\",id)"
   ]
  },
  {
   "cell_type": "code",
   "execution_count": null,
   "metadata": {},
   "outputs": [],
   "source": []
  }
 ],
 "metadata": {
  "colab": {
   "provenance": []
  },
  "kernelspec": {
   "display_name": "Python 3 (ipykernel)",
   "language": "python",
   "name": "python3"
  },
  "language_info": {
   "codemirror_mode": {
    "name": "ipython",
    "version": 3
   },
   "file_extension": ".py",
   "mimetype": "text/x-python",
   "name": "python",
   "nbconvert_exporter": "python",
   "pygments_lexer": "ipython3",
   "version": "3.12.7"
  }
 },
 "nbformat": 4,
 "nbformat_minor": 4
}
