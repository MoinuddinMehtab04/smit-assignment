{
 "cells": [
  {
   "cell_type": "code",
   "execution_count": 1,
   "id": "508a6787-6c3d-4ede-888d-d7861248f272",
   "metadata": {},
   "outputs": [],
   "source": [
    "import os"
   ]
  },
  {
   "cell_type": "code",
   "execution_count": 3,
   "id": "ef0893ae-1736-470c-b99f-bda3fc9f1913",
   "metadata": {},
   "outputs": [],
   "source": [
    "from datetime import datetime"
   ]
  },
  {
   "cell_type": "code",
   "execution_count": 5,
   "id": "4aebfd24-ff78-4bb8-9590-98fbe0fd50d5",
   "metadata": {},
   "outputs": [],
   "source": [
    "# Function to create a new account\n",
    "def create_account(name, initial_balance=0.0):\n",
    "    account = {\n",
    "        \"name\": name,\n",
    "        \"balance\": initial_balance,\n",
    "        \"transactions\": []\n",
    "    }\n",
    "    return account"
   ]
  },
  {
   "cell_type": "code",
   "execution_count": 7,
   "id": "cab622fb-4261-46b5-a1d1-018dd30008f8",
   "metadata": {},
   "outputs": [],
   "source": [
    "# Function to read transactions from a file with the current date and time\n",
    "def read_transactions():\n",
    "    if not os.path.exists(\"transactions.txt\"):\n",
    "        return []\n",
    "    current_time = datetime.now().strftime(\"%Y-%m-%d %H:%M:%S\")\n",
    "    with open(\"transactions.txt\", \"r\") as file:\n",
    "        transactions = file.readlines()\n",
    "    return [f\"{current_time} - {transaction.strip()}\" for transaction in transactions]"
   ]
  },
  {
   "cell_type": "code",
   "execution_count": 9,
   "id": "5bb294d0-a589-4204-9b45-75d5a7def9ea",
   "metadata": {},
   "outputs": [],
   "source": [
    "# Function to write a transaction to a file\n",
    "def write_transaction(transaction):\n",
    "    with open(\"transactions.txt\", \"a\") as file:\n",
    "        file.write(transaction + \"\\n\")"
   ]
  },
  {
   "cell_type": "code",
   "execution_count": 11,
   "id": "ddf8f72b-8e23-4d34-9c26-1a85d6f8a0bb",
   "metadata": {},
   "outputs": [],
   "source": [
    "# Function to deposit money into the account\n",
    "def deposit(account, amount):\n",
    "    if amount <= 0:\n",
    "        print(\"Deposit amount must be positive.\")\n",
    "        return account\n",
    "\n",
    "    account[\"balance\"] += amount\n",
    "    transaction = f\"Deposit: ${amount:.2f} | New Balance: ${account['balance']:.2f}\"\n",
    "    account[\"transactions\"].append(transaction)\n",
    "    write_transaction(transaction)\n",
    "    print(transaction)\n",
    "    return account\n"
   ]
  },
  {
   "cell_type": "code",
   "execution_count": 13,
   "id": "e62daae7-f675-442c-abf3-101cc8710aeb",
   "metadata": {},
   "outputs": [],
   "source": [
    "# Function to withdraw money from the account\n",
    "def withdraw(account, amount):\n",
    "    if amount <= 0:\n",
    "        print(\"Withdrawal amount must be positive.\")\n",
    "        return account\n",
    "\n",
    "    if amount > account[\"balance\"]:\n",
    "        print(\"Insufficient funds. Withdrawal denied.\")\n",
    "        return account\n",
    "\n",
    "    account[\"balance\"] -= amount\n",
    "    transaction = f\"Withdrawal: ${amount:.2f} | New Balance: ${account['balance']:.2f}\"\n",
    "    account[\"transactions\"].append(transaction)\n",
    "    write_transaction(transaction)\n",
    "    print(transaction)\n",
    "    return account"
   ]
  },
  {
   "cell_type": "code",
   "execution_count": 15,
   "id": "729a1c03-04a1-444c-b9c6-916e3e13ca41",
   "metadata": {},
   "outputs": [],
   "source": [
    "# Function to check the balance\n",
    "def check_balance(account):\n",
    "    print(f\"Current balance: ${account['balance']:.2f}\")\n",
    "    return account[\"balance\"]"
   ]
  },
  {
   "cell_type": "code",
   "execution_count": 17,
   "id": "45fd5d38-0311-4cfa-8606-a83c1fcd6b9f",
   "metadata": {},
   "outputs": [],
   "source": [
    "# Function to print the account statement\n",
    "def print_statement(account):\n",
    "    print(f\"\\nAccount Statement for {account['name']}\\n\")\n",
    "    if not account[\"transactions\"]:\n",
    "        print(\"No transactions available.\")\n",
    "    else:\n",
    "        for transaction in account[\"transactions\"]:\n",
    "            print(transaction)\n",
    "    print(f\"\\nFinal Balance: ${account['balance']:.2f}\\n\")"
   ]
  },
  {
   "cell_type": "code",
   "execution_count": null,
   "id": "fc16be69-ac8a-4c47-9f32-23705b4047aa",
   "metadata": {},
   "outputs": [],
   "source": [
    "def main():\n",
    "    print(\"Welcome to the Banking System!\")\n",
    "    name = input(\"Enter your name: \")\n",
    "    try:\n",
    "        initial_balance = float(input(\"Enter initial balance: \"))\n",
    "    except ValueError:\n",
    "        print(\"Invalid input. Setting initial balance to $0.0.\")\n",
    "        initial_balance = 0.0\n",
    "\n",
    "    # Create the user account\n",
    "    account = create_account(name, initial_balance)\n",
    "    print(f\"Account created for {name} with a balance of ${initial_balance:.2f}\\n\")\n",
    "\n",
    "    while True:\n",
    "        print(\"Choose an option:\")\n",
    "        print(\"1. Deposit\")\n",
    "        print(\"2. Withdraw\")\n",
    "        print(\"3. Check Balance\")\n",
    "        print(\"4. Print Statement\")\n",
    "        print(\"5. Exit\")\n",
    "\n",
    "        choice = input(\"Enter your choice: \")\n",
    "\n",
    "        if choice == \"1\":\n",
    "            try:\n",
    "                amount = float(input(\"Enter deposit amount: \"))\n",
    "                account = deposit(account, amount)\n",
    "            except ValueError:\n",
    "                print(\"Invalid input. Please enter a number.\")\n",
    "        elif choice == \"2\":\n",
    "            try:\n",
    "                amount = float(input(\"Enter withdrawal amount: \"))\n",
    "                account = withdraw(account, amount)\n",
    "            except ValueError:\n",
    "                print(\"Invalid input. Please enter a number.\")\n",
    "        elif choice == \"3\":\n",
    "            check_balance(account)\n",
    "        elif choice == \"4\":\n",
    "            print_statement(account)\n",
    "        elif choice == \"5\":\n",
    "            print(\"Thank you for using the Banking System. Goodbye!\")\n",
    "            break\n",
    "        else:\n",
    "            print(\"Invalid choice. Please select a valid option.\")\n",
    "\n",
    "if __name__ == \"__main__\":\n",
    "    main()\n"
   ]
  }
 ],
 "metadata": {
  "kernelspec": {
   "display_name": "Python 3 (ipykernel)",
   "language": "python",
   "name": "python3"
  },
  "language_info": {
   "codemirror_mode": {
    "name": "ipython",
    "version": 3
   },
   "file_extension": ".py",
   "mimetype": "text/x-python",
   "name": "python",
   "nbconvert_exporter": "python",
   "pygments_lexer": "ipython3",
   "version": "3.12.7"
  }
 },
 "nbformat": 4,
 "nbformat_minor": 5
}
