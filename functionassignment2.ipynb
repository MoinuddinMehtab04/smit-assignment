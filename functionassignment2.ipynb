{
 "cells": [
  {
   "cell_type": "raw",
   "id": "6e02152c-39c1-43cb-b53c-f1fe4c99b1df",
   "metadata": {},
   "source": [
    "Task1: \n",
    "You need to write a function in python that return all such numbers which are \n",
    "divisible by 7 but are not a multiple of 5, between 2000 and 3200 (both included). \n",
    "Return the obtained numbers in a comma-separated sequence on a single line. \n",
    "\n"
   ]
  },
  {
   "cell_type": "code",
   "execution_count": 3,
   "id": "5708a745-da02-4eec-a350-d04ddd4635d6",
   "metadata": {},
   "outputs": [
    {
     "name": "stdout",
     "output_type": "stream",
     "text": [
      "2002,2009,2016,2023,2037,2044,2051,2058,2072,2079,2086,2093,2107,2114,2121,2128,2142,2149,2156,2163,2177,2184,2191,2198,2212,2219,2226,2233,2247,2254,2261,2268,2282,2289,2296,2303,2317,2324,2331,2338,2352,2359,2366,2373,2387,2394,2401,2408,2422,2429,2436,2443,2457,2464,2471,2478,2492,2499,2506,2513,2527,2534,2541,2548,2562,2569,2576,2583,2597,2604,2611,2618,2632,2639,2646,2653,2667,2674,2681,2688,2702,2709,2716,2723,2737,2744,2751,2758,2772,2779,2786,2793,2807,2814,2821,2828,2842,2849,2856,2863,2877,2884,2891,2898,2912,2919,2926,2933,2947,2954,2961,2968,2982,2989,2996,3003,3017,3024,3031,3038,3052,3059,3066,3073,3087,3094,3101,3108,3122,3129,3136,3143,3157,3164,3171,3178,3192,3199\n"
     ]
    }
   ],
   "source": [
    "def divisible_by_7():\n",
    "    return [str(i) for i in range(2000, 3201) if i % 7 == 0 and i % 5 != 0]\n",
    "\n",
    "print(\",\".join(divisible_by_7()))\n"
   ]
  },
  {
   "cell_type": "raw",
   "id": "28229366-3c63-4d12-8fe1-0fd14350d799",
   "metadata": {},
   "source": [
    "Task2: \n",
    "You need code a function that calculates and returns the value according to the \n",
    "given formula: \n",
    "P = Square root of [(2 * A * B)/C] \n",
    "Following are the fixed values of A and B: \n",
    "A is 50. B is 30. \n",
    "The values of the literal C should be taken as console input to your program in a \n",
    "comma-separated sequence. \n",
    "Example \n",
    "Let us assume the following comma separated input sequence is given to the \n",
    "program: \n",
    "100,150,180 \n",
    "The output of the program should be: \n",
    "18,22,24 "
   ]
  },
  {
   "cell_type": "code",
   "execution_count": 19,
   "id": "b8704e1f-3af6-4f48-82ca-0f850479c839",
   "metadata": {},
   "outputs": [
    {
     "name": "stdin",
     "output_type": "stream",
     "text": [
      "Enter values of C (comma-separated):  100,150,180\n"
     ]
    },
    {
     "name": "stdout",
     "output_type": "stream",
     "text": [
      "5,4,4\n"
     ]
    }
   ],
   "source": [
    "import math\n",
    "\n",
    "def calculate_P():\n",
    "    A = 50\n",
    "    B = 30\n",
    "    C_values = input(\"Enter values of C (comma-separated): \")\n",
    "    C_values = [int(x) for x in C_values.split(\",\")]\n",
    "    \n",
    "    # Calculate P values\n",
    "    P_values = []\n",
    "    for C in C_values:\n",
    "        temp = (2 * A * B) / C\n",
    "        P = math.sqrt(temp)\n",
    "        P_values.append(round(P)) \n",
    "    \n",
    "    return \",\".join(map(str, P_values))\n",
    "\n",
    "print(calculate_P())\n"
   ]
  },
  {
   "cell_type": "raw",
   "id": "b0bb92ff-083e-4a14-b109-1964ae82304d",
   "metadata": {},
   "source": [
    "Task3: \n",
    "You need to write a function that takes a comma separated sequence of words as \n",
    "input and prints the words in a comma-separated sequence after sorting them \n",
    "alphabetically. \n",
    "Suppose the following input is supplied to the program: \n",
    "without,hello,bag,world \n",
    "Then, the output should be: \n",
    "bag,hello,without,world "
   ]
  },
  {
   "cell_type": "code",
   "execution_count": 11,
   "id": "adf5bafd-b885-4966-930c-d6738a144218",
   "metadata": {},
   "outputs": [],
   "source": [
    "def sorting():\n",
    "    words = input('ENTER THE comma seprated  WORDS').split(',')\n",
    "    words.sort()\n",
    "    print(','.join(words))"
   ]
  },
  {
   "cell_type": "code",
   "execution_count": 13,
   "id": "59b642db-f881-485f-b07e-41ca77273b80",
   "metadata": {},
   "outputs": [
    {
     "name": "stdin",
     "output_type": "stream",
     "text": [
      "ENTER THE comma seprated  WORDS without,hello,bag,world\n"
     ]
    },
    {
     "name": "stdout",
     "output_type": "stream",
     "text": [
      "bag,hello,without,world\n"
     ]
    }
   ],
   "source": [
    "sorting()"
   ]
  },
  {
   "cell_type": "raw",
   "id": "629df31c-e91c-4386-b67a-294cc8f936b7",
   "metadata": {},
   "source": [
    "Task4: \n",
    "You need to write a program that takes sequence of lines as input and prints the \n",
    "lines after making all characters in the sentence capitalized. \n",
    "Suppose the following input is supplied to the program: \n",
    "Hello world \n",
    "Practice makes perfect \n",
    "Then, the output should be:\n",
    "HELLO WORLD \n",
    "PRACTICE MAKES PERFECT "
   ]
  },
  {
   "cell_type": "code",
   "execution_count": 35,
   "id": "2565776b-57f3-47ae-8854-dbc2f6b0a84b",
   "metadata": {},
   "outputs": [],
   "source": [
    "def capital():\n",
    "    line1 = input('ENTER THE LINE ONE ')\n",
    "    line2 = input('ENTER THE SECOND LINE ')\n",
    "    a = line1.upper()\n",
    "    b = line2.upper()\n",
    "    print(a)\n",
    "    print(b)"
   ]
  },
  {
   "cell_type": "code",
   "execution_count": 37,
   "id": "e9ada5a5-a49d-4d8d-ba1f-f5706c05cdee",
   "metadata": {},
   "outputs": [
    {
     "name": "stdin",
     "output_type": "stream",
     "text": [
      "ENTER THE LINE ONE  Hello World\n",
      "ENTER THE SECOND LINE  Practice Makes Perfect\n"
     ]
    },
    {
     "name": "stdout",
     "output_type": "stream",
     "text": [
      "HELLO WORLD\n",
      "PRACTICE MAKES PERFECT\n"
     ]
    }
   ],
   "source": [
    "capital()"
   ]
  },
  {
   "cell_type": "raw",
   "id": "3ed19cc4-9bec-4276-90ba-fc61b14d6a9f",
   "metadata": {},
   "source": [
    "Task5: \n",
    "You need to write a function that counts the number of vowels in a given \n",
    "sentence as input from console. \n",
    "Suppose the following input is supplied to the program: \n",
    "Hello world \n",
    "Practice makes perfect \n",
    "Then, the output should be: \n",
    "a appeared 2 times \n",
    "e appeared 5 times \n",
    "i appeared 1 time \n",
    "o appeared 2 times \n",
    "u appeared 0 time \n",
    "PRACTICE MAKES PERFECT"
   ]
  },
  {
   "cell_type": "code",
   "execution_count": 47,
   "id": "c9764528-e6aa-4a10-91a1-ef1abf63e72a",
   "metadata": {},
   "outputs": [
    {
     "name": "stdin",
     "output_type": "stream",
     "text": [
      "Enter a sentence:  Hello World Practice Makes Perfect\n"
     ]
    },
    {
     "name": "stdout",
     "output_type": "stream",
     "text": [
      "Vowel counts:\n",
      "a appeared 2 times\n",
      "e appeared 5 times\n",
      "i appeared 1 times\n",
      "o appeared 2 times\n",
      "u appeared 0 times\n",
      "HELLO WORLD PRACTICE MAKES PERFECT\n",
      "\n"
     ]
    }
   ],
   "source": [
    "def count_vowels():\n",
    "    sentence = input(\"Enter a sentence: \")\n",
    "    vowels = 'aeiou'\n",
    "    vowel_counts = {vowel: 0 for vowel in vowels}\n",
    "\n",
    "    for char in sentence.lower():\n",
    "        if char in vowels:\n",
    "            vowel_counts[char] += 1\n",
    "\n",
    "    print(\"Vowel counts:\")\n",
    "    for vowel, count in vowel_counts.items():\n",
    "        print(f\"{vowel} appeared {count} times\")\n",
    "\n",
    "    print(\"\\n\".join([sentence.splitlines()[0].upper(), \" \".join(sentence.splitlines()[1:]).upper()]))\n",
    "\n",
    "count_vowels()\n",
    "\n"
   ]
  },
  {
   "cell_type": "raw",
   "id": "2e5f3614-0e4b-4b62-88ad-6c0a18ced6c6",
   "metadata": {},
   "source": [
    "Task6: \n",
    "You need write a function that traces and makes a list of all such numbers \n",
    "from1000 to 3000 in which all the digits are even numbers. "
   ]
  },
  {
   "cell_type": "code",
   "execution_count": 63,
   "id": "ff86fe65-b8f9-408c-8dc1-cdaee12a6528",
   "metadata": {},
   "outputs": [
    {
     "name": "stdout",
     "output_type": "stream",
     "text": [
      "[2000, 2002, 2004, 2006, 2008, 2020, 2022, 2024, 2026, 2028, 2040, 2042, 2044, 2046, 2048, 2060, 2062, 2064, 2066, 2068, 2080, 2082, 2084, 2086, 2088, 2200, 2202, 2204, 2206, 2208, 2220, 2222, 2224, 2226, 2228, 2240, 2242, 2244, 2246, 2248, 2260, 2262, 2264, 2266, 2268, 2280, 2282, 2284, 2286, 2288, 2400, 2402, 2404, 2406, 2408, 2420, 2422, 2424, 2426, 2428, 2440, 2442, 2444, 2446, 2448, 2460, 2462, 2464, 2466, 2468, 2480, 2482, 2484, 2486, 2488, 2600, 2602, 2604, 2606, 2608, 2620, 2622, 2624, 2626, 2628, 2640, 2642, 2644, 2646, 2648, 2660, 2662, 2664, 2666, 2668, 2680, 2682, 2684, 2686, 2688, 2800, 2802, 2804, 2806, 2808, 2820, 2822, 2824, 2826, 2828, 2840, 2842, 2844, 2846, 2848, 2860, 2862, 2864, 2866, 2868, 2880, 2882, 2884, 2886, 2888]\n"
     ]
    }
   ],
   "source": [
    "def even_digits():\n",
    "    return [num for num in range(1000, 3001) if all(int(digit) % 2 == 0 for digit in str(num))]\n",
    "\n",
    "print(even_digits())\n"
   ]
  },
  {
   "cell_type": "raw",
   "id": "94820f17-f8ca-4636-90b5-e42c4b2db338",
   "metadata": {},
   "source": [
    "Task7: \n",
    "You need to write a code which accepts a sequence of comma separated 4 digit \n",
    "binary numbers as its input and then check whether they are divisible by 5 or not. \n",
    "The numbers that are divisible by 5 are to be printed in a comma separated \n",
    "sequence. \n",
    "Example: \n",
    "0100,0011,1010,1001 \n",
    "Then the output should be: \n",
    "1010 "
   ]
  },
  {
   "cell_type": "code",
   "execution_count": 65,
   "id": "1dbd1b4b-ea41-473a-b92b-4f6d2f91700c",
   "metadata": {},
   "outputs": [
    {
     "name": "stdin",
     "output_type": "stream",
     "text": [
      "Enter comma-separated 4-digit binary numbers:  0100,0011,1010,1001\n"
     ]
    },
    {
     "name": "stdout",
     "output_type": "stream",
     "text": [
      "1010\n"
     ]
    }
   ],
   "source": [
    "def binary_divisible_by_5():\n",
    "    binary_numbers = input(\"Enter comma-separated 4-digit binary numbers: \")\n",
    "    binary_list = binary_numbers.split(',')\n",
    "    divisible_by_5 = [num for num in binary_list if int(num, 2) % 5 == 0]\n",
    "    print(','.join(divisible_by_5))\n",
    "\n",
    "binary_divisible_by_5()"
   ]
  },
  {
   "cell_type": "raw",
   "id": "13a3c759-b8cb-40ba-b5cc-08270e10f1af",
   "metadata": {},
   "source": [
    "Task8: \n",
    "Write a program that accepts a sentence and calculate the number of letters and \n",
    "digits. \n",
    "Suppose the following input is supplied to the program: \n",
    "hello world! 123 \n",
    "Then, the output should be: \n",
    "LETTERS 10 \n",
    "DIGITS 3"
   ]
  },
  {
   "cell_type": "code",
   "execution_count": 67,
   "id": "5e972e12-e2f3-40a5-ac86-a7a70dc79133",
   "metadata": {},
   "outputs": [
    {
     "name": "stdin",
     "output_type": "stream",
     "text": [
      "Enter a sentence:  hello world! 123\n"
     ]
    },
    {
     "name": "stdout",
     "output_type": "stream",
     "text": [
      "LETTERS 10\n",
      "DIGITS 3\n"
     ]
    }
   ],
   "source": [
    "def calculate_letters_and_digits():\n",
    "    sentence = input(\"Enter a sentence: \")\n",
    "    letters = sum(c.isalpha() for c in sentence)\n",
    "    digits = sum(c.isdigit() for c in sentence)\n",
    "    print(f\"LETTERS {letters}\")\n",
    "    print(f\"DIGITS {digits}\")\n",
    "\n",
    "calculate_letters_and_digits()\n"
   ]
  },
  {
   "cell_type": "code",
   "execution_count": null,
   "id": "d3bd0cf7-63fe-4430-b8c1-da79418fdbfe",
   "metadata": {},
   "outputs": [],
   "source": []
  }
 ],
 "metadata": {
  "kernelspec": {
   "display_name": "Python 3 (ipykernel)",
   "language": "python",
   "name": "python3"
  },
  "language_info": {
   "codemirror_mode": {
    "name": "ipython",
    "version": 3
   },
   "file_extension": ".py",
   "mimetype": "text/x-python",
   "name": "python",
   "nbconvert_exporter": "python",
   "pygments_lexer": "ipython3",
   "version": "3.12.7"
  }
 },
 "nbformat": 4,
 "nbformat_minor": 5
}
