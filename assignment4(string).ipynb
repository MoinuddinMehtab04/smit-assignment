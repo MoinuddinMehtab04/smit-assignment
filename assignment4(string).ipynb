{
 "cells": [
  {
   "cell_type": "markdown",
   "id": "6352c3d7-8cb8-4560-9ff7-c8f268fa346e",
   "metadata": {},
   "source": [
    "-  Write a program that accepts a string from user. Your program should count and display number of \n",
    "vowels in that string."
   ]
  },
  {
   "cell_type": "code",
   "execution_count": 15,
   "id": "6c3d2622-7ad8-4292-b13b-81b8205c8404",
   "metadata": {},
   "outputs": [
    {
     "name": "stdin",
     "output_type": "stream",
     "text": [
      "ENTER THE STRING pakistan zindabad\n"
     ]
    },
    {
     "name": "stdout",
     "output_type": "stream",
     "text": [
      "NUMBER OF VOWELS IN STRING 6\n"
     ]
    }
   ],
   "source": [
    "count_vowels = 0\n",
    "vowels = 'aeiouAEIOU'\n",
    "string =input ('ENTER THE STRING')\n",
    "for char in string:\n",
    "    if char in vowels:\n",
    "        count_vowels += 1\n",
    "print('NUMBER OF VOWELS IN STRING',count_vowels)"
   ]
  },
  {
   "cell_type": "markdown",
   "id": "cc972d7a-a666-465b-9cf2-7d2846c7b725",
   "metadata": {},
   "source": [
    "2. Write a program that reads a string from keyboard and display: \n",
    "* The number of uppercase letters in the string \n",
    "* The number of lowercase letters in the string \n",
    "* The number of digits in the string \n",
    "* The number of whitespace characters in the string"
   ]
  },
  {
   "cell_type": "code",
   "execution_count": 24,
   "id": "a751b67c-cf62-418f-86e8-87d87acef3be",
   "metadata": {},
   "outputs": [
    {
     "name": "stdin",
     "output_type": "stream",
     "text": [
      "ENTER THE STRING MoinMehtab830@gmail.com\n"
     ]
    },
    {
     "name": "stdout",
     "output_type": "stream",
     "text": [
      "NUMBERS OF UPPER CASE IN STRING 2\n",
      "NUMBERS OF LOWER CASE IN STRING 16\n",
      "NUMBERS OF DIGITS  IN STRING 3\n",
      "NUMBERS OF WHITESPACE CHARACTER IN STRING 0\n"
     ]
    }
   ],
   "source": [
    "str = input('ENTER THE STRING')\n",
    "upper_case = 0\n",
    "lower_case = 0\n",
    "is_digit = 0\n",
    "white_space = 0\n",
    "for char in str:\n",
    "    if char.isupper():\n",
    "        upper_case +=1\n",
    "    elif char.islower():\n",
    "        lower_case +=1\n",
    "    elif char.isdigit():\n",
    "        is_digit +=1\n",
    "    elif char.isspace():\n",
    "        white_space\n",
    "print (f\"NUMBERS OF UPPER CASE IN STRING {upper_case}\")\n",
    "print (f\"NUMBERS OF LOWER CASE IN STRING {lower_case}\")\n",
    "print (f\"NUMBERS OF DIGITS  IN STRING {is_digit}\")\n",
    "print (f\"NUMBERS OF WHITESPACE CHARACTER IN STRING {white_space}\")"
   ]
  },
  {
   "cell_type": "markdown",
   "id": "92e31cd3-ad40-49ef-b344-6a57e9efee57",
   "metadata": {},
   "source": [
    "Write a Python program that accepts a string from user. Your program should create and display a \n",
    "new string where the first and last characters have been exchanged. \n",
    "For example if the user enters the string 'HELLO' then new string would be 'OELLH"
   ]
  },
  {
   "cell_type": "code",
   "execution_count": 39,
   "id": "2dbcddad-194e-4b71-a24a-daf1c3876aa7",
   "metadata": {},
   "outputs": [
    {
     "name": "stdin",
     "output_type": "stream",
     "text": [
      "enter the string HELLO\n"
     ]
    },
    {
     "name": "stdout",
     "output_type": "stream",
     "text": [
      "HELLO\n",
      "OELLH\n"
     ]
    }
   ],
   "source": [
    "str = input('enter the string')\n",
    "print(str)\n",
    "print(str[-1]+str[1:-1]+str[0])"
   ]
  },
  {
   "cell_type": "markdown",
   "id": "d44f934f-7bfb-4024-90a2-1341e5c769e8",
   "metadata": {},
   "source": [
    ". Write a Python program that accepts a string from user. Your program should create a new string in \n",
    "reverse of first string and display it. \n",
    "For example if the user enters the string 'EXAM' then new string would be 'MAXE'"
   ]
  },
  {
   "cell_type": "code",
   "execution_count": 46,
   "id": "19922aba-0796-46f6-8375-de64804944b0",
   "metadata": {},
   "outputs": [
    {
     "name": "stdin",
     "output_type": "stream",
     "text": [
      "enter the string pakistan\n"
     ]
    },
    {
     "name": "stdout",
     "output_type": "stream",
     "text": [
      "pakistan\n",
      "natsikap\n"
     ]
    }
   ],
   "source": [
    "str = input('enter the string')\n",
    "print(str)\n",
    "print(str[::-1])"
   ]
  },
  {
   "cell_type": "markdown",
   "id": "4a66031a-44ff-4ff8-a033-40da219e31b7",
   "metadata": {},
   "source": [
    "5. Write a Python program that accepts a string from user. Your program should create a new string by \n",
    "shifting one position to left. \n",
    "For example if the user enters the string 'examination 2021' then new string would be 'xamination 2021e'"
   ]
  },
  {
   "cell_type": "code",
   "execution_count": 49,
   "id": "cd5f2a56-c05a-4990-8ac4-bcb16f0d0ecd",
   "metadata": {},
   "outputs": [
    {
     "name": "stdin",
     "output_type": "stream",
     "text": [
      "ENTER THE STRING examination2021\n"
     ]
    },
    {
     "name": "stdout",
     "output_type": "stream",
     "text": [
      "examination2021\n",
      "xamination2021e\n"
     ]
    }
   ],
   "source": [
    "str = input('ENTER THE STRING')\n",
    "print(str)\n",
    "print(str[1:]+str[0])"
   ]
  },
  {
   "cell_type": "markdown",
   "id": "e45e594e-5f65-49cb-b3e3-d4f652b9d829",
   "metadata": {},
   "source": [
    "6. Write a program that asks the user to input his name and print its initials. Assuming that the user \n",
    "always types first name, middle name and last name and does not include any unnecessary spaces. \n",
    "For example, if the user enters Ajay Kumar Garg the program should display A. K. G. \n",
    "Note:Don't use split() method"
   ]
  },
  {
   "cell_type": "code",
   "execution_count": 62,
   "id": "c4db9abc-6ec5-476c-84b5-9f6783f64683",
   "metadata": {},
   "outputs": [
    {
     "name": "stdin",
     "output_type": "stream",
     "text": [
      "Enter your name (first name, middle name, last name):  shahid khan afridi\n"
     ]
    },
    {
     "name": "stdout",
     "output_type": "stream",
     "text": [
      "Initials: s. k. a.\n"
     ]
    }
   ],
   "source": [
    "name = input(\"Enter your name (first name, middle name, last name): \")\n",
    "initials = \"\"\n",
    "for i in range(len(name)):\n",
    "    if i == 0 or name[i-1] == \" \":\n",
    "        initials += name[i] + \". \"\n",
    "initials = initials.strip()\n",
    "print(\"Initials:\", initials)\n",
    "\n"
   ]
  },
  {
   "cell_type": "markdown",
   "id": "9d4a8425-5a72-4c0b-b341-30e3c3373967",
   "metadata": {},
   "source": [
    ". A palindrome is a string that reads the same backward as forward. For example, the words dad, \n",
    "madam and radar are all palindromes. Write a programs that determines whether the string is a \n",
    "palindrome. \n",
    "Note: do not use reverse() method"
   ]
  },
  {
   "cell_type": "code",
   "execution_count": 1,
   "id": "206422d8-5e71-40cf-9b19-9031dbe8e193",
   "metadata": {},
   "outputs": [
    {
     "name": "stdin",
     "output_type": "stream",
     "text": [
      "Enter a string:  madam\n"
     ]
    },
    {
     "name": "stdout",
     "output_type": "stream",
     "text": [
      "The string is a palindrome.\n"
     ]
    }
   ],
   "source": [
    "string = input(\"Enter a string: \")\n",
    "i = 0\n",
    "j = len(string) - 1\n",
    "while i < j:\n",
    "    if string[i] != string[j]:\n",
    "        print(\"The string is not a palindrome.\")\n",
    "        exit()\n",
    "    i += 1\n",
    "    j -= 1\n",
    "\n",
    "print(\"The string is a palindrome.\")"
   ]
  },
  {
   "cell_type": "markdown",
   "id": "547e2763-a7d5-49d5-8e24-4a2b5f4f53cd",
   "metadata": {},
   "source": [
    "8. Write a program that display following output: \n",
    "SHIFT \n",
    "HIFTS \n",
    "IFTSH \n",
    "FTSHI \n",
    "TSHIF \n",
    "SHIFT "
   ]
  },
  {
   "cell_type": "code",
   "execution_count": 10,
   "id": "2dd7dd8d-8e56-472e-810f-84f461feea1e",
   "metadata": {},
   "outputs": [
    {
     "name": "stdout",
     "output_type": "stream",
     "text": [
      "shift\n",
      "hifts\n",
      "iftsh\n",
      "ftshi\n",
      "tshif\n",
      "shift\n"
     ]
    }
   ],
   "source": [
    "str = 'shift'\n",
    "for i in range(len(str)):\n",
    "    print(str[i:]+ str[:i])\n",
    "print(str)"
   ]
  },
  {
   "cell_type": "markdown",
   "id": "ce6f771f-6421-4c69-a72e-4d8a77858dac",
   "metadata": {},
   "source": [
    " 9. Write a program in python that accepts a string to setup a passwords. Your entered password must \n",
    "meet the following requirements: \n",
    "The password must be at least eight characters long. \n",
    "It must contain at least one uppercase letter. \n",
    "It must contain at least one lowercase letter. \n",
    "It must contain at least one numeric digit. \n",
    "Your program should should perform this validation"
   ]
  },
  {
   "cell_type": "code",
   "execution_count": 26,
   "id": "db4c06c8-8f6b-4d15-a42b-6dec7a620b6d",
   "metadata": {},
   "outputs": [
    {
     "name": "stdin",
     "output_type": "stream",
     "text": [
      "enter your password Pakistan2245\n"
     ]
    },
    {
     "name": "stdout",
     "output_type": "stream",
     "text": [
      "PASSWORD IS VALID\n"
     ]
    }
   ],
   "source": [
    "password = input('enter your password')\n",
    "has_upper = False\n",
    "has_lower = False\n",
    "has_digit = False\n",
    "if len(password) < 8:\n",
    "    print('PASSWWORD MUST BE REQUIRED 8 CHARACTER ')\n",
    "else:\n",
    "    for char in password:\n",
    "        if char.isupper():\n",
    "            has_upper = True\n",
    "        elif char.islower():\n",
    "            has_lower = True\n",
    "        elif char.isdigit():\n",
    "            has_digit = True\n",
    "            \n",
    "if has_upper and has_lower and has_digit:\n",
    "     print('PASSWORD IS VALID')\n",
    "else:\n",
    "    print('PASSWORD MUST MEET THE FOLLOWING REQUIREMENTS')\n",
    "    if not has_upper :\n",
    "        print('ATLEAST ENTER ONE UPPER CASE LETTER')\n",
    "    elif not has_lower :\n",
    "         print('ATLEAST ENTER ONE LOWER CASE LETTER')\n",
    "    elif not has_digit :\n",
    "         print('ATLEAST ENTER ONE DIGIT IN PASSWORD')\n",
    "\n",
    "\n"
   ]
  },
  {
   "cell_type": "code",
   "execution_count": null,
   "id": "c7ea7b1a-4c81-45c7-a1fd-90c84a3f6646",
   "metadata": {},
   "outputs": [],
   "source": []
  }
 ],
 "metadata": {
  "kernelspec": {
   "display_name": "Python 3 (ipykernel)",
   "language": "python",
   "name": "python3"
  },
  "language_info": {
   "codemirror_mode": {
    "name": "ipython",
    "version": 3
   },
   "file_extension": ".py",
   "mimetype": "text/x-python",
   "name": "python",
   "nbconvert_exporter": "python",
   "pygments_lexer": "ipython3",
   "version": "3.12.7"
  }
 },
 "nbformat": 4,
 "nbformat_minor": 5
}
