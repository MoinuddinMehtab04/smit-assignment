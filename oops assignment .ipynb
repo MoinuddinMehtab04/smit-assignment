{
 "cells": [
  {
   "cell_type": "raw",
   "id": "3cce8233-a8d2-49fc-bca8-e4e4c0c80ef4",
   "metadata": {},
   "source": [
    "1. Write a Python program to create a class called \"Person\" with properties for \n",
    "name, age and country. Include a method to display the person's details. Create \n",
    "two instances of the 'Person' class and display their details. "
   ]
  },
  {
   "cell_type": "code",
   "execution_count": 49,
   "id": "a3035be1-09a0-4518-bd50-befdc4a5b253",
   "metadata": {},
   "outputs": [],
   "source": [
    "class Person():\n",
    "    def __init__(self,name,age,country):\n",
    "        self.name = name\n",
    "        self.age = age\n",
    "        self.country = country\n",
    "    def person_detail(self):\n",
    "        print ( f\"\"\"\n",
    "                     PERSON INFO\n",
    "              _____________________________   \n",
    "                  \n",
    "                  NAME : {self.name}\n",
    "                  AGE : {self.age}\n",
    "                  COUNTRY : {self.country}\n",
    "        \"\"\")"
   ]
  },
  {
   "cell_type": "code",
   "execution_count": 51,
   "id": "bf471d51-5874-4c76-8ba9-83113a6ffbf6",
   "metadata": {},
   "outputs": [],
   "source": [
    "p1 = Person ('MOIN UDDIN',19,'PAKISTAN')"
   ]
  },
  {
   "cell_type": "code",
   "execution_count": 53,
   "id": "073710bc-a78c-475c-8bea-9a92e9de4c5d",
   "metadata": {},
   "outputs": [],
   "source": [
    "p2 = Person('NIZAM UDDIN ',22,'PAKISTAN')"
   ]
  },
  {
   "cell_type": "code",
   "execution_count": 55,
   "id": "01738992-2825-4022-9518-6b3c9c768339",
   "metadata": {},
   "outputs": [
    {
     "data": {
      "text/plain": [
       "'MOIN UDDIN'"
      ]
     },
     "execution_count": 55,
     "metadata": {},
     "output_type": "execute_result"
    }
   ],
   "source": [
    "p1.name"
   ]
  },
  {
   "cell_type": "code",
   "execution_count": 57,
   "id": "fd8bd453-dde1-426a-b906-446b42675bb3",
   "metadata": {},
   "outputs": [
    {
     "data": {
      "text/plain": [
       "'NIZAM UDDIN '"
      ]
     },
     "execution_count": 57,
     "metadata": {},
     "output_type": "execute_result"
    }
   ],
   "source": [
    "p2.name"
   ]
  },
  {
   "cell_type": "code",
   "execution_count": 59,
   "id": "79a79aa2-06cf-413d-8401-39cc96fe2fc3",
   "metadata": {},
   "outputs": [
    {
     "name": "stdout",
     "output_type": "stream",
     "text": [
      "\n",
      "                     PERSON INFO\n",
      "              _____________________________   \n",
      "                  \n",
      "                  NAME : MOIN UDDIN\n",
      "                  AGE : 19\n",
      "                  COUNTRY : PAKISTAN\n",
      "        \n"
     ]
    }
   ],
   "source": [
    "p1.person_detail()"
   ]
  },
  {
   "cell_type": "code",
   "execution_count": 61,
   "id": "2a1f2fbf-6019-4bed-8c7a-5128e831d746",
   "metadata": {},
   "outputs": [
    {
     "name": "stdout",
     "output_type": "stream",
     "text": [
      "\n",
      "                     PERSON INFO\n",
      "              _____________________________   \n",
      "                  \n",
      "                  NAME : NIZAM UDDIN \n",
      "                  AGE : 22\n",
      "                  COUNTRY : PAKISTAN\n",
      "        \n"
     ]
    }
   ],
   "source": [
    "p2.person_detail()"
   ]
  },
  {
   "cell_type": "raw",
   "id": "8d4bac1d-edf4-4685-8d70-9e8496603bf8",
   "metadata": {},
   "source": [
    "2. Write a Python program to create a class called 'Rectangle' with properties for \n",
    "width and height. Include two methods to calculate rectangle area and perimeter. \n",
    "Create an instance of the 'Rectangle' class and calculate its area and perimeter"
   ]
  },
  {
   "cell_type": "code",
   "execution_count": 63,
   "id": "4905eca7-0b84-44f5-a147-bb098c23daa3",
   "metadata": {},
   "outputs": [],
   "source": [
    "class Rectangle():\n",
    "    def __init__(self,width,height):\n",
    "        self.width = width\n",
    "        self.height = height\n",
    "    def area_rectangle(self):\n",
    "        area = self.width * self.height\n",
    "        return f\" AREA OF RECTANGLE IS {area}\"\n",
    "    def Para_rectangle(self):\n",
    "        para = 2*(self.width + self.height)\n",
    "        return f\" PARAMETER OF RECTANGLE IS {para}\"\n",
    "    "
   ]
  },
  {
   "cell_type": "code",
   "execution_count": 65,
   "id": "c197584a-ad91-4dc7-8e4b-005c58d3a62c",
   "metadata": {},
   "outputs": [],
   "source": [
    "r1 = Rectangle(3.5,6.3)"
   ]
  },
  {
   "cell_type": "code",
   "execution_count": 67,
   "id": "0766738d-6906-46cf-a480-aadb359705a3",
   "metadata": {},
   "outputs": [],
   "source": [
    "r2 = Rectangle(2.2,4.5)"
   ]
  },
  {
   "cell_type": "code",
   "execution_count": 69,
   "id": "32f54b7f-1341-4ac0-8aea-6c8f9d32fdc7",
   "metadata": {},
   "outputs": [
    {
     "data": {
      "text/plain": [
       "' PARAMETER OF RECTANGLE IS 19.6'"
      ]
     },
     "execution_count": 69,
     "metadata": {},
     "output_type": "execute_result"
    }
   ],
   "source": [
    "r1.Para_rectangle()"
   ]
  },
  {
   "cell_type": "code",
   "execution_count": 71,
   "id": "7daaa7c9-29eb-4a32-a997-058ab3ca1950",
   "metadata": {},
   "outputs": [
    {
     "data": {
      "text/plain": [
       "' AREA OF RECTANGLE IS 22.05'"
      ]
     },
     "execution_count": 71,
     "metadata": {},
     "output_type": "execute_result"
    }
   ],
   "source": [
    "r1.area_rectangle()"
   ]
  },
  {
   "cell_type": "code",
   "execution_count": 73,
   "id": "0e413872-07f4-44c2-965e-262c13bb36d2",
   "metadata": {},
   "outputs": [
    {
     "data": {
      "text/plain": [
       "' AREA OF RECTANGLE IS 9.9'"
      ]
     },
     "execution_count": 73,
     "metadata": {},
     "output_type": "execute_result"
    }
   ],
   "source": [
    "r2.area_rectangle()"
   ]
  },
  {
   "cell_type": "code",
   "execution_count": 75,
   "id": "3e4c313e-0a12-4257-bac8-1365ab859fa8",
   "metadata": {},
   "outputs": [
    {
     "data": {
      "text/plain": [
       "' PARAMETER OF RECTANGLE IS 13.4'"
      ]
     },
     "execution_count": 75,
     "metadata": {},
     "output_type": "execute_result"
    }
   ],
   "source": [
    "r2.Para_rectangle()"
   ]
  },
  {
   "cell_type": "raw",
   "id": "2ba5f72b-65db-4ce5-aad2-d4601855806f",
   "metadata": {},
   "source": [
    "3. Write a Python program that creates a class called 'Vehicle' with properties for \n",
    "make, model, and year. Include a method to display vehicle details. Create a \n",
    "subclass called 'Car' that inherits from the 'Vehicle' class and includes an \n",
    "additional property for the number of doors. Override the display method to \n",
    "include the number of doors. \n"
   ]
  },
  {
   "cell_type": "code",
   "execution_count": 105,
   "id": "7811b5b7-c25f-4334-ae10-88fe92a40435",
   "metadata": {},
   "outputs": [],
   "source": [
    "class Vehicle():\n",
    "    def __init__(self,make,model,year):\n",
    "        self.make = make\n",
    "        self.model = model\n",
    "        self.year = year \n",
    "class Car(Vehicle):\n",
    "    def __init__(self,make,model,year):\n",
    "        super().__init__(make,model,year)\n",
    "        self.number_of_door = 4\n",
    "    def car_info(self):\n",
    "        print(f\"\"\"\n",
    "                    CAR INFO \n",
    "            ___________________________\n",
    "             CAR MAKE : {self.make}\n",
    "             CAR MODEL : {self.model}\n",
    "             CAR YEAR : {self.year}\n",
    "        \"\"\")"
   ]
  },
  {
   "cell_type": "code",
   "execution_count": 107,
   "id": "9ac89eea-b347-43e6-a63d-8615ae36aea9",
   "metadata": {},
   "outputs": [],
   "source": [
    "c1 = Car('honda','civic',2023)"
   ]
  },
  {
   "cell_type": "code",
   "execution_count": 109,
   "id": "40bbdb9b-278b-4873-951c-46997efedb42",
   "metadata": {},
   "outputs": [
    {
     "data": {
      "text/plain": [
       "4"
      ]
     },
     "execution_count": 109,
     "metadata": {},
     "output_type": "execute_result"
    }
   ],
   "source": [
    "c1.number_of_door"
   ]
  },
  {
   "cell_type": "code",
   "execution_count": 111,
   "id": "6298ee98-44ef-41bd-81b2-f43061819f61",
   "metadata": {},
   "outputs": [
    {
     "data": {
      "text/plain": [
       "2023"
      ]
     },
     "execution_count": 111,
     "metadata": {},
     "output_type": "execute_result"
    }
   ],
   "source": [
    "c1.year"
   ]
  },
  {
   "cell_type": "code",
   "execution_count": 113,
   "id": "0be6980f-9f42-4921-8d86-747dbe6749e6",
   "metadata": {},
   "outputs": [
    {
     "data": {
      "text/plain": [
       "'honda'"
      ]
     },
     "execution_count": 113,
     "metadata": {},
     "output_type": "execute_result"
    }
   ],
   "source": [
    "c1.make"
   ]
  },
  {
   "cell_type": "code",
   "execution_count": 115,
   "id": "3f0dbf76-f218-4f7c-ba0a-9d5088ca77d8",
   "metadata": {},
   "outputs": [
    {
     "name": "stdout",
     "output_type": "stream",
     "text": [
      "\n",
      "                    CAR INFO \n",
      "            ___________________________\n",
      "             CAR MAKE : honda\n",
      "             CAR MODEL : civic\n",
      "             CAR YEAR : 2023\n",
      "        \n"
     ]
    }
   ],
   "source": [
    "c1.car_info()"
   ]
  },
  {
   "cell_type": "raw",
   "id": "8c9a59b5-fb65-4bfa-85d6-3cedb5e0b43d",
   "metadata": {},
   "source": [
    "4. Write a Python program that creates a class called \"BankAccount\" with \n",
    "properties for account number and balance. Include methods to deposit and \n",
    "withdraw money from the account. Create some instances of the \"BankAccount\" \n",
    "class, deposit some money, and withdraw a portion of it. \n"
   ]
  },
  {
   "cell_type": "code",
   "execution_count": 119,
   "id": "9e2f151c-614b-4fb9-bfe0-e17781db7d98",
   "metadata": {},
   "outputs": [],
   "source": [
    "class BankAccount():\n",
    "    def __init__(self,account_num,balance=0):\n",
    "        self.account_num = account_num\n",
    "        self.balance = balance \n",
    "    def deposit(self,account_num,amount):\n",
    "        self.account_num = account_num\n",
    "        self.amount = amount\n",
    "        self.balance+=self.amount\n",
    "    def withdrawl(self,account_num,amount):\n",
    "        self.account_num = account_num\n",
    "        self.amount = amount\n",
    "        self.balance -=self.amount\n",
    "    def account_detail(self):\n",
    "        print(f\"\"\"\n",
    "                    ACCOUNT NUMBER : {self.account_num}\n",
    "                    ACCOUNT BALANCE : {self.balance}\n",
    "                    \n",
    "                    \n",
    "        \n",
    "        \n",
    "        \n",
    "        \"\"\")\n",
    "    \n",
    "    "
   ]
  },
  {
   "cell_type": "code",
   "execution_count": 125,
   "id": "ef6b3c68-fa97-4d17-b3be-2da704515234",
   "metadata": {},
   "outputs": [],
   "source": [
    "b1 = BankAccount(6655443322)"
   ]
  },
  {
   "cell_type": "code",
   "execution_count": 127,
   "id": "59f64ae9-4166-4ba7-bd57-7dc751868039",
   "metadata": {},
   "outputs": [
    {
     "data": {
      "text/plain": [
       "0"
      ]
     },
     "execution_count": 127,
     "metadata": {},
     "output_type": "execute_result"
    }
   ],
   "source": [
    "b1.balance"
   ]
  },
  {
   "cell_type": "code",
   "execution_count": 129,
   "id": "83c826d4-2db4-4300-9a9c-0331d446d6ad",
   "metadata": {},
   "outputs": [],
   "source": [
    "b1.deposit(6655443322,4000)"
   ]
  },
  {
   "cell_type": "code",
   "execution_count": 131,
   "id": "0c2b19da-3424-4374-9e59-730e273fb9f9",
   "metadata": {},
   "outputs": [
    {
     "data": {
      "text/plain": [
       "4000"
      ]
     },
     "execution_count": 131,
     "metadata": {},
     "output_type": "execute_result"
    }
   ],
   "source": [
    "b1.balance"
   ]
  },
  {
   "cell_type": "code",
   "execution_count": 133,
   "id": "abcb9a41-7f66-49f8-a8e9-af3d13830cfb",
   "metadata": {},
   "outputs": [],
   "source": [
    "b1.withdrawl(6655443322,2000)"
   ]
  },
  {
   "cell_type": "code",
   "execution_count": 135,
   "id": "282e9c07-33c8-4c62-a80e-24a72b40d52b",
   "metadata": {},
   "outputs": [
    {
     "data": {
      "text/plain": [
       "2000"
      ]
     },
     "execution_count": 135,
     "metadata": {},
     "output_type": "execute_result"
    }
   ],
   "source": [
    "b1.balance"
   ]
  },
  {
   "cell_type": "code",
   "execution_count": 137,
   "id": "d4eac923-a13d-4a7b-b9c1-25eeffa11c71",
   "metadata": {},
   "outputs": [
    {
     "name": "stdout",
     "output_type": "stream",
     "text": [
      "\n",
      "                    ACCOUNT NUMBER : 6655443322\n",
      "                    ACCOUNT BALANCE : 2000\n",
      "                    \n",
      "                    \n",
      "        \n",
      "        \n",
      "        \n",
      "        \n"
     ]
    }
   ],
   "source": [
    "b1.account_detail()"
   ]
  },
  {
   "cell_type": "raw",
   "id": "5f9cf874-8d3d-47b3-96e9-ce95d83ed9c4",
   "metadata": {},
   "source": [
    "5. Write a Python program that creates a class called 'Shape' with a method to \n",
    "calculate the area. Create two subclasses, 'Circle' and 'Triangle', that inherit from \n",
    "the 'Shape' class and override the area calculation method. Create an instance of \n",
    "the 'Circle' class and calculate its area. Similarly, do the same for the 'Triangle' \n",
    "clas"
   ]
  },
  {
   "cell_type": "code",
   "execution_count": null,
   "id": "fff81bba-ada7-4c03-bb62-6e3fee04b9e0",
   "metadata": {},
   "outputs": [],
   "source": [
    "class Shape():\n",
    "    "
   ]
  },
  {
   "cell_type": "raw",
   "id": "f9a85bf1-ce61-4f7d-a9ad-ec6600df8de8",
   "metadata": {},
   "source": [
    "Write a Python program that creates a class called 'Employee' with properties \n",
    "for name and salary. Include a method to calculate annual salary. Create a \n",
    "subclass called 'Manager' that inherits from the 'Employee' class and adds an \n",
    "additional property for department. Override the annual salary calculation method \n",
    "to include bonuses for managers. Create two instances of the 'Manager' class \n",
    "and calculate their annual salary. \n"
   ]
  },
  {
   "cell_type": "code",
   "execution_count": 13,
   "id": "5d5b9b8f-f4de-49f4-8493-3df8db85e5bd",
   "metadata": {},
   "outputs": [
    {
     "name": "stdout",
     "output_type": "stream",
     "text": [
      "Hamza from Sales department has an annual salary of 66000.0.\n",
      "Ahmed from Marketing department has an annual salary of 79200.0.\n"
     ]
    }
   ],
   "source": [
    "class Employee:\n",
    "    def __init__(self, name, salary):\n",
    "        self.name = name\n",
    "        self.salary = salary\n",
    "\n",
    "    def calculate_annual_salary(self):\n",
    "        return self.salary * 12\n",
    "\n",
    "class Manager(Employee):\n",
    "    def __init__(self, name, salary, department):\n",
    "        super().__init__(name, salary)\n",
    "        self.department = department\n",
    "\n",
    "    def calculate_annual_salary(self):\n",
    "        base_annual_salary = super().calculate_annual_salary()\n",
    "        bonus = base_annual_salary * 0.10  # Assuming a 10% bonus\n",
    "        return base_annual_salary + bonus\n",
    "\n",
    "\n",
    "manager1 = Manager(\"Hamza\", 5000, \"Sales\")\n",
    "manager2 = Manager(\"Ahmed\", 6000, \"Marketing\")\n",
    "\n",
    "\n",
    "annual_salary1 = manager1.calculate_annual_salary()\n",
    "annual_salary2 = manager2.calculate_annual_salary()\n",
    "\n",
    "print(f\"{manager1.name} from {manager1.department} department has an annual salary of {annual_salary1}.\")\n",
    "print(f\"{manager2.name} from {manager2.department} department has an annual salary of {annual_salary2}.\")\n"
   ]
  },
  {
   "cell_type": "raw",
   "id": "34114b34-db30-4f8e-b215-ac1dd9f57eaf",
   "metadata": {},
   "source": [
    "7. Write a Python program that creates a class `Book` with properties for title, \n",
    "author, and publication year. Include a method to display book details. Create a \n",
    "subclass called 'Ebook' that inherits from the 'Book' class and includes an \n",
    "additional property for book price. Override the display method to include the \n",
    "book price. Create an instance of the 'Ebook' class and display its details"
   ]
  },
  {
   "cell_type": "code",
   "execution_count": 43,
   "id": "6594478a-5a4e-4df3-9d4d-c774773778d4",
   "metadata": {},
   "outputs": [],
   "source": [
    "class Book:\n",
    "    def __init__(self,title,author,p_year):\n",
    "        self.title = title\n",
    "        self.author = author\n",
    "        self.p_year = p_year\n",
    "    def book_detail(self):\n",
    "        print(f\"\"\"\"\n",
    "                    BOOK DETAIL\n",
    "            ________________________\n",
    "            BOOK TITLE : {self.title}\n",
    "            BOOK AUTHOR : {self.author}\n",
    "            PUBLICATION YEAR : {self.p_year}\n",
    "        \"\"\")\n",
    "class Ebook(Book):\n",
    "    def __init__(self,title,author,p_year,price):\n",
    "        super().__init__(title,author,p_year)\n",
    "        self.price = price\n",
    "    def book_detail(self):\n",
    "        book =super().book_detail()\n",
    "        print(f\"Price: ${self.price:.2f}\")\n",
    "        \n",
    "ebook = Ebook(\"calculus and analytical geomatry\", \"sm yusuf\", 2016, 1500)"
   ]
  },
  {
   "cell_type": "code",
   "execution_count": 45,
   "id": "7357c70f-fdf4-4993-86b1-b48944f33385",
   "metadata": {},
   "outputs": [
    {
     "name": "stdout",
     "output_type": "stream",
     "text": [
      "\"\n",
      "                    BOOK DETAIL\n",
      "            ________________________\n",
      "            BOOK TITLE : calculus and analytical geomatry\n",
      "            BOOK AUTHOR : sm yusuf\n",
      "            PUBLICATION YEAR : 2016\n",
      "        \n",
      "Price: $1500.00\n"
     ]
    }
   ],
   "source": [
    "ebook.book_detail()"
   ]
  },
  {
   "cell_type": "raw",
   "id": "f3c87629-4090-4ac7-abdf-05c3d688c134",
   "metadata": {},
   "source": [
    "8. Write a Python program that creates a class called 'Animal' with properties for \n",
    "species and sound. Include a method to make the animal's sound. Create a \n",
    "subclass called 'Dog' that inherits from the 'Animal' class and adds an additional \n",
    "property for color. Override the make sound method to include the dog's color. \n",
    "Create an instance of the 'Dog' class and make it make its sound. "
   ]
  },
  {
   "cell_type": "code",
   "execution_count": 47,
   "id": "7af01cf0-2a94-4821-ab44-6f93ce2c6319",
   "metadata": {},
   "outputs": [],
   "source": [
    "class Animal:\n",
    "    def __init__(self,species,sound):\n",
    "        self.species = species\n",
    "        self.sound = sound\n",
    "    def make_sound(self): \n",
    "        print(f\"The {self.species} goes '{self.sound}'.\")\n",
    "class Dog(Animal):\n",
    "    def __init__(self,species,sound,color):\n",
    "        super().__init__(species,sound)\n",
    "        self.color = color\n",
    "    def make_sound(self): \n",
    "        print(f\"The {self.color} dog goes '{self.sound}'.\")\n",
    "d1 = Dog('dog','woof','brown')"
   ]
  },
  {
   "cell_type": "code",
   "execution_count": 49,
   "id": "b630f1c3-09ce-4f68-ac39-9db2c46c524f",
   "metadata": {},
   "outputs": [
    {
     "name": "stdout",
     "output_type": "stream",
     "text": [
      "The brown dog goes 'woof'.\n"
     ]
    }
   ],
   "source": [
    "d1.make_sound()"
   ]
  },
  {
   "cell_type": "raw",
   "id": "0891e1af-d7eb-4cf0-93a7-c325c875b6d1",
   "metadata": {},
   "source": [
    "9. Write a Python program that creates a class called Bank with properties for \n",
    "bank names and branches. Include methods to add a branch, remove a branch, \n",
    "and display all branches. Create an instance of the Bank class and perform \n",
    "operations to add and remove branches. \n"
   ]
  },
  {
   "cell_type": "code",
   "execution_count": 41,
   "id": "06f1913d-5f1b-4866-a4af-b6c99519dd7f",
   "metadata": {},
   "outputs": [
    {
     "name": "stdout",
     "output_type": "stream",
     "text": [
      "Branch 'GARDEN' added.\n",
      "Branch 'SHOE MARKET' added.\n",
      "Branch 'BOHRA PIR' added.\n",
      "Branches of MEEZAN BANK:\n",
      "- GARDEN\n",
      "- SHOE MARKET\n",
      "- BOHRA PIR\n",
      "Branch 'SHOE MARKET' removed.\n",
      "Branches of MEEZAN BANK:\n",
      "- GARDEN\n",
      "- BOHRA PIR\n"
     ]
    },
    {
     "data": {
      "text/plain": [
       "'MEEZAN BANK'"
      ]
     },
     "execution_count": 41,
     "metadata": {},
     "output_type": "execute_result"
    }
   ],
   "source": [
    "class Bank:\n",
    "    def __init__(self, name):\n",
    "        self.name = name\n",
    "        self.branches = []\n",
    "\n",
    "    def add_branch(self, branch):\n",
    "        self.branches.append(branch)\n",
    "        print(f\"Branch '{branch}' added.\")\n",
    "\n",
    "    def remove_branch(self, branch):\n",
    "        if branch in self.branches:\n",
    "            self.branches.remove(branch)\n",
    "            print(f\"Branch '{branch}' removed.\")\n",
    "        else:\n",
    "            print(f\"Branch '{branch}' not found.\")\n",
    "\n",
    "    def display_branches(self):\n",
    "        print(f\"Branches of {self.name}:\")\n",
    "        for branch in self.branches:\n",
    "            print(f\"- {branch}\")\n",
    "\n",
    "\n",
    "my_bank.display_branches()\n",
    "\n",
    "my_bank.name"
   ]
  },
  {
   "cell_type": "raw",
   "id": "23b28662-0990-48a8-a9f0-75a1eda26c5a",
   "metadata": {},
   "source": [
    "10. Write a Python program that creates a class called Product with properties for \n",
    "product ID, name, and price. Include a method to calculate the total price by \n",
    "multiplying the price by the quantity. Create a subclass called \n",
    "PersonalCareProduct that inherits from the Product class and adds an additional \n",
    "property for the warranty period. Override the total price calculation method to \n",
    "include the warranty period. Create an instance of the PersonalCareProduct \n",
    "class and calculate its total price"
   ]
  },
  {
   "cell_type": "code",
   "execution_count": 67,
   "id": "6921b2d4-ac4a-4f12-9276-d9d683935490",
   "metadata": {},
   "outputs": [
    {
     "name": "stdout",
     "output_type": "stream",
     "text": [
      "Total price for Electric Toothbrush (ID: P001)\n",
      "with a warranty period of 2 years: $160.00\n"
     ]
    }
   ],
   "source": [
    "class Product:\n",
    "    def __init__(self, product_id, name, price):\n",
    "        self.product_id = product_id\n",
    "        self.name = name\n",
    "        self.price = price\n",
    "\n",
    "    def calculate_total_price(self, quantity):\n",
    "        return self.price * quantity\n",
    "\n",
    "class PersonalCareProduct(Product):\n",
    "    def __init__(self, product_id, name, price, warranty_period):\n",
    "        super().__init__(product_id, name, price)\n",
    "        self.warranty_period = warranty_period\n",
    "\n",
    "    def calculate_total_price(self, quantity):\n",
    "        base_total_price = super().calculate_total_price(quantity)\n",
    "        additional_warranty_cost = 5 * self.warranty_period\n",
    "        return base_total_price + additional_warranty_cost\n",
    "\n",
    "\n",
    "personal_care_product = PersonalCareProduct(\"P001\", \"Electric Toothbrush\", 50, 2)\n",
    "total_price = personal_care_product.calculate_total_price(3)\n",
    "\n",
    "print(f\"\"\"Total price for {personal_care_product.name} (ID: {personal_care_product.product_id})\n",
    "with a warranty period of {personal_care_product.warranty_period} years: ${total_price:.2f}\"\"\")\n"
   ]
  },
  {
   "cell_type": "raw",
   "id": "6cf739dc-faf0-47ec-81ff-4523522ded94",
   "metadata": {},
   "source": [
    "11. Write a Python program that creates a class called BankAccount with \n",
    "properties for account number, account holder name, and balance. Include \n",
    "methods to deposit, withdraw, and transfer money between accounts. Create \n",
    "multiple instances of the BankAccount class and perform"
   ]
  },
  {
   "cell_type": "code",
   "execution_count": 69,
   "id": "fb502e5f-ee7b-42ac-9ee4-24d9b16daac2",
   "metadata": {},
   "outputs": [],
   "source": [
    "class BankAccount:\n",
    "    def __init__(self, account_number, account_holder_name, balance=0):\n",
    "        self.account_number = account_number\n",
    "        self.account_holder_name = account_holder_name\n",
    "        self.balance = balance\n",
    "\n",
    "    def deposit(self, amount):\n",
    "        if amount > 0:\n",
    "            self.balance += amount\n",
    "            print(f\"Deposited {amount} to account {self.account_number}. New balance: {self.balance}\")\n",
    "        else:\n",
    "            print(\"Deposit amount must be positive.\")\n",
    "\n",
    "    def withdraw(self, amount):\n",
    "        if 0 < amount <= self.balance:\n",
    "            self.balance -= amount\n",
    "            print(f\"Withdrew {amount} from account {self.account_number}. New balance: {self.balance}\")\n",
    "        else:\n",
    "            print(\"Insufficient funds or invalid amount.\")\n",
    "\n",
    "    def transfer(self, amount, target_account):\n",
    "        if 0 < amount <= self.balance: \n",
    "            self.balance -= amount \n",
    "            target_account.balance += amount \n",
    "            print(f\"Transferred {amount} from account {self.account_number} to account {target_account.account_number}. New balance: {self.balance}\")\n",
    "        else:\n",
    "            print(\"Insufficient funds or invalid amount.\")\n",
    "    def display_balance(self): \n",
    "        print(f\"Account {self.account_number} balance: {self.balance}\")\n",
    "account1 = BankAccount(\"001\", \"hamza\", 1000) \n",
    "account2 = BankAccount(\"002\", \"ahmed\", 500) "
   ]
  },
  {
   "cell_type": "code",
   "execution_count": 71,
   "id": "8620417e-00fa-4ea7-a9f5-c55dae1f8dff",
   "metadata": {},
   "outputs": [
    {
     "name": "stdout",
     "output_type": "stream",
     "text": [
      "Deposited 5000 to account 001. New balance: 6000\n",
      "Withdrew 1000 from account 001. New balance: 5000\n",
      "Transferred 2000 from account 001 to account 002. New balance: 3000\n"
     ]
    }
   ],
   "source": [
    "account1.deposit(5000)\n",
    "account1.withdraw(1000)\n",
    "account1.transfer(2000, account2)"
   ]
  },
  {
   "cell_type": "code",
   "execution_count": 73,
   "id": "b35a020b-e143-48b8-9c6c-925d1366dffb",
   "metadata": {},
   "outputs": [
    {
     "name": "stdout",
     "output_type": "stream",
     "text": [
      "Account 001 balance: 3000\n",
      "Account 002 balance: 2500\n"
     ]
    }
   ],
   "source": [
    "account1.display_balance() \n",
    "account2.display_balance()"
   ]
  },
  {
   "cell_type": "raw",
   "id": "8ddd8cb7-4b88-4297-8a98-6d7816001d61",
   "metadata": {},
   "source": [
    "12. Write a Python program that creates a class called University with properties \n",
    "for university name and departments. Include methods to add a department, \n",
    "remove a department, and display all departments. Create an instance of the \n",
    "University class and add and remove departments."
   ]
  },
  {
   "cell_type": "code",
   "execution_count": 93,
   "id": "0f8769f3-420b-42c7-97d5-1c85f3d23e1f",
   "metadata": {},
   "outputs": [],
   "source": [
    "class University:\n",
    "    def __init__(self,uni_name):\n",
    "        self.uni_name = uni_name\n",
    "        self.departments = []\n",
    "    def add_departments(self,departments):\n",
    "        self.departments.append(departments)\n",
    "        print(f\"DEPARTMENT '{departments}' added.\")\n",
    "\n",
    "    def remove_departments(self, departments):\n",
    "        if departments in self.departments:\n",
    "            self.departments.remove(departments)\n",
    "            print(f\"DEPARMENT '{departments}' removed.\")\n",
    "        else:\n",
    "            print(f\"DEPARMENT '{departments}' not found.\")\n",
    "\n",
    "    def display_departments(self):\n",
    "        print(f\"DEPARTMENTS of {self.uni_name}:\")\n",
    "        for departments in self.departments:\n",
    "            print(f\"- {departments}\")\n",
    "\n",
    "        "
   ]
  },
  {
   "cell_type": "code",
   "execution_count": 95,
   "id": "39872b38-a107-4dab-b657-e1897a2d5366",
   "metadata": {},
   "outputs": [],
   "source": [
    "u1 = University('FUUAST')"
   ]
  },
  {
   "cell_type": "code",
   "execution_count": 97,
   "id": "8af9e692-f99e-4869-8786-722a51101790",
   "metadata": {},
   "outputs": [
    {
     "name": "stdout",
     "output_type": "stream",
     "text": [
      "DEPARTMENT 'BBA' added.\n"
     ]
    }
   ],
   "source": [
    "u1.add_departments('BBA')"
   ]
  },
  {
   "cell_type": "code",
   "execution_count": 99,
   "id": "493c190f-2999-4b33-ad2b-3b58ed293cb3",
   "metadata": {},
   "outputs": [
    {
     "name": "stdout",
     "output_type": "stream",
     "text": [
      "DEPARTMENT 'LAW' added.\n",
      "DEPARTMENT 'MSC' added.\n",
      "DEPARTMENT 'BSC' added.\n",
      "DEPARTMENT 'ENG' added.\n"
     ]
    }
   ],
   "source": [
    "u1.add_departments('LAW')\n",
    "u1.add_departments('MSC')\n",
    "u1.add_departments('BSC')\n",
    "u1.add_departments('ENG')"
   ]
  },
  {
   "cell_type": "code",
   "execution_count": 101,
   "id": "6b1ca691-9627-49b1-be21-40577064e147",
   "metadata": {},
   "outputs": [
    {
     "name": "stdout",
     "output_type": "stream",
     "text": [
      "DEPARMENT 'ENG' removed.\n"
     ]
    }
   ],
   "source": [
    "u1.remove_departments('ENG')"
   ]
  },
  {
   "cell_type": "code",
   "execution_count": 105,
   "id": "4dd3a3df-d9e7-4c6f-9ea0-812b35ea6c82",
   "metadata": {},
   "outputs": [
    {
     "name": "stdout",
     "output_type": "stream",
     "text": [
      "DEPARTMENTS of FUUAST:\n",
      "- BBA\n",
      "- LAW\n",
      "- MSC\n",
      "- BSC\n"
     ]
    }
   ],
   "source": [
    "u1.uni_name\n",
    "u1.display_departments()"
   ]
  },
  {
   "cell_type": "code",
   "execution_count": null,
   "id": "a96b993d-b965-485f-b9a1-8a5b5d24d0b1",
   "metadata": {},
   "outputs": [],
   "source": []
  }
 ],
 "metadata": {
  "kernelspec": {
   "display_name": "Python 3 (ipykernel)",
   "language": "python",
   "name": "python3"
  },
  "language_info": {
   "codemirror_mode": {
    "name": "ipython",
    "version": 3
   },
   "file_extension": ".py",
   "mimetype": "text/x-python",
   "name": "python",
   "nbconvert_exporter": "python",
   "pygments_lexer": "ipython3",
   "version": "3.12.7"
  }
 },
 "nbformat": 4,
 "nbformat_minor": 5
}
