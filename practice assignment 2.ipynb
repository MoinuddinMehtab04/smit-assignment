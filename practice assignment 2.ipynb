{
 "cells": [
  {
   "cell_type": "markdown",
   "id": "159fd415-682a-4946-9661-b8ff20e46525",
   "metadata": {},
   "source": [
    "# AREA OF A RECTANGLE\n",
    "-AREA = LENGHT * WIDTH"
   ]
  },
  {
   "cell_type": "code",
   "execution_count": 2,
   "id": "015f4e95-978f-4121-a02f-05a5b4e6468f",
   "metadata": {},
   "outputs": [
    {
     "name": "stdin",
     "output_type": "stream",
     "text": [
      "enter the lenght of rectangle 20\n",
      "enter the width of rectangle 5\n"
     ]
    },
    {
     "name": "stdout",
     "output_type": "stream",
     "text": [
      "THE AREA OF RECTANGLE IS:- 100\n"
     ]
    }
   ],
   "source": [
    "lenght = int (input('enter the lenght of rectangle'))\n",
    "width = int (input('enter the width of rectangle'))\n",
    "area = lenght * width\n",
    "print ('THE AREA OF RECTANGLE IS:-', area)"
   ]
  },
  {
   "cell_type": "markdown",
   "id": "2f8f79b4-517f-47d3-b733-aa20cec3a018",
   "metadata": {},
   "source": [
    "#  CIRCUMFERENCE OF CIRLCE\n",
    "-circumference = 2*3.14159265 *r"
   ]
  },
  {
   "cell_type": "code",
   "execution_count": 1,
   "id": "1da11b9d-6ec0-46e7-b4c9-b760ad11180e",
   "metadata": {},
   "outputs": [
    {
     "name": "stdin",
     "output_type": "stream",
     "text": [
      "ENTER THE RADIUS OF CIRCLE 19.5\n"
     ]
    },
    {
     "name": "stdout",
     "output_type": "stream",
     "text": [
      "THE CIRCUMFERENCE OF CIRCLE IS :- 122.52211335000001\n"
     ]
    }
   ],
   "source": [
    "radius = float(input('ENTER THE RADIUS OF CIRCLE'))\n",
    "value_of_pie = 3.14159265\n",
    "circumference = 2 * value_of_pie * radius\n",
    "print ('THE CIRCUMFERENCE OF CIRCLE IS :-',circumference)"
   ]
  },
  {
   "cell_type": "markdown",
   "id": "eb5de1fc-3c86-440f-8046-b36191610699",
   "metadata": {},
   "source": [
    "#  SIMPLE INTREST\n",
    "- simple intrest = principle * rate * time/100"
   ]
  },
  {
   "cell_type": "code",
   "execution_count": 62,
   "id": "2c6ff137-e580-4304-b160-492eda1a1a6e",
   "metadata": {},
   "outputs": [
    {
     "name": "stdin",
     "output_type": "stream",
     "text": [
      "ENTER THE VALUE OF PRINCIPLE:- 50\n",
      "ENTER THE VALUE OF RATE:- 40\n",
      "ENTER THE TIME:- 5\n"
     ]
    },
    {
     "name": "stdout",
     "output_type": "stream",
     "text": [
      " THE VALUE OF SIMPLE INTREST IS :- 100.0\n"
     ]
    }
   ],
   "source": [
    "principle = int (input('ENTER THE VALUE OF PRINCIPLE:-'))\n",
    "rate = int (input('ENTER THE VALUE OF RATE:-'))\n",
    "time_in_hour = int (input('ENTER THE TIME:-'))\n",
    "simple_intrest = principle * rate * time_in_hour/100\n",
    "print (' THE VALUE OF SIMPLE INTREST IS :-', simple_intrest)"
   ]
  },
  {
   "cell_type": "markdown",
   "id": "3899bec8-e4fa-4d1e-8130-03919bedc2f5",
   "metadata": {},
   "source": [
    "#  SPEED OF AN OBJECT\n",
    "- speed of an object = distance / time"
   ]
  },
  {
   "cell_type": "code",
   "execution_count": 23,
   "id": "dca05fe3-cd25-4da4-9b35-122c223ee315",
   "metadata": {},
   "outputs": [
    {
     "name": "stdin",
     "output_type": "stream",
     "text": [
      "ENTER THE VALUE OF DISTANCE 50\n",
      "ENTER THE TIME 5\n"
     ]
    },
    {
     "name": "stdout",
     "output_type": "stream",
     "text": [
      "THE SPEED OF AN OBJECT IS :- 10.0\n"
     ]
    }
   ],
   "source": [
    "distance_in_km = int (input('ENTER THE VALUE OF DISTANCE'))\n",
    "time_in_hour = int (input('ENTER THE TIME'))\n",
    "speed = distance_in_km / time_in_hour\n",
    "print ('THE SPEED OF AN OBJECT IS :-', speed)"
   ]
  },
  {
   "cell_type": "markdown",
   "id": "a19e4450-e1c5-433b-abc8-f88d522be4f3",
   "metadata": {},
   "source": [
    "# BMI CALCULTOR \n",
    "-bmi = weight*kg / height**2"
   ]
  },
  {
   "cell_type": "code",
   "execution_count": 5,
   "id": "266d4ad8-52d4-4e1e-8e59-8eaeb5c240e5",
   "metadata": {},
   "outputs": [
    {
     "name": "stdin",
     "output_type": "stream",
     "text": [
      "enter your height in meters:- 200\n",
      "enter your weight in kg:- 60\n"
     ]
    },
    {
     "name": "stdout",
     "output_type": "stream",
     "text": [
      "body mass index is:-  2.9999999999999997e-05\n"
     ]
    }
   ],
   "source": [
    "height_in_ft = float(input('enter your height in meters:-'))\n",
    "weight_in_kilogram = float(input('enter your weight in kg:-'))\n",
    "bmi = weight_in_kilogram / height_in_ft/100**2\n",
    "print ('body mass index is:- ', bmi)"
   ]
  },
  {
   "cell_type": "markdown",
   "id": "28760cb7-32a3-415a-9511-134c9299ab8d",
   "metadata": {},
   "source": [
    "#  force using newton second law of motion\n",
    "- f = ma"
   ]
  },
  {
   "cell_type": "code",
   "execution_count": 19,
   "id": "40dc312d-80c8-4f04-a607-4d5a95cb5efd",
   "metadata": {},
   "outputs": [
    {
     "name": "stdin",
     "output_type": "stream",
     "text": [
      "enter the value of mass in kg:- 70\n",
      "enter the value of acceleration in m/s^2:- 30\n"
     ]
    },
    {
     "name": "stdout",
     "output_type": "stream",
     "text": [
      "THE VALUE OF FORCE IS:- 2100\n"
     ]
    }
   ],
   "source": [
    "mass_in_kg = int (input('enter the value of mass in kg:-'))\n",
    "acceleration_in_ms= int(input('enter the value of acceleration in m/s^2:-'))\n",
    "force = mass_in_kg * acceleration_in_ms\n",
    "print ('THE VALUE OF FORCE IS:-',force)"
   ]
  },
  {
   "cell_type": "markdown",
   "id": "55d411d4-9b8f-459a-a7da-ae9ba85ee880",
   "metadata": {},
   "source": [
    "# COMPOUND INTREST \n",
    "- a = p *(1+r/n)**n-t"
   ]
  },
  {
   "cell_type": "code",
   "execution_count": 29,
   "id": "ba94b58e-da9f-43a4-a356-eb87fa3c99b1",
   "metadata": {},
   "outputs": [
    {
     "name": "stdin",
     "output_type": "stream",
     "text": [
      "enter the principle amount 10000\n",
      "enter the annual intrest rate 6\n",
      "enter the numbers of time per year 5\n",
      "enter the number of times that intrest is compounded per year 6\n"
     ]
    },
    {
     "name": "stdout",
     "output_type": "stream",
     "text": [
      "compound intrest 639995.0\n"
     ]
    }
   ],
   "source": [
    "p =int  (input('enter the principle amount'))\n",
    "r= float (input('enter the annual intrest rate'))\n",
    "t = int (input('enter the numbers of time per year'))\n",
    "n = int (input ('enter the number of times that intrest is compounded per year'))\n",
    "amount = p * (1+r/n)**n-t\n",
    "print ('compound intrest', amount)\n"
   ]
  },
  {
   "cell_type": "markdown",
   "id": "f6f9659b-b918-43ad-a57c-c820792b0b3d",
   "metadata": {},
   "source": [
    "#  PERIMETER OF A TRIANGLE\n",
    "- perimeter = a + b + c"
   ]
  },
  {
   "cell_type": "code",
   "execution_count": 25,
   "id": "03856936-e536-419d-ba6d-398be7d63d99",
   "metadata": {},
   "outputs": [
    {
     "name": "stdin",
     "output_type": "stream",
     "text": [
      "enter the value of a 4.5\n",
      "enter the value of b 5.6\n",
      "enter the value of c 7.8\n"
     ]
    },
    {
     "name": "stdout",
     "output_type": "stream",
     "text": [
      "the value of perimeter of triangle is :- 17.9\n"
     ]
    }
   ],
   "source": [
    "a = float (input('enter the value of a'))\n",
    "b = float (input('enter the value of b'))\n",
    "c = float (input('enter the value of c'))\n",
    "p = a + b + c\n",
    "print ('the value of perimeter of triangle is :-', p )"
   ]
  },
  {
   "cell_type": "markdown",
   "id": "1e14062c-4034-4831-a091-f9701e84a3fb",
   "metadata": {},
   "source": [
    "#  VOLUME OF A SPHERE \n",
    "- 4/3 (3.14)*r**3"
   ]
  },
  {
   "cell_type": "code",
   "execution_count": 10,
   "id": "e8d6113c-2dc9-420c-bce0-8ad9f55fea71",
   "metadata": {},
   "outputs": [
    {
     "name": "stdin",
     "output_type": "stream",
     "text": [
      "enter the value of r 33.5\n"
     ]
    },
    {
     "name": "stdout",
     "output_type": "stream",
     "text": [
      "the volume of sphere is:- 157399.30333333334\n"
     ]
    }
   ],
   "source": [
    "r = float(input('enter the value of r'))\n",
    "v = 4/3*(3.14*r**3)\n",
    "print ('the volume of sphere is:-', v)"
   ]
  },
  {
   "cell_type": "markdown",
   "id": "96b04da7-7e7e-47e6-b116-2e78e3a08a8b",
   "metadata": {},
   "source": [
    "# KINETIC ENERGY\n",
    "- KE = 1/2 mv**2"
   ]
  },
  {
   "cell_type": "code",
   "execution_count": 19,
   "id": "7ae0e4f7-0100-48a3-bbd2-c766add1bc83",
   "metadata": {},
   "outputs": [
    {
     "name": "stdin",
     "output_type": "stream",
     "text": [
      "enter the value of mass 20\n",
      "enter the value of velocity 40.5\n"
     ]
    },
    {
     "name": "stdout",
     "output_type": "stream",
     "text": [
      "the kinetic energy is  16402.5\n"
     ]
    }
   ],
   "source": [
    "m_kg = int (input('enter the value of mass'))\n",
    "velocity =float(input('enter the value of velocity'))\n",
    "ke = 1/2*m_kg*velocity**2\n",
    "print ('the kinetic energy is ',ke)"
   ]
  },
  {
   "cell_type": "markdown",
   "id": "ccb6f95e-31cc-4628-bbc3-f109ce2a24f2",
   "metadata": {},
   "source": [
    "#  QUADDRATIC EQUATION ROOT\n",
    "- x = -b +- (b**2-4ac)**0.5/2a"
   ]
  },
  {
   "cell_type": "code",
   "execution_count": 13,
   "id": "725c6b26-e37f-4737-bc8d-e39a39f0e0f2",
   "metadata": {},
   "outputs": [
    {
     "name": "stdin",
     "output_type": "stream",
     "text": [
      "Enter the coefficient a:  1\n",
      "Enter the coefficient b:  -5\n",
      "Enter the coefficient c:  6\n"
     ]
    },
    {
     "name": "stdout",
     "output_type": "stream",
     "text": [
      "The quadratic equation has two distinct real roots:\n",
      "x1 = 3.0\n",
      "x2 = 2.0\n"
     ]
    }
   ],
   "source": [
    "import math\n",
    "\n",
    "def solve_quadratic_equation(a, b, c):\n",
    "    # Calculate the discriminant\n",
    "    D = b**2 - 4*a*c\n",
    "\n",
    "    # Determine the nature of roots\n",
    "    if D > 0:\n",
    "        # Two distinct real roots\n",
    "        x1 = (-b + math.sqrt(D)) / (2*a)\n",
    "        x2 = (-b - math.sqrt(D)) / (2*a)\n",
    "        return x1, x2\n",
    "    elif D == 0:\n",
    "        # One real root (repeated root)\n",
    "        x = -b / (2*a)\n",
    "        return x\n",
    "    else:\n",
    "        # Two complex roots\n",
    "        x1 = (-b + cmath.sqrt(D)) / (2*a)\n",
    "        x2 = (-b - cmath.sqrt(D)) / (2*a)\n",
    "        return x1, x2\n",
    "\n",
    "# Taking user input\n",
    "a = float(input(\"Enter the coefficient a: \"))\n",
    "b = float(input(\"Enter the coefficient b: \"))\n",
    "c = float(input(\"Enter the coefficient c: \"))\n",
    "\n",
    "# Solve the quadratic equation\n",
    "roots = solve_quadratic_equation(a, b, c)\n",
    "\n",
    "# Display the results\n",
    "if isinstance(roots, tuple):\n",
    "    print(\"The quadratic equation has two distinct real roots:\")\n",
    "    print(\"x1 =\", roots[0])\n",
    "    print(\"x2 =\", roots[1])\n",
    "else:\n",
    "    print(\"The quadratic equation has one real root (repeated root):\")\n",
    "    print(\"x =\", roots)\n"
   ]
  },
  {
   "cell_type": "markdown",
   "id": "871c2e35-0441-4eeb-9c5a-015723379e69",
   "metadata": {},
   "source": [
    "#  TEMPRATURE CONVERSION\n",
    "- f = 9/5*c+32"
   ]
  },
  {
   "cell_type": "code",
   "execution_count": 22,
   "id": "6bbcca26-7acc-410f-a5fa-6f20784d381a",
   "metadata": {},
   "outputs": [
    {
     "name": "stdin",
     "output_type": "stream",
     "text": [
      "enter the value of c 44\n"
     ]
    },
    {
     "name": "stdout",
     "output_type": "stream",
     "text": [
      "the value of temorature is :- 111.2\n"
     ]
    }
   ],
   "source": [
    "c_celcius= int (input('enter the value of c'))\n",
    "f = 9/5*c_celcius+32\n",
    "print ('the value of temorature is :-', f)"
   ]
  },
  {
   "cell_type": "markdown",
   "id": "7205b08f-cdb2-4e94-8f0c-294acd8fcf9a",
   "metadata": {},
   "source": [
    "#  GRAVITATIONNAL FORCE\n",
    "- F=g* m1*m2/r**2"
   ]
  },
  {
   "cell_type": "code",
   "execution_count": 7,
   "id": "e1edb432-8de2-4e44-aaeb-5663a971bb56",
   "metadata": {},
   "outputs": [
    {
     "name": "stdin",
     "output_type": "stream",
     "text": [
      "enter the value of m1 44\n",
      "enter the value of m2 55\n",
      "enter the value of r 66\n"
     ]
    },
    {
     "name": "stdout",
     "output_type": "stream",
     "text": [
      "the value of graviational force is 3.7079444444444443\n"
     ]
    }
   ],
   "source": [
    "m1 = int (input( 'enter the value of m1'))\n",
    "m2= int (input( 'enter the value of m2'))\n",
    "r = int (input ('enter the value of r'))\n",
    "g = 6.6743\n",
    "f = g*m1*m2/r**2\n",
    "print('the value of graviational force is',f)"
   ]
  },
  {
   "cell_type": "markdown",
   "id": "27b5bed3-056a-4e73-b845-8a786f52a2ec",
   "metadata": {},
   "source": [
    "# volume of a cylinder\n",
    "- v = 3.14*r**2*h"
   ]
  },
  {
   "cell_type": "code",
   "execution_count": 17,
   "id": "7dfdaaca-e6b0-492b-83a6-4b4b856f37b3",
   "metadata": {},
   "outputs": [
    {
     "name": "stdin",
     "output_type": "stream",
     "text": [
      "enter the value of r 22\n",
      "enter the value of h 44\n"
     ]
    },
    {
     "name": "stdout",
     "output_type": "stream",
     "text": [
      "the volume of a cylinder is 66869.44\n"
     ]
    }
   ],
   "source": [
    "r = int(input('enter the value of r'))\n",
    "h = int (input('enter the value of h'))\n",
    "v = 3.14*r**2*h\n",
    "print ('the volume of a cylinder is', v)"
   ]
  },
  {
   "cell_type": "markdown",
   "id": "4e0afc67-0a92-4bce-afd6-99d2dd768a4d",
   "metadata": {},
   "source": [
    "# pressure\n",
    "- p = f/a"
   ]
  },
  {
   "cell_type": "code",
   "execution_count": 20,
   "id": "987f7dca-3350-4437-b0f4-b54c73fdf893",
   "metadata": {},
   "outputs": [
    {
     "name": "stdin",
     "output_type": "stream",
     "text": [
      "enter the value of f 44\n",
      "enter the value of a 12\n"
     ]
    },
    {
     "name": "stdout",
     "output_type": "stream",
     "text": [
      "the value of presure is 3.6666666666666665\n"
     ]
    }
   ],
   "source": [
    "f = int (input('enter the value of f'))\n",
    "a = int (input('enter the value of a'))\n",
    "p = f/a\n",
    "print ('the value of presure is',p)"
   ]
  },
  {
   "cell_type": "markdown",
   "id": "176d5982-6283-415d-9b32-43e181c6942e",
   "metadata": {},
   "source": [
    "# electric power \n",
    "- p = vi"
   ]
  },
  {
   "cell_type": "code",
   "execution_count": 23,
   "id": "2aad6cd4-1d73-41dd-9564-27e9eed38067",
   "metadata": {},
   "outputs": [
    {
     "name": "stdin",
     "output_type": "stream",
     "text": [
      "enter the value of v 22\n",
      "enter the value of i 6\n"
     ]
    },
    {
     "name": "stdout",
     "output_type": "stream",
     "text": [
      "the value of electric power is 132\n"
     ]
    }
   ],
   "source": [
    "v = int(input('enter the value of v'))\n",
    "i = int (input('enter the value of i'))\n",
    "p = v*i\n",
    "print ('the value of electric power is',p)"
   ]
  },
  {
   "cell_type": "markdown",
   "id": "dcd270a1-f67a-44cd-9d35-89a427139151",
   "metadata": {},
   "source": [
    "# perimeter of circle (circumference)\n",
    "- p = 2*3.14*r"
   ]
  },
  {
   "cell_type": "code",
   "execution_count": 30,
   "id": "a855df51-2f61-462e-baa0-8c6a9e29e94d",
   "metadata": {},
   "outputs": [
    {
     "name": "stdin",
     "output_type": "stream",
     "text": [
      "enter the value of r 33\n"
     ]
    },
    {
     "name": "stdout",
     "output_type": "stream",
     "text": [
      "the perimeter of circle is 207.24\n"
     ]
    }
   ],
   "source": [
    "r = int (input('enter the value of r'))\n",
    "p = 2*3.14*r\n",
    "print ('the perimeter of circle is',p)"
   ]
  },
  {
   "cell_type": "markdown",
   "id": "3f35ed57-382f-4c3f-bb4b-d610946ddb16",
   "metadata": {},
   "source": [
    "# future value in savings\n",
    "- fv = pv(1+r)**t"
   ]
  },
  {
   "cell_type": "code",
   "execution_count": 39,
   "id": "f20173c8-09e5-47e0-ab56-bab9420aa687",
   "metadata": {},
   "outputs": [
    {
     "name": "stdin",
     "output_type": "stream",
     "text": [
      "enter the pressure value  10\n",
      "enter the annaul intrest rate  5\n",
      "enter the times in years 2\n"
     ]
    },
    {
     "name": "stdout",
     "output_type": "stream",
     "text": [
      "the future value of saving is 360.0\n"
     ]
    }
   ],
   "source": [
    "pv = int(input('enter the pressure value '))\n",
    "r = float(input('enter the annaul intrest rate '))\n",
    "t = int (input('enter the times in years'))\n",
    "fv = pv*(1+r)**t\n",
    "print ('the future value of saving is',fv)"
   ]
  },
  {
   "cell_type": "markdown",
   "id": "5a586a3a-44b2-44e7-9482-c2af73aaa685",
   "metadata": {},
   "source": [
    "# work done by a force\n",
    "- w = f.d.cosx"
   ]
  },
  {
   "cell_type": "code",
   "execution_count": 42,
   "id": "4d721bf3-d3bc-4b3d-9b6d-e3377c48c59f",
   "metadata": {},
   "outputs": [
    {
     "name": "stdin",
     "output_type": "stream",
     "text": [
      "enter the value of f 22\n",
      "ente the value of d 4\n",
      "enter the value of cosx 1\n"
     ]
    },
    {
     "name": "stdout",
     "output_type": "stream",
     "text": [
      "the value of work done by force is 88\n"
     ]
    }
   ],
   "source": [
    "f= int(input('enter the value of f'))\n",
    "d = int(input('ente the value of d'))\n",
    "cosx=int (input('enter the value of cosx'))\n",
    "w = f*d*cosx\n",
    "print ('the value of work done by force is',w)"
   ]
  },
  {
   "cell_type": "markdown",
   "id": "846fb261-c1cf-4c52-869d-423c33a65dc5",
   "metadata": {},
   "source": [
    "# heat transfer\n",
    "- q = m*c*delta(t)"
   ]
  },
  {
   "cell_type": "code",
   "execution_count": 45,
   "id": "28484a1d-0413-432c-afb0-b0f9455049a9",
   "metadata": {},
   "outputs": [
    {
     "name": "stdin",
     "output_type": "stream",
     "text": [
      "enter the value of m 24\n",
      "enter the value of c 30\n",
      "enter the value of t 5\n"
     ]
    },
    {
     "name": "stdout",
     "output_type": "stream",
     "text": [
      "the value of heat transfer is 3600\n"
     ]
    }
   ],
   "source": [
    "m = int(input('enter the value of m'))\n",
    "c = int (input('enter the value of c'))\n",
    "t = int (input('enter the value of t'))\n",
    "q = m*c*t\n",
    "print ('the value of heat transfer is',q)"
   ]
  },
  {
   "cell_type": "code",
   "execution_count": null,
   "id": "92fc5f78-1383-44e1-9739-620328b8c29d",
   "metadata": {},
   "outputs": [],
   "source": []
  }
 ],
 "metadata": {
  "kernelspec": {
   "display_name": "Python 3 (ipykernel)",
   "language": "python",
   "name": "python3"
  },
  "language_info": {
   "codemirror_mode": {
    "name": "ipython",
    "version": 3
   },
   "file_extension": ".py",
   "mimetype": "text/x-python",
   "name": "python",
   "nbconvert_exporter": "python",
   "pygments_lexer": "ipython3",
   "version": "3.12.7"
  }
 },
 "nbformat": 4,
 "nbformat_minor": 5
}
