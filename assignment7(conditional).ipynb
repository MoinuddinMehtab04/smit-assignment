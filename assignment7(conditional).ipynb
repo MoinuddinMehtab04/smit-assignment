{
 "cells": [
  {
   "cell_type": "raw",
   "id": "098446c3-95a0-4c15-838f-e4ef70e146e7",
   "metadata": {},
   "source": [
    "Write a program that prompts the user to input a number and display if the number \n",
    "is even or odd. \n"
   ]
  },
  {
   "cell_type": "code",
   "execution_count": 3,
   "id": "50ab83c0-a20b-43e6-9184-4bae34aecfeb",
   "metadata": {},
   "outputs": [
    {
     "name": "stdin",
     "output_type": "stream",
     "text": [
      "enter the number 66\n"
     ]
    },
    {
     "name": "stdout",
     "output_type": "stream",
     "text": [
      "EVEN NUMBER \n"
     ]
    }
   ],
   "source": [
    "num = int(input('enter the number'))\n",
    "if num%2==0:\n",
    "    print('EVEN NUMBER ')\n",
    "else:\n",
    "    print('ODD NUMBER ')"
   ]
  },
  {
   "cell_type": "raw",
   "id": "ffe298d4-7e84-4a6f-9ee9-f219b5e467c3",
   "metadata": {},
   "source": [
    "Write a Python program that takes an age as input and determines whether a person \n",
    "is eligible to vote. If the age is 18 or above, print \"You are eligible to vote.\" Otherwise, \n",
    "print \"You are not eligible to vote yet.\". \n"
   ]
  },
  {
   "cell_type": "code",
   "execution_count": 7,
   "id": "99b78cec-db43-4a17-aaa8-2bf9fea36af0",
   "metadata": {},
   "outputs": [
    {
     "name": "stdin",
     "output_type": "stream",
     "text": [
      "ENTER YOUR AGE  18\n"
     ]
    },
    {
     "name": "stdout",
     "output_type": "stream",
     "text": [
      "YOU ARE ELIGIBLE FOR VOTE\n"
     ]
    }
   ],
   "source": [
    "age = int(input('ENTER YOUR AGE '))\n",
    "if age >=18:\n",
    "    print('YOU ARE ELIGIBLE FOR VOTE')\n",
    "else:\n",
    "    ('YOU ARE NOT ELIGIBLE FOR VOTE')"
   ]
  },
  {
   "cell_type": "raw",
   "id": "3555f578-aabb-4b40-8009-e2cad14e7086",
   "metadata": {},
   "source": [
    "Write a program that prompts the user to input two integers and outputs the larges"
   ]
  },
  {
   "cell_type": "code",
   "execution_count": 13,
   "id": "94c08c71-0174-48f1-8b06-151f15ccbcb0",
   "metadata": {},
   "outputs": [
    {
     "name": "stdin",
     "output_type": "stream",
     "text": [
      "ENTER THE NUMBER  33\n",
      "ENTER THE NUMBER  3\n"
     ]
    },
    {
     "name": "stdout",
     "output_type": "stream",
     "text": [
      "33\n"
     ]
    }
   ],
   "source": [
    "num1 = int(input('ENTER THE NUMBER '))\n",
    "num2 = int(input('ENTER THE NUMBER '))\n",
    "if num1>num2:\n",
    "    print(num1)\n",
    "else:\n",
    "    num2>num1\n",
    "    print(num2)"
   ]
  },
  {
   "cell_type": "raw",
   "id": "2e2a5789-7ec7-46d3-840a-2306fc772d13",
   "metadata": {},
   "source": [
    "Write a program that prompts the user to enter a number and determines whether it \n",
    "is positive, negative, or zero. The program should print \"Positive\" if the number is \n",
    "greater than 0, \"Negative\" if the number is less than 0, and \"Zero\" if the number is 0. "
   ]
  },
  {
   "cell_type": "code",
   "execution_count": 21,
   "id": "135ebddb-44f2-4019-b50e-1badb4167a62",
   "metadata": {},
   "outputs": [
    {
     "name": "stdin",
     "output_type": "stream",
     "text": [
      "ENTER THE NUMBER  22\n"
     ]
    },
    {
     "name": "stdout",
     "output_type": "stream",
     "text": [
      "POSITIVE NUMBER \n"
     ]
    }
   ],
   "source": [
    "num = int(input('ENTER THE NUMBER '))\n",
    "if num>0:\n",
    "    print('POSITIVE NUMBER ')\n",
    "elif num < 0 :\n",
    "    print('NEGATIVE NUMBER ')\n",
    "else:\n",
    "    num==0\n",
    "    print('ZERO')"
   ]
  },
  {
   "cell_type": "raw",
   "id": "4b1af96b-4d76-4319-b15e-21e35a39ba19",
   "metadata": {},
   "source": [
    "Write a program that prompts the user to enter their age and prints the \n",
    "corresponding age group. The program should use the following age groups: \n",
    "0-12: Child \n",
    "13-19: Teenager \n",
    "20-59: Adult \n",
    "60 and above: Senior Citizen"
   ]
  },
  {
   "cell_type": "code",
   "execution_count": 35,
   "id": "12986f1f-9774-4add-ab55-7d6d653a98c1",
   "metadata": {},
   "outputs": [
    {
     "name": "stdin",
     "output_type": "stream",
     "text": [
      "ENTER YOUR AGE  78\n"
     ]
    },
    {
     "name": "stdout",
     "output_type": "stream",
     "text": [
      "SENIOR CITIZEN\n"
     ]
    }
   ],
   "source": [
    "age = int(input('ENTER YOUR AGE '))\n",
    "if age<=12:\n",
    "    print('CHILD')\n",
    "elif age <=19:\n",
    "    print('TEENAGER')\n",
    "elif age <=59:\n",
    "    print('ADULT')\n",
    "else:\n",
    "    age >=60\n",
    "    print('SENIOR CITIZEN')"
   ]
  },
  {
   "cell_type": "raw",
   "id": "6b0aeeeb-7372-4dcb-845e-d24113e7eff4",
   "metadata": {},
   "source": [
    "Write a program that prompts the user to input a number from 1 to 7. The program \n",
    "should display the corresponding day for the given number. For example, if the user \n",
    "types 1, the output should be Sunday. If the user types 7, the output should be \n",
    "Saturday. If the number is not between 1 to 7 user should get error message as shown \n",
    "in sample output. "
   ]
  },
  {
   "cell_type": "code",
   "execution_count": 43,
   "id": "4e8a08e3-f766-4310-928a-e57f910bf5f8",
   "metadata": {},
   "outputs": [
    {
     "name": "stdin",
     "output_type": "stream",
     "text": [
      "ENTER THE NUMBER BETWEEN 1 TO 7 7\n"
     ]
    },
    {
     "name": "stdout",
     "output_type": "stream",
     "text": [
      "SATURDAY\n"
     ]
    }
   ],
   "source": [
    "num= int(input('ENTER THE NUMBER BETWEEN 1 TO 7'))\n",
    "if num == 1:\n",
    "    print('SUNDAY')\n",
    "elif num == 2:\n",
    "    print('MONDAY')\n",
    "elif num == 3:\n",
    "    print('TUESDAY')\n",
    "elif num == 4:\n",
    "    print('WEDNESDAY')\n",
    "elif num == 5:\n",
    "    print('THURSDAY')\n",
    "elif num == 6:\n",
    "    print('FRIDAY')\n",
    "elif num == 7:\n",
    "    print('SATURDAY')\n",
    "else:\n",
    "    print('INVALID NUMBER PLEASE ENTER NUMBER BETWEEN 1 AND 7')"
   ]
  },
  {
   "cell_type": "raw",
   "id": "bfad2888-a9f0-457f-ad78-a73fe6f5c290",
   "metadata": {},
   "source": [
    "Write a program that prompts the user to enter their weight (in kilograms) and height \n",
    "(in meters). The program should calculate the Body Mass Index (BMI) using the formula: \n",
    "BMI = weight / (height * height). The program should then classify the BMI into one of \n",
    "the following categories: \n",
    "less than 18.5 - Underweight \n",
    "BMI between 18.5 and 24.9 - Normal weight \n",
    "BMI between 25 and 29.9 - Overweight \n",
    "BMI 30 or greater - Obesity \n"
   ]
  },
  {
   "cell_type": "code",
   "execution_count": 57,
   "id": "22f44cc7-78f2-4482-813b-74f1d91eb3c5",
   "metadata": {},
   "outputs": [
    {
     "name": "stdin",
     "output_type": "stream",
     "text": [
      "ENTER YOUR WEIGHT IN KG 88\n",
      "ENTER YOUR HEIGHT IN METERS 50\n"
     ]
    },
    {
     "name": "stdout",
     "output_type": "stream",
     "text": [
      "UNDER WEIGHT\n"
     ]
    }
   ],
   "source": [
    "weight_in_kg =float(input('ENTER YOUR WEIGHT IN KG'))\n",
    "height_in_meters =float(input('ENTER YOUR HEIGHT IN METERS'))\n",
    "BMI = weight_in_kg/(height_in_meters*height_in_meters)\n",
    "if BMI < 18.5:\n",
    "    print('UNDER WEIGHT')\n",
    "elif BMI <=24.9:\n",
    "    print('NORMAL WEIGHT')\n",
    "elif BMI <=29.9:\n",
    "    print('OVER WEIGHT')\n",
    "else:\n",
    "    BMI>=30\n",
    "    print('OBESITY')"
   ]
  },
  {
   "cell_type": "raw",
   "id": "61445e35-a527-4310-b646-e1f65db1e524",
   "metadata": {},
   "source": [
    "8. The marks obtained by a student in 3 different subjects are input by the user. Your \n",
    "program should calculate the average of subjects and display the grade. The student \n",
    "gets a grade as per the following rules: \n",
    "Average Grade \n",
    "90-100 A \n",
    "80-89 B \n",
    "70-79 C \n",
    "60-69 D \n",
    "0-59 F \n"
   ]
  },
  {
   "cell_type": "code",
   "execution_count": 73,
   "id": "ebff02e3-ec8c-455d-9280-063c3f84b903",
   "metadata": {},
   "outputs": [
    {
     "name": "stdin",
     "output_type": "stream",
     "text": [
      "ENTER YOUR MARKS OF MATH 77\n",
      "ENTER YOUR MARKS OF COMPUTER  78\n",
      "ENTER YOUR MARKS OF PROGRAMMING 69\n"
     ]
    },
    {
     "name": "stdout",
     "output_type": "stream",
     "text": [
      "\n",
      "\n",
      "                     RESULT \n",
      "            ___________________________\n",
      "               SUBJECT 1 : 77.0\n",
      "               SUBJECT 2 : 78.0\n",
      "               SUBJECT 3   69.0\n",
      "\n",
      "               TOTAL MARKS :    300\n",
      "               OBTAINED MARKS : 224.0\n",
      "               PERCENTAGE :  74.66666666666667\n",
      "               GRADE : C GRADE\n",
      "\n",
      "\n"
     ]
    }
   ],
   "source": [
    "grade = None\n",
    "total_marks = 300\n",
    "marks1= float(int(input('ENTER YOUR MARKS OF MATH')))\n",
    "marks2= float(int(input('ENTER YOUR MARKS OF COMPUTER ')))\n",
    "marks3= float(int(input('ENTER YOUR MARKS OF PROGRAMMING')))\n",
    "obtained_marks = marks1+marks2+marks3\n",
    "percent =(obtained_marks/total_marks)*100\n",
    "if percent >=90:\n",
    "    grade = 'A GRADE'\n",
    "elif percent>=80:\n",
    "    grade = 'B GRADE '\n",
    "elif percent >=70:\n",
    "    grade = 'C GRADE'\n",
    "elif percent >=60:\n",
    "    grade = 'D GRADE '\n",
    "else:\n",
    "    percent<=59\n",
    "    grade = 'FAIL'\n",
    "print(f\"\"\"\n",
    "\n",
    "                     RESULT \n",
    "            ___________________________\n",
    "               SUBJECT 1 : {marks1}\n",
    "               SUBJECT 2 : {marks2}\n",
    "               SUBJECT 3   {marks3}\n",
    "\n",
    "               TOTAL MARKS :    {total_marks}\n",
    "               OBTAINED MARKS : {obtained_marks}\n",
    "               PERCENTAGE :  {percent}\n",
    "               GRADE : {grade}\n",
    "\n",
    "\"\"\")"
   ]
  },
  {
   "cell_type": "raw",
   "id": "fb511c38-cfeb-4e4b-a4a6-739c12cbc1cb",
   "metadata": {},
   "source": [
    "The roots of the quadratic equation ax2\n",
    " + bx + c = 0, a ≠ 0 are given by the following \n",
    "formula: \n",
    "In this formula, the term b2\n",
    " - 4ac is called the discriminant. If b2\n",
    " - 4ac = 0, then the \n",
    "equation has two equal roots. \n",
    "If b2\n",
    " - 4ac > 0, the equation has two real roots. If b2\n",
    " - 4ac < 0, the equation has two \n",
    "complex roots. \n"
   ]
  },
  {
   "cell_type": "code",
   "execution_count": 3,
   "id": "94197b80-124e-468d-a350-376c5ecc0786",
   "metadata": {},
   "outputs": [
    {
     "name": "stdin",
     "output_type": "stream",
     "text": [
      "ENTER THE COFFICIENT OF A 1\n",
      "ENTER THE COFFICIENT OF B -3\n",
      "ENTER THE COFFICIENT OF C 2\n"
     ]
    },
    {
     "name": "stdout",
     "output_type": "stream",
     "text": [
      "ROOT ARE REAL AND DISTINCT\n",
      "ROOT1 =  2.0\n",
      "ROOT2 =  1.0\n"
     ]
    }
   ],
   "source": [
    "a= float(input('ENTER THE COFFICIENT OF A'))\n",
    "b= float(input('ENTER THE COFFICIENT OF B'))\n",
    "c= float(input('ENTER THE COFFICIENT OF C'))\n",
    "d= b**2-4*a*c\n",
    "if d>0:\n",
    "    print('ROOT ARE REAL AND DISTINCT')\n",
    "    root1 = (-b+d**0.5)/(2*a)\n",
    "    root2 = (-b-d**0.5)/(2*a)\n",
    "    print('ROOT1 = ',root1)\n",
    "    print('ROOT2 = ',root2)\n",
    "elif d ==0:\n",
    "    print('ROOTS ARE REAL AND EQUALS ')\n",
    "    root = -b/(2*a)\n",
    "    print('ROOT = ',root)\n",
    "else:\n",
    "    print('ROOTS ARE COMPLEX ')\n",
    "    real_part = -b/(2*a)\n",
    "    imaginary_part = (-d)**0.5/(2*a)\n",
    "    print('ROOT1 = ' ,real_part,'+' , imaginary_part,'i')\n",
    "    print ('ROOT2 = ', real_part, '-', imaginary_part , 'i')"
   ]
  },
  {
   "cell_type": "raw",
   "id": "1d6c31b8-23a6-4482-9072-2bf574886ff8",
   "metadata": {},
   "source": [
    "Write a program that prompts the user to enter three numbers and sorts them in \n",
    "ascending order. The program should print the sorted numbers"
   ]
  },
  {
   "cell_type": "code",
   "execution_count": 9,
   "id": "f6bd75ea-d143-46b5-b3be-fbff1667db04",
   "metadata": {},
   "outputs": [
    {
     "name": "stdin",
     "output_type": "stream",
     "text": [
      "ENTER THE NUMBER 66\n",
      "ENTER THE NUMBER 44\n",
      "ENTER THE NUMBER 99\n"
     ]
    },
    {
     "name": "stdout",
     "output_type": "stream",
     "text": [
      "66 44 99\n"
     ]
    }
   ],
   "source": [
    "num1 = int(input('ENTER THE NUMBER'))\n",
    "num2 = int(input('ENTER THE NUMBER'))\n",
    "num3 = int(input('ENTER THE NUMBER'))\n",
    "if num1<num2 or num1<num3:\n",
    "    print(num1,num2,num3)\n",
    "elif num2<num1 or num2<num3:\n",
    "    print(num2,num1,num3)\n",
    "else:\n",
    "    print(num3,num2,num1)"
   ]
  },
  {
   "cell_type": "raw",
   "id": "d5676e92-5d09-49aa-8394-83422e91097b",
   "metadata": {},
   "source": [
    "Write a program that prompts the user to input three integers and outputs the \n",
    "largest. \n"
   ]
  },
  {
   "cell_type": "code",
   "execution_count": 21,
   "id": "3e508cf8-abb2-4a29-96ac-743798232a19",
   "metadata": {},
   "outputs": [
    {
     "name": "stdin",
     "output_type": "stream",
     "text": [
      "ENTER THE NUMBER 88\n",
      "ENTER THE NUMBER 55\n",
      "ENTER THE NUMBER 33\n"
     ]
    },
    {
     "name": "stdout",
     "output_type": "stream",
     "text": [
      "88\n"
     ]
    }
   ],
   "source": [
    "num1 = int(input('ENTER THE NUMBER'))\n",
    "num2 = int(input('ENTER THE NUMBER'))\n",
    "num3 = int(input('ENTER THE NUMBER'))\n",
    "if num1>num2 and num1>num3:\n",
    "    print(num1)\n",
    "elif  num2>num1 and num2>num3:   \n",
    "    print(num2)\n",
    "else:\n",
    "    print(num3)\n"
   ]
  },
  {
   "cell_type": "raw",
   "id": "1cfebb30-df38-46af-80be-24ff7bfb6227",
   "metadata": {},
   "source": [
    "12. Write a program that prompts the user to input a character and determine the \n",
    "character is vowel or consonant. \n"
   ]
  },
  {
   "cell_type": "code",
   "execution_count": 21,
   "id": "e7e435ee-b1e1-4f04-94be-333c9a7b4de1",
   "metadata": {},
   "outputs": [
    {
     "name": "stdin",
     "output_type": "stream",
     "text": [
      "Enter a character:  p\n"
     ]
    },
    {
     "name": "stdout",
     "output_type": "stream",
     "text": [
      "p is a constant.\n"
     ]
    }
   ],
   "source": [
    "char = input(\"Enter a character: \")\n",
    "\n",
    "if char.isalpha():\n",
    "    if char.lower() in 'aeiou':\n",
    "        print(char, \"is a vowel.\")\n",
    "    else:\n",
    "        print(char, \"is a constant.\")\n",
    "else:\n",
    "    print(char, \"is not a letter.\")\n"
   ]
  },
  {
   "cell_type": "raw",
   "id": "8210e7ee-cb72-496b-9f3e-421f2a13a553",
   "metadata": {},
   "source": [
    "13. Write a program that prompts the user to input a year and determine whether the \n",
    "year is a leap year or not. \n",
    "Leap Years are any year that can be evenly divided by 4. A year that is evenly divisible by \n",
    "100 is a leap year only if it is also evenly divisible by 400. Example: \n",
    "1992 Leap Year \n",
    "2000 Leap Year \n",
    "1900 NOT a Leap Year \n",
    "1995 NOT a Leap Year "
   ]
  },
  {
   "cell_type": "code",
   "execution_count": 31,
   "id": "24ac42ce-595a-45dc-8456-d912a606ba9b",
   "metadata": {},
   "outputs": [
    {
     "name": "stdin",
     "output_type": "stream",
     "text": [
      "ENTER THE YEAR 2000\n"
     ]
    },
    {
     "name": "stdout",
     "output_type": "stream",
     "text": [
      "2000  IS A LEAP YEAR\n"
     ]
    }
   ],
   "source": [
    "year = int(input('ENTER THE YEAR'))\n",
    "if year%4==0:\n",
    "    if year%100==0:\n",
    "        if year%400==0:\n",
    "            print(f\"{year}  IS A LEAP YEAR\")\n",
    "        else:\n",
    "            print(f\"{year} IS NOT A LEAP YEAR\")\n",
    "    else:\n",
    "        print(f\"{year} IS NOT A LEAP YEAR\")\n",
    "else:\n",
    "    print(f\"{year} IS NOT A LEAP YEAR\")"
   ]
  },
  {
   "cell_type": "raw",
   "id": "7add0544-fbda-4c66-9b79-e7efcac1ffb1",
   "metadata": {},
   "source": [
    "14. Write a program that prompts the user to input number of calls and calculate the \n",
    "monthly telephone bills as per the following rule: \n",
    "Minimum Rs. 200 for up to 100 calls. \n",
    "Plus Rs. 0.60 per call for next 50 calls. \n",
    "Plus Rs. 0.50 per call for next 50 calls. \n",
    "Plus Rs. 0.40 per call for any call beyond 200 calls."
   ]
  },
  {
   "cell_type": "code",
   "execution_count": 47,
   "id": "43f412f4-f024-44d7-ae69-9f1f3cf12ab8",
   "metadata": {},
   "outputs": [
    {
     "name": "stdin",
     "output_type": "stream",
     "text": [
      "ENTER THE NUMERS OF CALLS IN MONTH 150\n"
     ]
    },
    {
     "name": "stdout",
     "output_type": "stream",
     "text": [
      "\n",
      "                 TELEPHONE BILL \n",
      "        _________________________________________\n",
      "\n",
      "          NUMBERS OF CALLS : 150\n",
      "          TOTAL BILL :  230.0\n",
      "\n"
     ]
    }
   ],
   "source": [
    "calls = int(input('ENTER THE NUMERS OF CALLS IN MONTH'))\n",
    "if calls <=100:\n",
    "    bill = 200\n",
    "elif  calls<=150:\n",
    "    bill = 200 + (calls -100)*0.60\n",
    "elif calls <=200:\n",
    "    bill = 200 + 50 * 0.60 + (calls-150) *0.50\n",
    "else:\n",
    "    bill = 200 + 50 * 0.60 + 50 * 0.50 + (calls - 200) *0.40\n",
    "\n",
    "print(f\"\"\"\n",
    "                 TELEPHONE BILL \n",
    "        _________________________________________\n",
    "\n",
    "          NUMBERS OF CALLS : {calls}\n",
    "          TOTAL BILL :  {bill}\n",
    "\"\"\")"
   ]
  },
  {
   "cell_type": "code",
   "execution_count": null,
   "id": "6d884521-4619-4069-9d9a-1f8e1b82d99c",
   "metadata": {},
   "outputs": [],
   "source": []
  }
 ],
 "metadata": {
  "kernelspec": {
   "display_name": "Python 3 (ipykernel)",
   "language": "python",
   "name": "python3"
  },
  "language_info": {
   "codemirror_mode": {
    "name": "ipython",
    "version": 3
   },
   "file_extension": ".py",
   "mimetype": "text/x-python",
   "name": "python",
   "nbconvert_exporter": "python",
   "pygments_lexer": "ipython3",
   "version": "3.12.7"
  }
 },
 "nbformat": 4,
 "nbformat_minor": 5
}
