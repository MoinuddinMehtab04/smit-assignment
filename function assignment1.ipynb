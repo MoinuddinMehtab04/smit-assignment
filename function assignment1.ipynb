{
 "cells": [
  {
   "cell_type": "raw",
   "id": "3d890177-7310-44fa-91f2-6e3e7a4d6727",
   "metadata": {},
   "source": [
    "1. Write a Python function to find the maximum of three numbers. "
   ]
  },
  {
   "cell_type": "code",
   "execution_count": 3,
   "id": "3f93f374-0cca-4b55-85be-c2fba2b3b13f",
   "metadata": {},
   "outputs": [],
   "source": [
    "def max_num(a,b,c):\n",
    "    return max(a,b,c)"
   ]
  },
  {
   "cell_type": "code",
   "execution_count": 5,
   "id": "b63fec3e-c719-44e1-b18d-f5485dc79497",
   "metadata": {},
   "outputs": [
    {
     "data": {
      "text/plain": [
       "44"
      ]
     },
     "execution_count": 5,
     "metadata": {},
     "output_type": "execute_result"
    }
   ],
   "source": [
    "max_num(22,33,44)"
   ]
  },
  {
   "cell_type": "raw",
   "id": "5e234444-e70d-4967-b154-4b021c6947da",
   "metadata": {},
   "source": [
    "2. Write a Python function to sum all the numbers in a list. \n",
    "Sample List : (8, 2, 3, 0, 7) \n",
    "Expected Output : 20 "
   ]
  },
  {
   "cell_type": "code",
   "execution_count": 7,
   "id": "abff8bf6-d976-4d55-b020-c282b2f1427a",
   "metadata": {},
   "outputs": [],
   "source": [
    "def sum_num(lst):\n",
    "    return sum(lst)"
   ]
  },
  {
   "cell_type": "code",
   "execution_count": 9,
   "id": "3bc269f7-5dbf-4a46-84d1-c6c9fd282750",
   "metadata": {},
   "outputs": [
    {
     "data": {
      "text/plain": [
       "20"
      ]
     },
     "execution_count": 9,
     "metadata": {},
     "output_type": "execute_result"
    }
   ],
   "source": [
    "sum_num([8,2,3,0,7])"
   ]
  },
  {
   "cell_type": "raw",
   "id": "37581aa4-17fd-4c7e-aa52-f960e28556d7",
   "metadata": {},
   "source": [
    "3. Write a Python function to multiply all the numbers in a list. \n",
    "Sample List : (8, 2, 3, -1, 7) \n",
    "Expected Output : -336 "
   ]
  },
  {
   "cell_type": "code",
   "execution_count": 19,
   "id": "c8e85372-8e34-43ea-ac87-390c8e215378",
   "metadata": {},
   "outputs": [],
   "source": [
    "def multiply(lst):\n",
    "    product = 1\n",
    "    for num in lst:\n",
    "        product*=num\n",
    "    return product"
   ]
  },
  {
   "cell_type": "code",
   "execution_count": 21,
   "id": "b1c21972-0098-49fb-a5ae-734d03103693",
   "metadata": {},
   "outputs": [
    {
     "data": {
      "text/plain": [
       "-336"
      ]
     },
     "execution_count": 21,
     "metadata": {},
     "output_type": "execute_result"
    }
   ],
   "source": [
    "multiply([8,2,3,-1,7])"
   ]
  },
  {
   "cell_type": "raw",
   "id": "34b355e8-fda0-48e9-885a-e4f30783b159",
   "metadata": {},
   "source": [
    "4. Write a Python program to reverse a string. \n",
    "Sample String : \"1234abcd\" \n",
    "Expected Output : \"dcba4321\" \n"
   ]
  },
  {
   "cell_type": "code",
   "execution_count": 33,
   "id": "e7db862e-9018-41ed-af08-c03dcadf0708",
   "metadata": {},
   "outputs": [],
   "source": [
    "def string(str1):\n",
    "    return str1[::-1]"
   ]
  },
  {
   "cell_type": "code",
   "execution_count": 35,
   "id": "0283029a-2a22-4ddd-87af-c2cea1b10090",
   "metadata": {},
   "outputs": [
    {
     "data": {
      "text/plain": [
       "'dcba4321'"
      ]
     },
     "execution_count": 35,
     "metadata": {},
     "output_type": "execute_result"
    }
   ],
   "source": [
    "string('1234abcd')"
   ]
  },
  {
   "cell_type": "raw",
   "id": "dfad45ce-d252-49e0-9345-9d2e14162e1a",
   "metadata": {},
   "source": [
    "5. Write a Python function to calculate the factorial of a number (a non-negative \n",
    "integer). The function accepts the number as an argument. "
   ]
  },
  {
   "cell_type": "code",
   "execution_count": 39,
   "id": "b9b16cda-5ad5-4f6e-9cb9-e7955613a914",
   "metadata": {},
   "outputs": [],
   "source": [
    "def factorial(num):\n",
    "    factorial =1\n",
    "    if num<0:\n",
    "        print(\"Sorry, factorial does not exist for negative numbers\")\n",
    "    elif num==0:\n",
    "        print(\"The factorial of 0 is 1\")\n",
    "    else:\n",
    "        for i in range(1,num+1):\n",
    "            factorial = factorial*i\n",
    "        print(\"The factorial of\",num,\"is\",factorial)"
   ]
  },
  {
   "cell_type": "code",
   "execution_count": 43,
   "id": "ef2eb75f-b374-4aad-b04d-6fae2a4757de",
   "metadata": {},
   "outputs": [
    {
     "name": "stdout",
     "output_type": "stream",
     "text": [
      "The factorial of 0 is 1\n"
     ]
    }
   ],
   "source": [
    "factorial(0)"
   ]
  },
  {
   "cell_type": "code",
   "execution_count": 45,
   "id": "bcda82f1-3f5c-4685-8c9a-17967cbbd65a",
   "metadata": {},
   "outputs": [
    {
     "name": "stdout",
     "output_type": "stream",
     "text": [
      "The factorial of 5 is 120\n"
     ]
    }
   ],
   "source": [
    "factorial(5)"
   ]
  },
  {
   "cell_type": "raw",
   "id": "6855d895-e684-4414-956d-79e990540391",
   "metadata": {},
   "source": [
    "6. Write a Python function to check whether a number falls within a given range. "
   ]
  },
  {
   "cell_type": "code",
   "execution_count": 53,
   "id": "24eb6085-65ec-4a3e-9ee0-60f2de9fe769",
   "metadata": {},
   "outputs": [],
   "source": [
    "def test_range(n):\n",
    "    if n in range(1, 9):\n",
    "        print(\"%s is in the range\" % str(n))\n",
    "    else:\n",
    "        print(\"The number is outside the given range.\")"
   ]
  },
  {
   "cell_type": "code",
   "execution_count": 55,
   "id": "261093c5-8cf5-4dce-92d8-59526b9319e4",
   "metadata": {},
   "outputs": [
    {
     "name": "stdout",
     "output_type": "stream",
     "text": [
      "6 is in the range\n"
     ]
    }
   ],
   "source": [
    "test_range(6)"
   ]
  },
  {
   "cell_type": "code",
   "execution_count": 57,
   "id": "49e5e243-7c96-4364-941c-d66de9222ae0",
   "metadata": {},
   "outputs": [
    {
     "name": "stdout",
     "output_type": "stream",
     "text": [
      "2 is in the range\n"
     ]
    }
   ],
   "source": [
    "test_range(2)"
   ]
  },
  {
   "cell_type": "raw",
   "id": "b87d68d3-beed-4ec8-9b82-5f3590547afb",
   "metadata": {},
   "source": [
    "7. Write a Python function that accepts a string and counts the number of upper \n",
    "and lower case letters. \n",
    "Sample String : 'The quick Brow Fox' \n",
    "Expected Output : \n",
    "No. of Upper case characters : 3 \n",
    "No. of Lower case Characters : 12 "
   ]
  },
  {
   "cell_type": "code",
   "execution_count": 65,
   "id": "925fe344-30a7-4a1e-ba29-c49a9bf7e6cd",
   "metadata": {},
   "outputs": [],
   "source": [
    "def count_str(str1):\n",
    "    upper_case = 0\n",
    "    lower_case = 0\n",
    "    for char in str1:\n",
    "        if char.isupper():\n",
    "            upper_case+=1\n",
    "        elif char.islower():\n",
    "            lower_case+=1\n",
    "        else: \n",
    "            pass\n",
    "    print (f\"\"\" \n",
    "\n",
    "            NO OF UPPER CASE CHARACTERS :  {upper_case}\n",
    "            NO OF LOWER CASE CHRACTERS  :  {lower_case}\n",
    "\n",
    " \"\"\"  )"
   ]
  },
  {
   "cell_type": "code",
   "execution_count": 67,
   "id": "ef09e931-efbd-4e5e-b43c-c5a4ef0b32f1",
   "metadata": {},
   "outputs": [
    {
     "name": "stdout",
     "output_type": "stream",
     "text": [
      " \n",
      "\n",
      "            NO OF UPPER CASE CHARACTERS :  3\n",
      "            NO OF LOWER CASE CHRACTERS  :  12\n",
      "\n",
      " \n"
     ]
    }
   ],
   "source": [
    "count_str('The quick Brow Fox')"
   ]
  },
  {
   "cell_type": "raw",
   "id": "b21a7a11-f28d-43dd-916e-4830980642c1",
   "metadata": {},
   "source": [
    "8. Write a Python function that takes a list and returns a new list with distinct \n",
    "elements from the first list. \n",
    "Sample List : [1,2,3,3,3,3,4,5] \n",
    "Unique List : [1, 2, 3, 4, 5]"
   ]
  },
  {
   "cell_type": "code",
   "execution_count": 103,
   "id": "385de60b-8e34-4d56-9c8c-da7ea86aed88",
   "metadata": {},
   "outputs": [],
   "source": [
    "def unique_list(lst):\n",
    "    x = []\n",
    "    for a in lst:\n",
    "        if a not in x:\n",
    "            x.append(a)\n",
    "    print (f\"\"\"\n",
    "    \n",
    "           SAMPLE LIST : {lst}\n",
    "           UNIQUE LIST : {x}\n",
    "    \n",
    "    \"\"\")\n",
    "    \n"
   ]
  },
  {
   "cell_type": "code",
   "execution_count": 105,
   "id": "f30ab5ff-4bed-4827-b1fb-ff4ffe9eee2e",
   "metadata": {},
   "outputs": [
    {
     "name": "stdout",
     "output_type": "stream",
     "text": [
      "\n",
      "    \n",
      "           SAMPLE LIST : [1, 2, 3, 3, 3, 3, 4, 5]\n",
      "           UNIQUE LIST : [1, 2, 3, 4, 5]\n",
      "    \n",
      "    \n"
     ]
    }
   ],
   "source": [
    "unique_list([1,2,3,3,3,3,4,5])"
   ]
  },
  {
   "cell_type": "raw",
   "id": "a5086bb5-fa7c-4607-9fb9-88624b967dae",
   "metadata": {},
   "source": [
    "9. Write a Python function that takes a number as a parameter and checks \n",
    "whether the number is prime or not. \n",
    "Note : A prime number (or a prime) is a natural number greater than 1 and that \n",
    "has no positive divisors other than 1 and itself."
   ]
  },
  {
   "cell_type": "code",
   "execution_count": 1,
   "id": "e28f26b7-0fea-4240-ba49-2b9a29dade14",
   "metadata": {},
   "outputs": [],
   "source": [
    "def test_prime(num):\n",
    "    if num==1:\n",
    "        return False\n",
    "    elif num==2 :\n",
    "        return True\n",
    "    else:\n",
    "        for x in range(2,num):\n",
    "            if (num%x==0):\n",
    "                return False\n",
    "        return True\n",
    "        "
   ]
  },
  {
   "cell_type": "code",
   "execution_count": 3,
   "id": "098657c7-5126-4a5d-a0c0-f78b230a33dd",
   "metadata": {},
   "outputs": [
    {
     "data": {
      "text/plain": [
       "True"
      ]
     },
     "execution_count": 3,
     "metadata": {},
     "output_type": "execute_result"
    }
   ],
   "source": [
    "test_prime(3)"
   ]
  },
  {
   "cell_type": "code",
   "execution_count": 5,
   "id": "7199d10f-fe3b-4538-9b63-3758dece193a",
   "metadata": {},
   "outputs": [
    {
     "data": {
      "text/plain": [
       "False"
      ]
     },
     "execution_count": 5,
     "metadata": {},
     "output_type": "execute_result"
    }
   ],
   "source": [
    "test_prime(56)"
   ]
  },
  {
   "cell_type": "raw",
   "id": "ecf53f61-9e8e-47b7-8bdd-d5c6231e41e2",
   "metadata": {},
   "source": [
    "10. Write a Python program to print the even numbers from a given list. \n",
    "Sample List : [1, 2, 3, 4, 5, 6, 7, 8, 9]\n",
    "Expected Result : [2, 4, 6, 8] "
   ]
  },
  {
   "cell_type": "code",
   "execution_count": 35,
   "id": "964eea09-eb14-453a-ad3d-7183d829ab7d",
   "metadata": {},
   "outputs": [],
   "source": [
    "def is_even_num(l):\n",
    "    enum = []\n",
    "    for n in l:\n",
    "        if n % 2 == 0:\n",
    "            enum.append(n)\n",
    "    return enum"
   ]
  },
  {
   "cell_type": "code",
   "execution_count": 37,
   "id": "9691f0a1-c7dc-4215-83cd-523bc1d6c3b9",
   "metadata": {},
   "outputs": [
    {
     "data": {
      "text/plain": [
       "[2, 4, 6, 8]"
      ]
     },
     "execution_count": 37,
     "metadata": {},
     "output_type": "execute_result"
    }
   ],
   "source": [
    "is_even_num([1,2,3,4,5,6,7,8,9])"
   ]
  },
  {
   "cell_type": "raw",
   "id": "1d57d5dc-4754-4dba-b288-b4b238bd7c04",
   "metadata": {},
   "source": [
    "11. Write a Python function to check whether a number is \"Perfect\" or not. \n",
    "According to Wikipedia : In number theory, a perfect number is a positive integer \n",
    "that is equal to the sum of its proper positive divisors, that is, the sum of its \n",
    "positive divisors excluding the number itself (also known as its aliquot sum). \n",
    "Equivalently, a perfect number is a number that is half the sum of all of its \n",
    "positive divisors (including itself). \n",
    "Example : The first perfect number is 6, because 1, 2, and 3 are its proper positive \n",
    "divisors, and 1 + 2 + 3 = 6. Equivalently, the number 6 is equal to half the sum of \n",
    "all its positive divisors: ( 1 + 2 + 3 + 6 ) / 2 = 6. The next perfect number is 28 = 1 + \n",
    "2 + 4 + 7 + 14. This is followed by the perfect numbers 496 and 8128"
   ]
  },
  {
   "cell_type": "code",
   "execution_count": 39,
   "id": "f96eb448-a608-422d-acd2-6d669dea130d",
   "metadata": {},
   "outputs": [],
   "source": [
    "def is_perfect_number(n):\n",
    "    if n < 1:\n",
    "        return False\n",
    "    sum = 0\n",
    "    for i in range(1, n):\n",
    "        if n % i == 0:\n",
    "            sum += i\n",
    "    return sum == n\n"
   ]
  },
  {
   "cell_type": "code",
   "execution_count": 41,
   "id": "4e7d7c72-5d19-4cf2-b1cc-98ac68c9deae",
   "metadata": {},
   "outputs": [
    {
     "data": {
      "text/plain": [
       "False"
      ]
     },
     "execution_count": 41,
     "metadata": {},
     "output_type": "execute_result"
    }
   ],
   "source": [
    "is_perfect_number(44)"
   ]
  },
  {
   "cell_type": "code",
   "execution_count": 43,
   "id": "16fa1f66-2c62-4ffd-a4a6-a3283f4fe639",
   "metadata": {},
   "outputs": [
    {
     "data": {
      "text/plain": [
       "True"
      ]
     },
     "execution_count": 43,
     "metadata": {},
     "output_type": "execute_result"
    }
   ],
   "source": [
    "is_perfect_number(6)"
   ]
  },
  {
   "cell_type": "raw",
   "id": "9421d636-70e9-48db-a824-b1053173d86f",
   "metadata": {},
   "source": [
    "12. Write a Python function that checks whether a passed string is a palindrome \n",
    "or not. \n",
    "Note: A palindrome is a word, phrase, or sequence that reads the same backward \n",
    "as forward, e.g., madam or nurses run."
   ]
  },
  {
   "cell_type": "code",
   "execution_count": 51,
   "id": "e002ea58-00b6-4abf-91fe-2d5744146582",
   "metadata": {},
   "outputs": [],
   "source": [
    "def is_palindrome(s):\n",
    "    s = s.lower() \n",
    "    return s == s[::-1]\n"
   ]
  },
  {
   "cell_type": "code",
   "execution_count": 53,
   "id": "0298f548-33ac-4340-926f-b9ca6c39b7c0",
   "metadata": {},
   "outputs": [
    {
     "data": {
      "text/plain": [
       "False"
      ]
     },
     "execution_count": 53,
     "metadata": {},
     "output_type": "execute_result"
    }
   ],
   "source": [
    "is_palindrome('moin')"
   ]
  },
  {
   "cell_type": "code",
   "execution_count": 55,
   "id": "cc1e3f7b-4088-47c1-9d63-05172a3c7d6b",
   "metadata": {},
   "outputs": [
    {
     "data": {
      "text/plain": [
       "False"
      ]
     },
     "execution_count": 55,
     "metadata": {},
     "output_type": "execute_result"
    }
   ],
   "source": [
    "is_palindrome('run')"
   ]
  },
  {
   "cell_type": "code",
   "execution_count": null,
   "id": "f820a992-6daf-4120-9c16-4e3c154659c2",
   "metadata": {},
   "outputs": [],
   "source": []
  }
 ],
 "metadata": {
  "kernelspec": {
   "display_name": "Python 3 (ipykernel)",
   "language": "python",
   "name": "python3"
  },
  "language_info": {
   "codemirror_mode": {
    "name": "ipython",
    "version": 3
   },
   "file_extension": ".py",
   "mimetype": "text/x-python",
   "name": "python",
   "nbconvert_exporter": "python",
   "pygments_lexer": "ipython3",
   "version": "3.12.7"
  }
 },
 "nbformat": 4,
 "nbformat_minor": 5
}
