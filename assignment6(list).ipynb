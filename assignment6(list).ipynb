{
 "cells": [
  {
   "cell_type": "raw",
   "id": "98f0432c-eb68-40cf-b3e6-766791beca0e",
   "metadata": {},
   "source": [
    "Write a program that accepts a list from user and print the alternate element of list"
   ]
  },
  {
   "cell_type": "code",
   "execution_count": 5,
   "id": "3e2ab790-64f9-463c-907a-d7b6544089d8",
   "metadata": {},
   "outputs": [
    {
     "name": "stdout",
     "output_type": "stream",
     "text": [
      "[1, 3, 5, 7, 9]\n"
     ]
    }
   ],
   "source": [
    "list=[1,2,3,4,5,6,7,8,9]\n",
    "alternate_element=list[::2]\n",
    "print(alternate_element)"
   ]
  },
  {
   "cell_type": "markdown",
   "id": "dbca5dbf-8907-4edc-93ad-74deefb8c72e",
   "metadata": {},
   "source": [
    "2-Write a program that accepts a list from user. Your program should reverse the content of list and \n",
    "display it. Do not use reverse() method. "
   ]
  },
  {
   "cell_type": "code",
   "execution_count": 1,
   "id": "1409ae2a-e17b-41d6-a6fb-24d2fceced96",
   "metadata": {},
   "outputs": [
    {
     "name": "stdin",
     "output_type": "stream",
     "text": [
      "Enter a list seperated by space: 12 13 14 15 16\n"
     ]
    },
    {
     "name": "stdout",
     "output_type": "stream",
     "text": [
      "The Reverse of the list is given below:\n",
      "16\n",
      "15\n",
      "14\n",
      "13\n",
      "12\n"
     ]
    }
   ],
   "source": [
    "user_input = input(\"Enter a list seperated by space:\")\n",
    "input_list = user_input.split()\n",
    "print(\"The Reverse of the list is given below:\")\n",
    "for a in range(len(input_list)-1,-1,-1):\n",
    "    print(input_list[a])\n"
   ]
  },
  {
   "cell_type": "raw",
   "id": "7f3c18fd-f8aa-422c-a56d-72c1521c6d7f",
   "metadata": {},
   "source": [
    "Find and display the largest number of a list without using built-in function max(). Your program \n",
    "should ask the user to input values in list from keyboard. "
   ]
  },
  {
   "cell_type": "code",
   "execution_count": 3,
   "id": "55efd13a-f5a3-47fe-b03b-d3b19a3dcae8",
   "metadata": {},
   "outputs": [
    {
     "name": "stdin",
     "output_type": "stream",
     "text": [
      "Enter numbers which should be seperated by space 10 20 30 40 50 60\n"
     ]
    },
    {
     "name": "stdout",
     "output_type": "stream",
     "text": [
      "The largest number is : 60\n"
     ]
    }
   ],
   "source": [
    "user_input=input(\"Enter numbers which should be seperated by space\")\n",
    "input_list = [int(num) for num in user_input.split()]\n",
    "largest_number=input_list[0]\n",
    "for num in input_list:\n",
    "    if num > largest_number:\n",
    "        largest_number = num\n",
    "print(\"The largest number is :\",largest_number)"
   ]
  },
  {
   "cell_type": "raw",
   "id": "3b7700a9-94b8-4a97-b68a-4532783125cc",
   "metadata": {},
   "source": [
    ". Write a program that rotates the element of a list so that the element at the first index moves to the \n",
    "second index, the element in the second index moves to the third index, etc., and the element in the last \n",
    "index moves to the first index. "
   ]
  },
  {
   "cell_type": "code",
   "execution_count": 11,
   "id": "80808e99-bf52-44ee-8f3f-e8620ddd29a1",
   "metadata": {},
   "outputs": [
    {
     "name": "stdout",
     "output_type": "stream",
     "text": [
      "[10, 6, 7, 8, 9]\n"
     ]
    }
   ],
   "source": [
    "list0=[6,7,8,9,10]\n",
    "list_1=[list0[-1]]+list0[:-1]\n",
    "print(list_1)"
   ]
  },
  {
   "cell_type": "raw",
   "id": "c00bfc41-f539-4652-8f78-e845d3506c85",
   "metadata": {},
   "source": [
    "5. Write a program that input a string and ask user to delete a given word from a string. "
   ]
  },
  {
   "cell_type": "code",
   "execution_count": 15,
   "id": "dfbec1bf-e392-4462-8837-a4f4cc5ebcd0",
   "metadata": {},
   "outputs": [
    {
     "name": "stdin",
     "output_type": "stream",
     "text": [
      "Enter a string:  what is your my name\n",
      "Enter the word you want to remove:  my\n"
     ]
    },
    {
     "name": "stdout",
     "output_type": "stream",
     "text": [
      "Updated string: what is your name\n"
     ]
    }
   ],
   "source": [
    "input_string = input(\"Enter a string: \")\n",
    "word_to_remove = input(\"Enter the word you want to remove: \")\n",
    "words = input_string.split()\n",
    "words = [word for word in words if word != word_to_remove] \n",
    "result_string = ' '.join(words)\n",
    "print(\"Updated string:\", result_string)\n"
   ]
  },
  {
   "cell_type": "raw",
   "id": "9a09f436-619f-4641-8385-064fcb449596",
   "metadata": {},
   "source": [
    "6. Write a program that reads a string from the user containing a date in the form mm/dd/yyyy. It \n",
    "should print the date in the form March 12, 2021"
   ]
  },
  {
   "cell_type": "code",
   "execution_count": 21,
   "id": "90847b4f-714d-40e8-b3c0-b56234d358c9",
   "metadata": {},
   "outputs": [
    {
     "name": "stdin",
     "output_type": "stream",
     "text": [
      "Enter the date in mm/dd/yyyy format: 2/4/2004\n"
     ]
    },
    {
     "name": "stdout",
     "output_type": "stream",
     "text": [
      "February 4 2004\n"
     ]
    }
   ],
   "source": [
    "date=input(\"Enter the date in mm/dd/yyyy format:\")\n",
    "month,day,year=date.split('/')\n",
    "months=[\n",
    "        \"January\", \"February\", \"March\", \"April\", \"May\", \"June\",\n",
    "        \"July\", \"August\", \"September\", \"October\", \"November\", \"December\"\n",
    "    ]\n",
    "month_name = months[int(month)-1]\n",
    "print(f\"{month_name} {int(day)} {year}\")"
   ]
  },
  {
   "cell_type": "raw",
   "id": "e1b5e872-4ec6-436f-8c3d-ee19d8b1718f",
   "metadata": {},
   "source": [
    "7. Write a program with a function that accepts a string from keyboard and create a new string after \n",
    "converting character of each word capitalized. For instance, if the sentence is \"stop and smell the roses.\" \n",
    "the output should be \"Stop And Smell The Roses\""
   ]
  },
  {
   "cell_type": "code",
   "execution_count": 31,
   "id": "5195bae9-39a9-4cc6-bab0-c06c4949f17f",
   "metadata": {},
   "outputs": [
    {
     "name": "stdin",
     "output_type": "stream",
     "text": [
      "Enter a sentence:  stop and smell the roses\n"
     ]
    },
    {
     "name": "stdout",
     "output_type": "stream",
     "text": [
      "The capitalized sentence is: Stop And Smell The Roses\n"
     ]
    }
   ],
   "source": [
    "def capitalize_words(sentence):\n",
    "    words = sentence.split()\n",
    "    capitalized_words = [word.capitalize() for word in words]\n",
    "    capitalized_sentence = ' '.join(capitalized_words)\n",
    "    return capitalized_sentence\n",
    "sentence = input(\"Enter a sentence: \")\n",
    "capitalized_sentence = capitalize_words(sentence)\n",
    "print(\"The capitalized sentence is:\", capitalized_sentence)\n"
   ]
  },
  {
   "cell_type": "raw",
   "id": "b5e8a1eb-1d7c-43b8-a122-9b8be922ce08",
   "metadata": {},
   "source": [
    "Find the sum of each row of matrix of size m x n. For example for the following matrix output will be \n",
    "like this :\n",
    "  2  11  7   12\n",
    "  5  2   9   15\n",
    "  8  3  10   42\n",
    "Sum of row 1 = 32 \n",
    "Sum of row 2 = 31 \n",
    "Sum of row 3 = 63 "
   ]
  },
  {
   "cell_type": "code",
   "execution_count": 1,
   "id": "dd253cb4-9e6c-44df-88fa-02b327127bf4",
   "metadata": {},
   "outputs": [
    {
     "name": "stdout",
     "output_type": "stream",
     "text": [
      "Sum of row 1 = 74\n",
      "Sum of row 2 = 52\n",
      "Sum of row 3 = 94\n"
     ]
    }
   ],
   "source": [
    "matrix = [\n",
    "    [2, 11, 7, 12, 5, 2, 9, 15, 8, 3],\n",
    "    [10, 42],\n",
    "    [31, 63]\n",
    "]\n",
    "\n",
    "for i, row in enumerate(matrix):\n",
    "    print(\"Sum of row\", i+1, \"=\", sum(row))\n",
    "\n",
    "\n"
   ]
  },
  {
   "cell_type": "code",
   "execution_count": 29,
   "id": "87053e8f-ffaf-472c-ae9c-a608d063b32e",
   "metadata": {},
   "outputs": [
    {
     "name": "stdout",
     "output_type": "stream",
     "text": [
      "[2, 3, 4]\n",
      "[4, 5, 6]\n",
      "[7, 8, 9]\n"
     ]
    }
   ],
   "source": [
    "a = [\n",
    "       [2,3,4],\n",
    "       [4,5,6],\n",
    "       [7,8,9]]\n",
    "matrix_sum=[\n",
    "\n",
    "             [0,0,0],\n",
    "             [0,0,0],\n",
    "             [0,0,0]]\n",
    "for x in range (len(a)):\n",
    "    for y in range (len(a[0])):\n",
    "        matrix_sum[x][y] = a[x][y]\n",
    "for i in matrix_sum:\n",
    "    print(i)"
   ]
  },
  {
   "cell_type": "raw",
   "id": "77fb3d51-8ed5-4534-a303-b748474ef7cd",
   "metadata": {},
   "source": [
    "9. Write a program to add two matrices of size n x m."
   ]
  },
  {
   "cell_type": "code",
   "execution_count": 25,
   "id": "d7748eda-0b78-45f8-b077-e40e95af4a18",
   "metadata": {},
   "outputs": [
    {
     "name": "stdout",
     "output_type": "stream",
     "text": [
      "[[11, 5, 5], [6, 9, 12], [8, 11, 14]]\n",
      "\n",
      "\n",
      "[11, 5, 5]\n",
      "[6, 9, 12]\n",
      "[8, 11, 14]\n"
     ]
    }
   ],
   "source": [
    "a = [\n",
    "       [2,3,4],\n",
    "       [4,5,6],\n",
    "       [7,8,9]]\n",
    "\n",
    "b = [\n",
    "       [9,2,1],\n",
    "       [2,4,6],\n",
    "       [1,3,5]]\n",
    "\n",
    "result = [\n",
    "       [0,0,0],\n",
    "       [0,0,0],\n",
    "       [0,0,0]]\n",
    "for i in range (len(a)):\n",
    "    for j in range (len(a[0])):\n",
    "        result[i][j] = a[i][j] + b[i][j]\n",
    "print(result)\n",
    "print()\n",
    "print()\n",
    "for r in result:\n",
    "    print(r)"
   ]
  },
  {
   "cell_type": "raw",
   "id": "d25464c8-ee63-4f05-87b5-d4e138ff1de9",
   "metadata": {},
   "source": [
    "10. Write a program to multiply two matrice"
   ]
  },
  {
   "cell_type": "code",
   "execution_count": 27,
   "id": "d61b9355-5061-4b4e-a165-4a2329be34bb",
   "metadata": {},
   "outputs": [
    {
     "name": "stdout",
     "output_type": "stream",
     "text": [
      "[[5, 10, 9], [7, 12, 11], [10, 15, 14]]\n",
      "\n",
      "\n",
      "[5, 10, 9]\n",
      "[7, 12, 11]\n",
      "[10, 15, 14]\n"
     ]
    }
   ],
   "source": [
    "a = [\n",
    "       [2,3,4],\n",
    "       [4,5,6],\n",
    "       [7,8,9]]\n",
    "\n",
    "b = [\n",
    "       [9,2,1],\n",
    "       [2,4,6],\n",
    "       [1,3,5]]\n",
    "\n",
    "result = [\n",
    "       [0,0,0],\n",
    "       [0,0,0],\n",
    "       [0,0,0]]\n",
    "\n",
    "for i in range (len(a)):\n",
    "    for j in range (len(b[0])):\n",
    "        for k in range (len(b)):\n",
    "            result[i][j] = a[i][k] + b[j][k]\n",
    "print(result)\n",
    "print()\n",
    "print()\n",
    "for r in result:\n",
    "    print(r)"
   ]
  },
  {
   "cell_type": "code",
   "execution_count": null,
   "id": "eba12208-2ed3-425f-bcbf-ff406883a3c5",
   "metadata": {},
   "outputs": [],
   "source": []
  },
  {
   "cell_type": "code",
   "execution_count": null,
   "id": "65a71519-50d1-4220-860f-d7af01050a48",
   "metadata": {},
   "outputs": [],
   "source": []
  }
 ],
 "metadata": {
  "kernelspec": {
   "display_name": "Python 3 (ipykernel)",
   "language": "python",
   "name": "python3"
  },
  "language_info": {
   "codemirror_mode": {
    "name": "ipython",
    "version": 3
   },
   "file_extension": ".py",
   "mimetype": "text/x-python",
   "name": "python",
   "nbconvert_exporter": "python",
   "pygments_lexer": "ipython3",
   "version": "3.12.7"
  }
 },
 "nbformat": 4,
 "nbformat_minor": 5
}
